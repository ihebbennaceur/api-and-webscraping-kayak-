{
  "nbformat": 4,
  "nbformat_minor": 0,
  "metadata": {
    "colab": {
      "provenance": []
    },
    "kernelspec": {
      "name": "python3",
      "display_name": "Python 3"
    },
    "language_info": {
      "name": "python"
    }
  },
  "cells": [
    {
      "cell_type": "code",
      "execution_count": 458,
      "metadata": {
        "id": "JwW7fdwgE8-Y"
      },
      "outputs": [],
      "source": [
        "#for scraping booking\n",
        "from urllib.request import urlopen\n",
        "import requests\n",
        "from bs4 import BeautifulSoup\n",
        "import pandas as pd\n",
        "import numpy as np\n",
        "#for scraping +api\n",
        "import pandas as pd\n",
        "import json\n",
        "import plotly.io as pio\n",
        "import plotly.express as px"
      ]
    },
    {
      "cell_type": "markdown",
      "source": [
        "# ***we work on (Paris) at the begning at the end of the page we work on all***"
      ],
      "metadata": {
        "id": "3j6WV9zfHhpB"
      }
    },
    {
      "cell_type": "code",
      "source": [
        "r2=requests.get('https://www.booking.com/searchresults.fr.html?ss=Le+Mont-Saint-Michel&ssne=Le+Mont-Saint-Michel&ssne_untouched=Le+Mont-Saint-Michel&efdco=1&label=gen173nr-1BCAEoggI46AdIM1gEaOIBiAEBmAENuAEGyAEM2AEB6AEBiAIBqAIDuAK0iaSjBsACAdICJDI0ZTRjMGQzLTkwNjctNGJkZi04MWYzLWZhODIwNjdjZDViN9gCBeACAQ&sid=25116a3e813b55f0478b91d5b7063890&aid=304142&lang=fr&sb=1&src_elem=sb&src=searchresults&dest_id=900039327&dest_type=city&group_adults=2&no_rooms=1&group_children=0')\n",
        "r2.text[0:200]\n"
      ],
      "metadata": {
        "colab": {
          "base_uri": "https://localhost:8080/",
          "height": 36
        },
        "id": "UcGpfO0CFBwQ",
        "outputId": "6e8af427-3af8-4ff9-d11d-f17ea1971093"
      },
      "execution_count": 459,
      "outputs": [
        {
          "output_type": "execute_result",
          "data": {
            "text/plain": [
              "\"<!DOCTYPE html>\\n<!--\\nYou know you could be getting paid to poke around in our code?\\nWe're hiring designers and developers to work in Amsterdam:\\nhttps://careers.booking.com/\\n-->\\n<!-- wdot-802 -->\\n<scri\""
            ],
            "application/vnd.google.colaboratory.intrinsic+json": {
              "type": "string"
            }
          },
          "metadata": {},
          "execution_count": 459
        }
      ]
    },
    {
      "cell_type": "code",
      "source": [
        "# Instanciate BeautifulSoup class\n",
        "soup2=BeautifulSoup( r2.text, \"html.parser\") # Here we used an HTML Parser"
      ],
      "metadata": {
        "id": "JPbB_WAJFPnC"
      },
      "execution_count": 460,
      "outputs": []
    },
    {
      "cell_type": "code",
      "source": [
        "#loonking for hotel links\n",
        "for i in soup2.find_all('a') :\n",
        "  print(i.attrs)"
      ],
      "metadata": {
        "colab": {
          "base_uri": "https://localhost:8080/"
        },
        "id": "_hpB5abdFWzL",
        "outputId": "26c0684d-49d0-45f3-a331-120054f7a5c9"
      },
      "execution_count": 461,
      "outputs": [
        {
          "output_type": "stream",
          "name": "stdout",
          "text": [
            "{'href': '#skipto_main', 'class': ['a11y-skip-to-content']}\n",
            "{'href': 'https://www.booking.com/index.fr.html', 'aria-label': \"Booking.com réservations d'hôtels en ligne\", 'data-et-click': '\\nYTBUIHOdVLBLKAMZUC:1\\nYTBUIHOdVLBLKAMZUC:2\\n'}\n",
            "{'class': ['bui-list-item', 'bui-list-item--size-small', 'js-header-language-item'], 'href': '/city/fr/le-mont-saint-michel.en-gb.html', 'data-lang': 'en-gb', 'hreflang': 'en-gb', 'data-et-click': 'customGoal:YTTHbXeeVJWcWPaDMWOMHTccTBLWCAWdPZKe:1'}\n",
            "{'class': ['bui-list-item', 'bui-list-item--size-small', 'js-header-language-item'], 'href': '/city/fr/le-mont-saint-michel.html', 'data-lang': 'en-us', 'hreflang': 'en-us', 'data-et-click': 'customGoal:YTTHbXeeVJWcWPaDMWOMHTccTBLWCAWdPZKe:1'}\n",
            "{'class': ['bui-list-item', 'bui-list-item--size-small', 'js-header-language-item'], 'href': '/city/fr/le-mont-saint-michel.es.html', 'data-lang': 'es', 'hreflang': 'es', 'data-et-click': 'customGoal:YTTHbXeeVJWcWPaDMWOMHTccTBLWCAWdPZKe:1'}\n",
            "{'class': ['bui-list-item', 'bui-list-item--size-small', 'js-header-language-item'], 'href': '/city/fr/le-mont-saint-michel.zh-cn.html', 'data-lang': 'zh-cn', 'hreflang': 'zh-cn', 'data-et-click': 'customGoal:YTTHbXeeVJWcWPaDMWOMHTccTBLWCAWdPZKe:1'}\n",
            "{'class': ['bui-list-item', 'bui-list-item--size-small', 'js-header-language-item'], 'href': '/city/fr/le-mont-saint-michel.de.html', 'data-lang': 'de', 'hreflang': 'de', 'data-et-click': 'customGoal:YTTHbXeeVJWcWPaDMWOMHTccTBLWCAWdPZKe:1'}\n",
            "{'class': ['bui-list-item', 'bui-list-item--size-small', 'js-header-language-item'], 'href': '/city/fr/le-mont-saint-michel.en-gb.html', 'data-lang': 'en-gb', 'hreflang': 'en-gb', 'data-et-click': 'customGoal:YTTHbXeeVJWcWPaDMWOMHTccTBLWCAWdPZKe:1'}\n",
            "{'class': ['bui-list-item', 'bui-list-item--size-small', 'js-header-language-item'], 'href': '/city/fr/le-mont-saint-michel.html', 'data-lang': 'en-us', 'hreflang': 'en-us', 'data-et-click': 'customGoal:YTTHbXeeVJWcWPaDMWOMHTccTBLWCAWdPZKe:1'}\n",
            "{'class': ['bui-list-item', 'bui-list-item--size-small', 'js-header-language-item'], 'href': '/city/fr/le-mont-saint-michel.de.html', 'data-lang': 'de', 'hreflang': 'de', 'data-et-click': 'customGoal:YTTHbXeeVJWcWPaDMWOMHTccTBLWCAWdPZKe:1'}\n",
            "{'class': ['bui-list-item', 'bui-list-item--size-small', 'js-header-language-item'], 'href': '/city/fr/le-mont-saint-michel.nl.html', 'data-lang': 'nl', 'hreflang': 'nl', 'data-et-click': 'customGoal:YTTHbXeeVJWcWPaDMWOMHTccTBLWCAWdPZKe:1'}\n",
            "{'class': ['bui-list-item', 'bui-list-item--size-small', 'js-header-language-item', 'bui-list-item--active'], 'href': '/city/fr/le-mont-saint-michel.fr.html', 'data-lang': 'fr', 'hreflang': 'fr', 'data-et-click': 'customGoal:YTTHbXeeVJWcWPaDMWOMHTccTBLWCAWdPZKe:1'}\n",
            "{'class': ['bui-list-item', 'bui-list-item--size-small', 'js-header-language-item'], 'href': '/city/fr/le-mont-saint-michel.es.html', 'data-lang': 'es', 'hreflang': 'es', 'data-et-click': 'customGoal:YTTHbXeeVJWcWPaDMWOMHTccTBLWCAWdPZKe:1'}\n",
            "{'class': ['bui-list-item', 'bui-list-item--size-small', 'js-header-language-item'], 'href': '/city/fr/le-mont-saint-michel.es-ar.html', 'data-lang': 'es-ar', 'hreflang': 'es-ar', 'data-et-click': 'customGoal:YTTHbXeeVJWcWPaDMWOMHTccTBLWCAWdPZKe:1'}\n",
            "{'class': ['bui-list-item', 'bui-list-item--size-small', 'js-header-language-item'], 'href': '/city/fr/le-mont-saint-michel.es-mx.html', 'data-lang': 'es-mx', 'hreflang': 'es-mx', 'data-et-click': 'customGoal:YTTHbXeeVJWcWPaDMWOMHTccTBLWCAWdPZKe:1'}\n",
            "{'class': ['bui-list-item', 'bui-list-item--size-small', 'js-header-language-item'], 'href': '/city/fr/le-mont-saint-michel.ca.html', 'data-lang': 'ca', 'hreflang': 'ca', 'data-et-click': 'customGoal:YTTHbXeeVJWcWPaDMWOMHTccTBLWCAWdPZKe:1'}\n",
            "{'class': ['bui-list-item', 'bui-list-item--size-small', 'js-header-language-item'], 'href': '/city/fr/le-mont-saint-michel.it.html', 'data-lang': 'it', 'hreflang': 'it', 'data-et-click': 'customGoal:YTTHbXeeVJWcWPaDMWOMHTccTBLWCAWdPZKe:1'}\n",
            "{'class': ['bui-list-item', 'bui-list-item--size-small', 'js-header-language-item'], 'href': '/city/fr/le-mont-saint-michel.pt-pt.html', 'data-lang': 'pt-pt', 'hreflang': 'pt-pt', 'data-et-click': 'customGoal:YTTHbXeeVJWcWPaDMWOMHTccTBLWCAWdPZKe:1'}\n",
            "{'class': ['bui-list-item', 'bui-list-item--size-small', 'js-header-language-item'], 'href': '/city/fr/le-mont-saint-michel.pt-br.html', 'data-lang': 'pt-br', 'hreflang': 'pt-br', 'data-et-click': 'customGoal:YTTHbXeeVJWcWPaDMWOMHTccTBLWCAWdPZKe:1'}\n",
            "{'class': ['bui-list-item', 'bui-list-item--size-small', 'js-header-language-item'], 'href': '/city/fr/le-mont-saint-michel.no.html', 'data-lang': 'no', 'hreflang': 'no', 'data-et-click': 'customGoal:YTTHbXeeVJWcWPaDMWOMHTccTBLWCAWdPZKe:1'}\n",
            "{'class': ['bui-list-item', 'bui-list-item--size-small', 'js-header-language-item'], 'href': '/city/fr/le-mont-saint-michel.fi.html', 'data-lang': 'fi', 'hreflang': 'fi', 'data-et-click': 'customGoal:YTTHbXeeVJWcWPaDMWOMHTccTBLWCAWdPZKe:1'}\n",
            "{'class': ['bui-list-item', 'bui-list-item--size-small', 'js-header-language-item'], 'href': '/city/fr/le-mont-saint-michel.sv.html', 'data-lang': 'sv', 'hreflang': 'sv', 'data-et-click': 'customGoal:YTTHbXeeVJWcWPaDMWOMHTccTBLWCAWdPZKe:1'}\n",
            "{'class': ['bui-list-item', 'bui-list-item--size-small', 'js-header-language-item'], 'href': '/city/fr/le-mont-saint-michel.da.html', 'data-lang': 'da', 'hreflang': 'da', 'data-et-click': 'customGoal:YTTHbXeeVJWcWPaDMWOMHTccTBLWCAWdPZKe:1'}\n",
            "{'class': ['bui-list-item', 'bui-list-item--size-small', 'js-header-language-item'], 'href': '/city/fr/le-mont-saint-michel.cs.html', 'data-lang': 'cs', 'hreflang': 'cs', 'data-et-click': 'customGoal:YTTHbXeeVJWcWPaDMWOMHTccTBLWCAWdPZKe:1'}\n",
            "{'class': ['bui-list-item', 'bui-list-item--size-small', 'js-header-language-item'], 'href': '/city/fr/le-mont-saint-michel.hu.html', 'data-lang': 'hu', 'hreflang': 'hu', 'data-et-click': 'customGoal:YTTHbXeeVJWcWPaDMWOMHTccTBLWCAWdPZKe:1'}\n",
            "{'class': ['bui-list-item', 'bui-list-item--size-small', 'js-header-language-item'], 'href': '/city/fr/le-mont-saint-michel.ro.html', 'data-lang': 'ro', 'hreflang': 'ro', 'data-et-click': 'customGoal:YTTHbXeeVJWcWPaDMWOMHTccTBLWCAWdPZKe:1'}\n",
            "{'class': ['bui-list-item', 'bui-list-item--size-small', 'js-header-language-item'], 'href': '/city/fr/le-mont-saint-michel.ja.html', 'data-lang': 'ja', 'hreflang': 'ja', 'data-et-click': 'customGoal:YTTHbXeeVJWcWPaDMWOMHTccTBLWCAWdPZKe:1'}\n",
            "{'class': ['bui-list-item', 'bui-list-item--size-small', 'js-header-language-item'], 'href': '/city/fr/le-mont-saint-michel.zh-cn.html', 'data-lang': 'zh-cn', 'hreflang': 'zh-cn', 'data-et-click': 'customGoal:YTTHbXeeVJWcWPaDMWOMHTccTBLWCAWdPZKe:1'}\n",
            "{'class': ['bui-list-item', 'bui-list-item--size-small', 'js-header-language-item'], 'href': '/city/fr/le-mont-saint-michel.zh-tw.html', 'data-lang': 'zh-tw', 'hreflang': 'zh-tw', 'data-et-click': 'customGoal:YTTHbXeeVJWcWPaDMWOMHTccTBLWCAWdPZKe:1'}\n",
            "{'class': ['bui-list-item', 'bui-list-item--size-small', 'js-header-language-item'], 'href': '/city/fr/le-mont-saint-michel.pl.html', 'data-lang': 'pl', 'hreflang': 'pl', 'data-et-click': 'customGoal:YTTHbXeeVJWcWPaDMWOMHTccTBLWCAWdPZKe:1'}\n",
            "{'class': ['bui-list-item', 'bui-list-item--size-small', 'js-header-language-item'], 'href': '/city/fr/le-mont-saint-michel.el.html', 'data-lang': 'el', 'hreflang': 'el', 'data-et-click': 'customGoal:YTTHbXeeVJWcWPaDMWOMHTccTBLWCAWdPZKe:1'}\n",
            "{'class': ['bui-list-item', 'bui-list-item--size-small', 'js-header-language-item'], 'href': '/city/fr/le-mont-saint-michel.ru.html', 'data-lang': 'ru', 'hreflang': 'ru', 'data-et-click': 'customGoal:YTTHbXeeVJWcWPaDMWOMHTccTBLWCAWdPZKe:1'}\n",
            "{'class': ['bui-list-item', 'bui-list-item--size-small', 'js-header-language-item'], 'href': '/city/fr/le-mont-saint-michel.tr.html', 'data-lang': 'tr', 'hreflang': 'tr', 'data-et-click': 'customGoal:YTTHbXeeVJWcWPaDMWOMHTccTBLWCAWdPZKe:1'}\n",
            "{'class': ['bui-list-item', 'bui-list-item--size-small', 'js-header-language-item'], 'href': '/city/fr/le-mont-saint-michel.bg.html', 'data-lang': 'bg', 'hreflang': 'bg', 'data-et-click': 'customGoal:YTTHbXeeVJWcWPaDMWOMHTccTBLWCAWdPZKe:1'}\n",
            "{'class': ['bui-list-item', 'bui-list-item--size-small', 'js-header-language-item'], 'href': '/city/fr/le-mont-saint-michel.ar.html', 'data-lang': 'ar', 'hreflang': 'ar', 'data-et-click': 'customGoal:YTTHbXeeVJWcWPaDMWOMHTccTBLWCAWdPZKe:1'}\n",
            "{'class': ['bui-list-item', 'bui-list-item--size-small', 'js-header-language-item'], 'href': '/city/fr/le-mont-saint-michel.ko.html', 'data-lang': 'ko', 'hreflang': 'ko', 'data-et-click': 'customGoal:YTTHbXeeVJWcWPaDMWOMHTccTBLWCAWdPZKe:1'}\n",
            "{'class': ['bui-list-item', 'bui-list-item--size-small', 'js-header-language-item'], 'href': '/city/fr/le-mont-saint-michel.he.html', 'data-lang': 'he', 'hreflang': 'he', 'data-et-click': 'customGoal:YTTHbXeeVJWcWPaDMWOMHTccTBLWCAWdPZKe:1'}\n",
            "{'class': ['bui-list-item', 'bui-list-item--size-small', 'js-header-language-item'], 'href': '/city/fr/le-mont-saint-michel.lv.html', 'data-lang': 'lv', 'hreflang': 'lv', 'data-et-click': 'customGoal:YTTHbXeeVJWcWPaDMWOMHTccTBLWCAWdPZKe:1'}\n",
            "{'class': ['bui-list-item', 'bui-list-item--size-small', 'js-header-language-item'], 'href': '/city/fr/le-mont-saint-michel.uk.html', 'data-lang': 'uk', 'hreflang': 'uk', 'data-et-click': 'customGoal:YTTHbXeeVJWcWPaDMWOMHTccTBLWCAWdPZKe:1'}\n",
            "{'class': ['bui-list-item', 'bui-list-item--size-small', 'js-header-language-item'], 'href': '/city/fr/le-mont-saint-michel.id.html', 'data-lang': 'id', 'hreflang': 'id', 'data-et-click': 'customGoal:YTTHbXeeVJWcWPaDMWOMHTccTBLWCAWdPZKe:1'}\n",
            "{'class': ['bui-list-item', 'bui-list-item--size-small', 'js-header-language-item'], 'href': '/city/fr/le-mont-saint-michel.ms.html', 'data-lang': 'ms', 'hreflang': 'ms', 'data-et-click': 'customGoal:YTTHbXeeVJWcWPaDMWOMHTccTBLWCAWdPZKe:1'}\n",
            "{'class': ['bui-list-item', 'bui-list-item--size-small', 'js-header-language-item'], 'href': '/city/fr/le-mont-saint-michel.th.html', 'data-lang': 'th', 'hreflang': 'th', 'data-et-click': 'customGoal:YTTHbXeeVJWcWPaDMWOMHTccTBLWCAWdPZKe:1'}\n",
            "{'class': ['bui-list-item', 'bui-list-item--size-small', 'js-header-language-item'], 'href': '/city/fr/le-mont-saint-michel.et.html', 'data-lang': 'et', 'hreflang': 'et', 'data-et-click': 'customGoal:YTTHbXeeVJWcWPaDMWOMHTccTBLWCAWdPZKe:1'}\n",
            "{'class': ['bui-list-item', 'bui-list-item--size-small', 'js-header-language-item'], 'href': '/city/fr/le-mont-saint-michel.hr.html', 'data-lang': 'hr', 'hreflang': 'hr', 'data-et-click': 'customGoal:YTTHbXeeVJWcWPaDMWOMHTccTBLWCAWdPZKe:1'}\n",
            "{'class': ['bui-list-item', 'bui-list-item--size-small', 'js-header-language-item'], 'href': '/city/fr/le-mont-saint-michel.lt.html', 'data-lang': 'lt', 'hreflang': 'lt', 'data-et-click': 'customGoal:YTTHbXeeVJWcWPaDMWOMHTccTBLWCAWdPZKe:1'}\n",
            "{'class': ['bui-list-item', 'bui-list-item--size-small', 'js-header-language-item'], 'href': '/city/fr/le-mont-saint-michel.sk.html', 'data-lang': 'sk', 'hreflang': 'sk', 'data-et-click': 'customGoal:YTTHbXeeVJWcWPaDMWOMHTccTBLWCAWdPZKe:1'}\n",
            "{'class': ['bui-list-item', 'bui-list-item--size-small', 'js-header-language-item'], 'href': '/city/fr/le-mont-saint-michel.sr.html', 'data-lang': 'sr', 'hreflang': 'sr', 'data-et-click': 'customGoal:YTTHbXeeVJWcWPaDMWOMHTccTBLWCAWdPZKe:1'}\n",
            "{'class': ['bui-list-item', 'bui-list-item--size-small', 'js-header-language-item'], 'href': '/city/fr/le-mont-saint-michel.sl.html', 'data-lang': 'sl', 'hreflang': 'sl', 'data-et-click': 'customGoal:YTTHbXeeVJWcWPaDMWOMHTccTBLWCAWdPZKe:1'}\n",
            "{'class': ['bui-list-item', 'bui-list-item--size-small', 'js-header-language-item'], 'href': '/city/fr/le-mont-saint-michel.vi.html', 'data-lang': 'vi', 'hreflang': 'vi', 'data-et-click': 'customGoal:YTTHbXeeVJWcWPaDMWOMHTccTBLWCAWdPZKe:1'}\n",
            "{'class': ['bui-list-item', 'bui-list-item--size-small', 'js-header-language-item'], 'href': '/city/fr/le-mont-saint-michel.tl.html', 'data-lang': 'tl', 'hreflang': 'tl', 'data-et-click': 'customGoal:YTTHbXeeVJWcWPaDMWOMHTccTBLWCAWdPZKe:1'}\n",
            "{'class': ['bui-list-item', 'bui-list-item--size-small', 'js-header-language-item'], 'href': '/city/fr/le-mont-saint-michel.is.html', 'data-lang': 'is', 'hreflang': 'is', 'data-et-click': 'customGoal:YTTHbXeeVJWcWPaDMWOMHTccTBLWCAWdPZKe:1'}\n",
            "{'class': ['bui-button', 'bui-button--light', 'bui-button--large'], 'data-bui-component': 'Tooltip', 'data-tooltip-position': 'bottom', 'title': 'Contacter le Service Clients', 'href': 'https://secure.booking.com/help.fr.html', 'data-ga-track': 'click|Click|Action: city|hc_entrypoint_top_header', 'data-et-click': ' customGoal:YTBUIHOdBOcaGPaVHXT:4 customGoal:YTTHbXeeVJWcSMQZbIYUbHTXSfVSCKdeRe:4 customGoal:YTTHbXeeVJWcWPaDMWOMHTccTBLWCAWdPZKe:3 '}\n",
            "{'class': ['bui-button', 'bui-button--light', 'bui-traveller-header__product-action'], 'href': 'https://join.booking.com/?lang=fr&utm_source=topbar&utm_medium=frontend&amp;label=gen000nr-10CAMoTUIUbGUtbW9udC1zYWludC1taWNoZWxIDVgEaE2IAQGYATO4AQXIAR7YAQPoAQH4AQGIAgGoAgG4Au-JpKMGwAIB0gIkMmU4ZmQxNmYtMTUwNC00ZWM0LTg5ODItZTAwZTAyNGZjNDVi2AIB4AIB&amp;aid=304142', 'target': '_blank', 'style': 'position: relative', 'data-et-click': ' customGoal:YTBUIHOdBOcaGPaVHXT:3 customGoal:YTTHbXeeVJWcSMQZbIYUbHTXSfVSCKdeRe:2 customGoal:YTTHbXeeVJWcWPaDMWOMHTccTBLWCAWdPZKe:5 '}\n",
            "{'class': ['bui-button', 'bui-button--secondary', 'js-header-login-link'], 'href': 'https://account.booking.com/auth/oauth2?lang=fr&client_id=vO1Kblk7xX9tUn2cpZLS&dt=1684604144&redirect_uri=https%3A%2F%2Fsecure.booking.com%2Flogin.html%3Fop%3Doauth_return&response_type=code&bkng_action=city&prompt=register&aid=304142&state=Ut4B4ep4m2VB7zuEHzPQafjypSv_qWGeohgfbip5isU-tYrWdUwlJ_xuXicbA8Kq7pfipJ5ZLJDwhpNUF-AaAPUBD-3edkGPeIpCA4To_ybvI1_v9cjiQC7kkyrxixNQjzmbHXk3zeBhAtgM88CFTlpbqEIjDTV8ZZFPuT82RwGsM0BTC3XnbZcTWaXcOPKBqXXYqycHf-N7EI0W_5SezMUAAC-DcneFJ4pCdS0_bTPUvq4JqcQHq8I2RBZblC1PDuVtx_deMbR32uzxBiEt__KHpp74O9L0IjwNDfcBoRfB', 'data-google-track': 'Click/Action: city/header_logged_out_link_box', 'data-et-click': ' customGoal:YTBUIHOdBOcaGPaVHXT:1 customGoal:cCHObTVXBUPACQVZMYCdKNKNKZQWe:3 customGoal:YTTHbXeeVJWcSMQZbIYUbHTXSfVSCKdeRe:1 '}\n",
            "{'class': ['bui-button', 'bui-button--secondary', 'js-header-login-link'], 'href': 'https://account.booking.com/auth/oauth2?redirect_uri=https%3A%2F%2Fsecure.booking.com%2Flogin.html%3Fop%3Doauth_return&dt=1684604144&response_type=code&bkng_action=city&client_id=vO1Kblk7xX9tUn2cpZLS&lang=fr&aid=304142&state=Ut4B4ep4m2VB7zuB-d7nqTdNaXsnlqr61kLTb3Z1KXCQaHcjZurNWFg4aoWy1LK1SSCvfC8HtZNiNcUAP8W9ep5ox3UlXuJQotNLAzLEdzSi6WAfw6aGlwG1IxEIaFgWGhjGj1Y7aImp3t5f7gEVfCh2afSC9EsGABRFNmZnuo1cTQ-Zm7AhfoHGdS0lURH49i3LvoEs9eedzcfjK6BvvrPYPNnNfQjw6dx9ALvrn-9i_bnd_RdNSJLJRZMrL1cMr7Z3LBUsDl_ZwLd4cpCzkatClp7ymfoq6Rjiv1socNol', 'data-google-track': 'Click/Action: city/header_logged_out_link_box', 'data-component': 'dropdown-onload-shower', 'data-component-delay': '2000', 'data-component-position': 'bottom right', 'data-component-content': 'header_signin_prompt', 'data-component-show-once-key': 'header_signin_prompt', 'data-component-extra-class': 'bui-traveller-header__popover', 'data-component-ignore-clicks-outside': 'true', 'data-component-ignore-clicks-class': '#cookie_warning .close_warning', 'data-et-click': ' customGoal:YTBUIHOdBOcaGPaVHXT:2 customGoal:cCHObTVXBUPACQVZMYCdKNKNKZQWe:4 customGoal:YTTHbXeeVJWcSMQZbIYUbHTXSfVSCKOXKe:3 customGoal:YTTHbXeeVJWcSMQZbIYUbHTXSfVSCKOXKe:4 '}\n",
            "{'aria-current': 'page', 'class': ['bui-tab__link', 'bui-tab__link--selected'], 'href': '/index.fr.html', 'data-et-click': '\\ngoal:xpb_accommodation goal:xpb_total_clicks\\n', 'data-ga-track': 'click|Product Expansion|accommodation|booking (index)'}\n",
            "{'class': ['bui-tab__link'], 'href': '/flights/index.fr.html', 'data-decider-header': 'flights', 'data-et-click': '\\ngoal:xpb_flights goal:xpb_total_clicks\\n', 'data-ga-track': 'click|Product Expansion|flights|kayak (index)'}\n",
            "{'class': ['bui-tab__link'], 'data-et-click': '\\ngoal:xpb_packages\\ngoal:xpb_total_clicks\\n', 'rel': ['nofollow'], 'href': 'https://booking.com/pxgo?label=gen000nr-10CAMoTUIUbGUtbW9udC1zYWludC1taWNoZWxIDVgEaE2IAQGYATO4AQXIAR7YAQPoAQH4AQGIAgGoAgG4Au-JpKMGwAIB0gIkMmU4ZmQxNmYtMTUwNC00ZWM0LTg5ODItZTAwZTAyNGZjNDVi2AIB4AIB&lang=fr&aid=304142&token=UmFuZG9tSVYkc2RlIyh9Yb5s-oRzgw76bcWUd8wbcu_HQ_oNS0n5ow03Fu6L00r6FJaYLw_n7Axh1uz9J3U8F2o1lx8k749ABH7vZLXqCCoH1yCWtehJGuohAIKuON12YC8iCkc-6FLZJfYXjFT-ev2j2VYEPGqjU8i0ZQRvuy8gF4qmmektDBg96-Sk06nlCWtYHor7-m-jI-cTqalVDIxG4Tbj7S_gdrws-bnn0nu2oh69lY5h1pCfNwW39tggjsOOTdE14JB5uGVlLaUXuhu9FGKlqTuyrMKsqYEYXF_j15NZTKyCGBUMuDqOF1LY5YbVr5yj4vTSLxb9WdtTaKO5w2ZXOJaCLeooPAKzehKegbjlZBlO7YStovrSNEzXuU87kvmkbn4YNmOD-Az6EHudMNGk87VbzQNh-7NkWyH2f8wmaFyIr41uRZGQXQA4v8x8ii81VsMHFN9frh_CYGB5fBSSNaDZeS3T_NxthjpHLrv-VFdtmlZOTRD1L6XIBIMnRDLBJt8Wsre5cCMWYXrKWe-BB7wA_4O9AT6FKHQ&url=https%3A%2F%2Fbooking-dp-fr.lastminute.com', 'data-ga-track': 'click|Product Expansion|packages|lastminute (index)'}\n",
            "{'class': ['bui-tab__link'], 'href': '/cars/index.fr.html', 'data-decider-header': 'bookinggo', 'data-et-click': '\\ngoal:xpb_rentalcars goal:xpb_total_clicks\\n', 'data-ga-track': 'click|Product Expansion|cars|rentalcars (city)'}\n",
            "{'class': ['bui-tab__link'], 'href': '/attractions/city/fr/le-mont-saint-michel.fr.html', 'data-et-click': '\\ngoal:xpb_total_clicks\\n', 'data-decider-header': 'attractions', 'data-ga-track': 'click|Product Expansion|attractions|booking (index)'}\n",
            "{'class': ['bui-tab__link'], 'href': '/taxi/index.fr.html', 'data-decider-header': 'rideways', 'data-et-click': '\\ngoal:xpb_rideways\\ngoal:xpb_total_clicks\\n', 'data-ga-track': 'click|Product Expansion|airport_taxis|rideways (index)'}\n",
            "{'class': ['bui-link', 'coronavirus-banner__link'], 'href': 'https://www.booking.com/covid-19.html', 'target': '_blank', 'aria-label': 'Consultez les dernières restrictions de voyage relatives au COVID-19'}\n",
            "{'itemprop': 'item', 'href': '/index.fr.html', 'class': ['bui-link', 'bui-link--primary', 'bui_breadcrumb__link'], 'title': 'Booking.com', 'data-lp-ga-click': 'breadcrumbs:click'}\n",
            "{'itemprop': 'item', 'href': '/hotel/index.fr.html', 'class': ['bui-link', 'bui-link--primary', 'bui_breadcrumb__link'], 'title': 'Hôtels sur Booking.com', 'data-lp-ga-click': 'breadcrumbs:click'}\n",
            "{'itemprop': 'item', 'href': '/country/fr.fr.html', 'class': ['bui-link', 'bui-link--primary', 'bui_breadcrumb__link'], 'title': 'Hôtels en France', 'data-lp-ga-click': 'breadcrumbs:click'}\n",
            "{'class': ['bui-dropdown_link_trigger'], 'data-bui-ref': 'dropdown-button', 'aria-haspopup': 'true', 'data-et-click': '  customGoal:aXTfOFJZMYeKTcEKTUTZCWYO:4  '}\n",
            "{'href': '/apartments/country/fr.fr.html', 'class': ['bui-dropdown-menu__button'], 'title': 'Appartements en France', 'data-bui-ref': 'dropdown-item', 'role': 'link', 'tabindex': '1', 'data-lp-ga-click': 'breadcrumbs:click'}\n",
            "{'itemprop': 'item', 'href': '/region/fr/normandie.fr.html', 'class': ['bui-link', 'bui-link--primary', 'bui_breadcrumb__link'], 'title': 'Hôtels de cette région\\xa0:\\xa0Normandie', 'data-lp-ga-click': 'breadcrumbs:click'}\n",
            "{'class': ['bui-dropdown_link_trigger'], 'data-bui-ref': 'dropdown-button', 'aria-haspopup': 'true', 'data-et-click': '  customGoal:aXTfOFJZMYeKTcEKTUTZCWYO:4  '}\n",
            "{'href': '/apartments/region/fr/normandie.fr.html', 'class': ['bui-dropdown-menu__button'], 'title': 'Appartements de cette région : Normandie\\n', 'data-bui-ref': 'dropdown-item', 'role': 'link', 'tabindex': '1', 'data-lp-ga-click': 'breadcrumbs:click'}\n",
            "{'class': ['bui_breadcrumb__link_masked'], 'itemprop': 'item', 'href': '/city/fr/le-mont-saint-michel.fr.html', 'data-lp-ga-click': 'breadcrumbs:click'}\n",
            "{'class': ['bui-dropdown_link_trigger'], 'data-bui-ref': 'dropdown-button', 'aria-haspopup': 'true', 'data-et-click': '  customGoal:aXTfOFJZMYeKTcEKTUTZCWYO:4  '}\n",
            "{'href': '/family/city/fr/le-mont-saint-michel.fr.html', 'class': ['bui-dropdown-menu__button'], 'title': 'Hôtels pour les familles au Mont-Saint-Michel', 'data-bui-ref': 'dropdown-item', 'role': 'link', 'tabindex': '1', 'data-lp-ga-click': 'breadcrumbs:click'}\n",
            "{'href': '/tourism/city/fr/le-mont-saint-michel.fr.html', 'class': ['bui-dropdown-menu__button'], 'title': 'Visitez Le Mont-Saint-Michel', 'data-bui-ref': 'dropdown-item', 'role': 'link', 'tabindex': '2', 'data-lp-ga-click': 'breadcrumbs:click'}\n",
            "{'href': '/searchresults.fr.html?dest_id=900039327&dest_type=city&;map=1'}\n",
            "{'href': '/searchresults.fr.html?dest_id=900039327&dest_type=city&', 'aria-hidden': 'false', 'data-lp-ga-click': 'sr-snippet:click-image:1', 'data-et-click': 'customGoal:OATBaQJbVTbZXWSYHCSdUWAUC:1'}\n",
            "{'href': '/hotel/fr/vert.fr.html', 'title': 'Hôtel Vert - \\nHôtel au Mont-Saint-Michel \\n', 'data-lp-ga-click': 'sr-snippet:click-title:1', 'data-et-click': 'customGoal:OATBaQJbVTbZXWSYHCSdUWAUC:2'}\n",
            "{'class': ['bui-button', 'bui-button--primary'], 'href': '/searchresults.fr.html?dest_id=900039327&dest_type=city&', 'type': 'button', 'data-lp-ga-click': 'sr-snippet:click-cta:1'}\n",
            "{'href': '/searchresults.fr.html?dest_id=900039327&dest_type=city&', 'aria-hidden': 'false', 'data-lp-ga-click': 'sr-snippet:click-image:2', 'data-et-click': 'customGoal:OATBaQJbVTbZXWSYHCSdUWAUC:1'}\n",
            "{'href': '/hotel/fr/mont-saint-michel.fr.html', 'title': 'Mercure Mont Saint Michel - \\nHôtel au Mont-Saint-Michel \\n', 'data-lp-ga-click': 'sr-snippet:click-title:2', 'data-et-click': 'customGoal:OATBaQJbVTbZXWSYHCSdUWAUC:2'}\n",
            "{'class': ['bui-button', 'bui-button--primary'], 'href': '/searchresults.fr.html?dest_id=900039327&dest_type=city&', 'type': 'button', 'data-lp-ga-click': 'sr-snippet:click-cta:2'}\n",
            "{'href': '/searchresults.fr.html?dest_id=900039327&dest_type=city&', 'aria-hidden': 'false', 'data-lp-ga-click': 'sr-snippet:click-image:3', 'data-et-click': 'customGoal:OATBaQJbVTbZXWSYHCSdUWAUC:1'}\n",
            "{'href': '/hotel/fr/le-relais-saint-michel.fr.html', 'title': 'Le Relais Saint Michel - \\nHôtel au Mont-Saint-Michel \\n', 'data-lp-ga-click': 'sr-snippet:click-title:3', 'data-et-click': 'customGoal:OATBaQJbVTbZXWSYHCSdUWAUC:2'}\n",
            "{'class': ['bui-button', 'bui-button--primary'], 'href': '/searchresults.fr.html?dest_id=900039327&dest_type=city&', 'type': 'button', 'data-lp-ga-click': 'sr-snippet:click-cta:3'}\n",
            "{'href': '/searchresults.fr.html?dest_id=900039327&dest_type=city&', 'aria-hidden': 'false', 'data-lp-ga-click': 'sr-snippet:click-image:4', 'data-et-click': 'customGoal:OATBaQJbVTbZXWSYHCSdUWAUC:1'}\n",
            "{'href': '/hotel/fr/les-terrasses-poulard.fr.html', 'title': 'Les Terrasses Poulard - \\nHôtel au Mont-Saint-Michel \\n', 'data-lp-ga-click': 'sr-snippet:click-title:4', 'data-et-click': 'customGoal:OATBaQJbVTbZXWSYHCSdUWAUC:2'}\n",
            "{'class': ['bui-button', 'bui-button--primary'], 'href': '/searchresults.fr.html?dest_id=900039327&dest_type=city&', 'type': 'button', 'data-lp-ga-click': 'sr-snippet:click-cta:4'}\n",
            "{'href': '/searchresults.fr.html?dest_id=900039327&dest_type=city&', 'aria-hidden': 'false', 'data-lp-ga-click': 'sr-snippet:click-image:5', 'data-et-click': 'customGoal:OATBaQJbVTbZXWSYHCSdUWAUC:1'}\n",
            "{'href': '/hotel/fr/la-mere-poulard.fr.html', 'title': 'La Mère Poulard - \\nHôtel au Mont-Saint-Michel \\n', 'data-lp-ga-click': 'sr-snippet:click-title:5', 'data-et-click': 'customGoal:OATBaQJbVTbZXWSYHCSdUWAUC:2'}\n",
            "{'class': ['bui-button', 'bui-button--primary'], 'href': '/searchresults.fr.html?dest_id=900039327&dest_type=city&', 'type': 'button', 'data-lp-ga-click': 'sr-snippet:click-cta:5'}\n",
            "{'href': '/searchresults.fr.html?dest_id=900039327&dest_type=city&', 'aria-hidden': 'false', 'data-lp-ga-click': 'sr-snippet:click-image:6', 'data-et-click': 'customGoal:OATBaQJbVTbZXWSYHCSdUWAUC:1'}\n",
            "{'href': '/hotel/fr/de-la-digue.fr.html', 'title': 'Hotel De La Digue - \\nHôtel au Mont-Saint-Michel \\n', 'data-lp-ga-click': 'sr-snippet:click-title:6', 'data-et-click': 'customGoal:OATBaQJbVTbZXWSYHCSdUWAUC:2'}\n",
            "{'class': ['bui-button', 'bui-button--primary'], 'href': '/searchresults.fr.html?dest_id=900039327&dest_type=city&', 'type': 'button', 'data-lp-ga-click': 'sr-snippet:click-cta:6'}\n",
            "{'href': '/searchresults.fr.html?dest_id=900039327&dest_type=city&', 'aria-hidden': 'false', 'data-lp-ga-click': 'sr-snippet:click-image:7', 'data-et-click': 'customGoal:OATBaQJbVTbZXWSYHCSdUWAUC:1'}\n",
            "{'href': '/hotel/fr/hotel-gabriel.fr.html', 'title': 'Hotel Gabriel - \\nHôtel au Mont-Saint-Michel \\n', 'data-lp-ga-click': 'sr-snippet:click-title:7', 'data-et-click': 'customGoal:OATBaQJbVTbZXWSYHCSdUWAUC:2'}\n",
            "{'class': ['bui-button', 'bui-button--primary'], 'href': '/searchresults.fr.html?dest_id=900039327&dest_type=city&', 'type': 'button', 'data-lp-ga-click': 'sr-snippet:click-cta:7'}\n",
            "{'href': '/searchresults.fr.html?dest_id=900039327&dest_type=city&', 'aria-hidden': 'false', 'data-lp-ga-click': 'sr-snippet:click-image:8', 'data-et-click': 'customGoal:OATBaQJbVTbZXWSYHCSdUWAUC:1'}\n",
            "{'href': '/hotel/fr/le-mouton-blanc-le-mont-saint-michel.fr.html', 'title': 'Le Mouton Blanc - \\nHôtel au Mont-Saint-Michel \\n', 'data-lp-ga-click': 'sr-snippet:click-title:8', 'data-et-click': 'customGoal:OATBaQJbVTbZXWSYHCSdUWAUC:2'}\n",
            "{'class': ['bui-button', 'bui-button--primary'], 'href': '/searchresults.fr.html?dest_id=900039327&dest_type=city&', 'type': 'button', 'data-lp-ga-click': 'sr-snippet:click-cta:8'}\n",
            "{'href': '/searchresults.fr.html?dest_id=900039327&dest_type=city&', 'aria-hidden': 'false', 'data-lp-ga-click': 'sr-snippet:click-image:9', 'data-et-click': 'customGoal:OATBaQJbVTbZXWSYHCSdUWAUC:1'}\n",
            "{'href': '/hotel/fr/la-vieille-auberge-le-mont-saint-michel.fr.html', 'title': 'La Vieille Auberge - \\nHôtel au Mont-Saint-Michel \\n', 'data-lp-ga-click': 'sr-snippet:click-title:9', 'data-et-click': 'customGoal:OATBaQJbVTbZXWSYHCSdUWAUC:2'}\n",
            "{'class': ['bui-button', 'bui-button--primary'], 'href': '/searchresults.fr.html?dest_id=900039327&dest_type=city&', 'type': 'button', 'data-lp-ga-click': 'sr-snippet:click-cta:9'}\n",
            "{'href': '/searchresults.fr.html?dest_id=900039327&dest_type=city&', 'aria-hidden': 'false', 'data-lp-ga-click': 'sr-snippet:click-image:10', 'data-et-click': 'customGoal:OATBaQJbVTbZXWSYHCSdUWAUC:1'}\n",
            "{'href': '/hotel/fr/hotel-saint-aubert.fr.html', 'title': 'Le Saint Aubert - \\nHôtel au Mont-Saint-Michel \\n', 'data-lp-ga-click': 'sr-snippet:click-title:10', 'data-et-click': 'customGoal:OATBaQJbVTbZXWSYHCSdUWAUC:2'}\n",
            "{'class': ['bui-button', 'bui-button--primary'], 'href': '/searchresults.fr.html?dest_id=900039327&dest_type=city&', 'type': 'button', 'data-lp-ga-click': 'sr-snippet:click-cta:10'}\n",
            "{'href': '/searchresults.fr.html?city=900039327&', 'title': '\\nVoir les 13 hôtels au Mont-Saint-Michel\\n', 'class': ['bui-button', 'bui-button--wide', 'bui-button--primary'], 'data-lp-ga-click': 'sr-snippet:cilck-see-all-cta'}\n",
            "{'href': 'https://www.booking.com/hotel/fr/vert.fr.html', 'class': ['aeb12fd78f'], 'data-testid': 'hotelLink', 'title': 'Hôtel Vert'}\n",
            "{'href': 'https://www.booking.com/hotel/fr/le-relais-saint-michel.fr.html', 'class': ['aeb12fd78f'], 'data-testid': 'hotelLink', 'title': 'Le Relais Saint Michel'}\n",
            "{'href': 'https://www.booking.com/hotel/fr/mont-saint-michel.fr.html', 'class': ['aeb12fd78f'], 'data-testid': 'hotelLink', 'title': 'Mercure Mont Saint Michel'}\n",
            "{'href': 'https://www.booking.com/hotel/fr/la-mere-poulard.fr.html', 'class': ['aeb12fd78f'], 'data-testid': 'hotelLink', 'title': 'La Mère Poulard'}\n",
            "{'href': 'https://www.booking.com/hotel/fr/le-relais-du-roy.fr.html', 'class': ['aeb12fd78f'], 'data-testid': 'hotelLink', 'title': 'Le Relais Du Roy'}\n",
            "{'href': 'https://www.booking.com/hotel/fr/hotel-gabriel.fr.html', 'class': ['aeb12fd78f'], 'data-testid': 'hotelLink', 'title': 'Hotel Gabriel'}\n",
            "{'href': 'https://www.booking.com/hotel/fr/les-terrasses-poulard.fr.html', 'class': ['aeb12fd78f'], 'data-testid': 'hotelLink', 'title': 'Les Terrasses Poulard'}\n",
            "{'href': 'https://www.booking.com/hotel/fr/le-mouton-blanc-le-mont-saint-michel.fr.html', 'class': ['aeb12fd78f'], 'data-testid': 'hotelLink', 'title': 'Le Mouton Blanc'}\n",
            "{'href': 'https://www.booking.com/hotel/fr/la-vieille-auberge-le-mont-saint-michel.fr.html', 'class': ['aeb12fd78f'], 'data-testid': 'hotelLink', 'title': 'La Vieille Auberge'}\n",
            "{'href': 'https://www.booking.com/hotel/fr/auberge-saint-pierre.fr.html', 'class': ['aeb12fd78f'], 'data-testid': 'hotelLink', 'title': 'Auberge Saint Pierre'}\n",
            "{'href': '/tourism/city/fr/le-mont-saint-michel.fr.html', 'class': ['bui-button', 'bui-button--secondary', 'bui-banner__button'], 'data-lp-ga-click': 'city-tourism-banner:click'}\n",
            "{'class': ['bui-card__header_full_link_wrap'], 'href': '/hotel/fr/hotel-gabriel.fr.html', 'data-lp-ga-click': 'reviews-targeted-hotel:click-title'}\n",
            "{'class': ['bui-card__header_full_link_wrap'], 'href': '/hotel/fr/de-la-digue.fr.html', 'data-lp-ga-click': 'reviews-targeted-hotel:click-title'}\n",
            "{'class': ['bui-card__header_full_link_wrap'], 'href': '/hotel/fr/le-relais-du-roy.fr.html', 'data-lp-ga-click': 'reviews-targeted-hotel:click-title'}\n",
            "{'class': ['bui-card__header_full_link_wrap'], 'href': '/hotel/fr/vert.fr.html', 'data-lp-ga-click': 'reviews-targeted-hotel:click-title'}\n",
            "{'class': ['bui-card__header_full_link_wrap'], 'href': '/hotel/fr/les-terrasses-poulard.fr.html', 'data-lp-ga-click': 'reviews-targeted-hotel:click-title'}\n",
            "{'class': ['bui-card__header_full_link_wrap'], 'href': '/hotel/fr/auberge-saint-pierre.fr.html', 'data-lp-ga-click': 'reviews-targeted-hotel:click-title'}\n",
            "{'class': ['bui-card__header_full_link_wrap'], 'href': '/hotel/fr/le-mouton-blanc-le-mont-saint-michel.fr.html', 'data-lp-ga-click': 'reviews-targeted-hotel:click-title'}\n",
            "{'class': ['bui-card__header_full_link_wrap'], 'href': '/hotel/fr/le-relais-saint-michel.fr.html', 'data-lp-ga-click': 'reviews-targeted-hotel:click-title'}\n",
            "{'class': ['bui-card__header_full_link_wrap'], 'href': '/hotel/fr/hotel-saint-aubert.fr.html', 'data-lp-ga-click': 'reviews-targeted-hotel:click-title'}\n",
            "{'href': 'https://www.booking.com/airport/fr/rns.fr.html', 'class': ['bfb75da26c'], 'title': 'Hôtels près de\\xa0: Aéroport de Rennes - Saint-Jacques'}\n",
            "{'class': ['a938fc6438'], 'href': 'https://www.booking.com/airport/fr/cfr.fr.html', 'title': 'Hôtels près de\\xa0: Aéroport de Caen - Carpiquet'}\n",
            "{'class': ['a938fc6438'], 'href': 'https://www.booking.com/city/fr/paris.fr.html', 'title': 'Hôtels à Paris'}\n",
            "{'href': 'https://www.booking.com/city/fr/lyon.fr.html', 'class': ['d82d1233cd'], 'title': 'Hôtels à Lyon'}\n",
            "{'href': 'https://www.booking.com/city/fr/cancale.fr.html', 'class': ['d82d1233cd'], 'title': 'Hôtels à Cancale'}\n",
            "{'href': 'https://www.booking.com/city/fr/granville.fr.html', 'class': ['d82d1233cd'], 'title': 'Hôtels à Granville'}\n",
            "{'href': 'https://www.booking.com/landmark/fr/abbaye-du-mont-saint-michel.fr.html', 'class': ['bfb75da26c'], 'title': 'Hôtels près de\\xa0: Abbaye du Mont Saint Michel'}\n",
            "{'class': ['a938fc6438'], 'href': 'https://www.booking.com/landmark/fr/parc-des-expositions-de-rennes.fr.html', 'title': 'Hôtels près de\\xa0: Parc Expo Rennes Aéroport'}\n",
            "{'class': ['a938fc6438'], 'href': 'https://www.booking.com/region/fr/normandie.fr.html', 'title': 'Hôtels dans cette région\\xa0: Normandie'}\n",
            "{'href': 'https://www.booking.com/region/fr/baie-du-mont-saint-michel.fr.html', 'class': ['d82d1233cd'], 'title': 'Hôtels dans cette région\\xa0: Baie du mont Saint-Michel'}\n",
            "{'href': 'https://www.booking.com/country/fr.fr.html', 'class': ['d82d1233cd'], 'title': 'Hôtels en France'}\n",
            "{'href': 'https://www.booking.com/city/fr/saint-malo.fr.html', 'class': ['d82d1233cd'], 'title': 'Hôtels à Saint-Malo'}\n",
            "{'href': 'https://www.booking.com/city/fr/pontorson.fr.html', 'class': ['bfb75da26c'], 'title': 'Hôtels à Pontorson'}\n",
            "{'class': ['a938fc6438'], 'href': 'https://www.booking.com/tourism/city/fr/le-mont-saint-michel.fr.html', 'title': 'Visitez Le Mont-Saint-Michel'}\n",
            "{'class': ['a938fc6438'], 'href': 'https://www.booking.com/romantic/city/fr/le-mont-saint-michel.fr.html', 'title': 'Hôtels romantiques au Mont-Saint-Michel'}\n",
            "{'href': 'https://www.booking.com/pets/city/fr/le-mont-saint-michel.fr.html', 'class': ['d82d1233cd'], 'title': 'Hôtels acceptant les animaux domestiques au Mont-Saint-Michel'}\n",
            "{'href': 'https://www.booking.com/parking/city/fr/le-mont-saint-michel.fr.html', 'class': ['d82d1233cd'], 'title': 'Hôtels avec parking au Mont-Saint-Michel'}\n",
            "{'href': 'https://www.booking.com/best-time/country/fr.fr.html', 'class': ['d82d1233cd'], 'title': 'Quand visiter la France'}\n",
            "{'ref': 'nofollow', 'href': 'https://join.booking.com/?lang=fr&aid=304142&utm_source=footer_menu&utm_medium=frontend&label=gen000nr-10CAMoTUIUbGUtbW9udC1zYWludC1taWNoZWxIDVgEaE2IAQGYATO4AQXIAR7YAQPoAQH4AQGIAgGoAgG4Au-JpKMGwAIB0gIkMmU4ZmQxNmYtMTUwNC00ZWM0LTg5ODItZTAwZTAyNGZjNDVi2AIB4AIB', 'target': '_blank', 'data-ga-track': 'click|pageview:/internallink/partner/footer/hotellink/city/fr', 'data-et-click': 'customGoal:cCHObTRVDEZRdPQBcGCfTKYCcZeKe:4 ', 'data-et-view': 'HCZEZUaNZIUONSFTUQODZEYTYeYINXGET:1', 'class': ['footer-top-button'], 'data-qa': 'joinapp_ep'}\n",
            "{'rel': ['nofollow'], 'href': 'https://www.booking.com/city/fr/le-mont-saint-michel.fr.html'}\n",
            "{'href': 'https://account.booking.com/auth/oauth2?aid=304142&state=UuUB4ep4m2VB7zti22LRsAvrDTWN_r4yjIzHDgl8PyNQTJ2RsFQHJgEfauAq89jCHvPx3_a2hrL8sdKobL3VesZvg4WPJ9Lw4JOzVYvyvPShe__giXyTyvwcIWna9_fsqOXILDlHK5s0zxrh_IAatHbZhWDTfXj84IbPNrYoQTcchuAfgPc7fPU6nCh1S88RguFnrhuqYC2DUuy4YAY9nJWgysRkUhC3VgobiLAfJrKeadas1ylSIxXbMmRedFLRVPHkrwt3SF8tUWknvbecZlHyOC4B-vvEUtKT1Vo6SqpZGB0mNQtScQ&lang=fr&client_id=vO1Kblk7xX9tUn2cpZLS&response_type=code&bkng_action=city&dt=1684604144&redirect_uri=https%3A%2F%2Fsecure.booking.com%2Flogin.html%3Fop%3Doauth_return'}\n",
            "{'class': ['tracked'], 'href': 'https://secure.booking.com/content/cs.fr.html'}\n",
            "{'class': ['cuca'], 'href': 'https://secure.booking.com/help.fr.html#/?source=blue_footer', 'data-ga-track': 'click|Click|Action: city|hc_entrypoint_blue_footer', 'data-bui-component': 'Tooltip', 'title': 'Votre référence (ID)  “D63F115”'}\n",
            "{'href': '\\nhttps://www.booking.com/affiliate-program/v2/index.fr.html\\n', 'data-bui-component': 'Tooltip', 'title': 'Devenir affilié', 'class': ['footer_become_affiliate'], 'data-ga-track': 'click|pageview:/internallink/partner/footer/affiliatelink/city/fr'}\n",
            "{'href': 'https://business.booking.com/', 'class': ['tracked'], 'data-google-track': 'Click/Action: city/BBTool Footer BBZ'}\n",
            "{'href': 'https://www.booking.com/country.fr.html', 'data-ga': 'seoindexlinks', 'rel': ['nofollow']}\n",
            "{'href': 'https://www.booking.com/region.fr.html', 'data-ga': 'seoindexlinks', 'rel': ['nofollow']}\n",
            "{'href': 'https://www.booking.com/city.fr.html', 'data-ga': 'seoindexlinks', 'rel': ['nofollow']}\n",
            "{'href': 'https://www.booking.com/district.fr.html', 'data-ga': 'seoindexlinks', 'rel': ['nofollow']}\n",
            "{'href': 'https://www.booking.com/airport.fr.html', 'data-ga': 'seoindexlinks', 'rel': ['nofollow']}\n",
            "{'href': 'https://www.booking.com/hotel/index.fr.html', 'data-ga': 'seoindexlinks', 'rel': ['nofollow']}\n",
            "{'href': 'https://www.booking.com/landmark.fr.html', 'data-ga': 'seoindexlinks', 'rel': ['nofollow']}\n",
            "{'href': 'https://www.booking.com/booking-home/index.fr.html', 'data-ga': 'booking-home'}\n",
            "{'href': 'https://www.booking.com/apartments/index.fr.html', 'data-ga': 'apartments'}\n",
            "{'href': 'https://www.booking.com/resorts/index.fr.html', 'data-ga': 'resorts'}\n",
            "{'href': 'https://www.booking.com/villas/index.fr.html', 'data-ga': 'villas'}\n",
            "{'href': 'https://www.booking.com/hostels/index.fr.html', 'data-ga': 'hostels'}\n",
            "{'href': 'https://www.booking.com/bed-and-breakfast/index.fr.html', 'data-ga': 'bed_and_breakfast'}\n",
            "{'href': 'https://www.booking.com/guest-house/index.fr.html', 'data-ga': 'guest_house'}\n",
            "{'href': 'https://www.booking.com/accommodations.fr.html', 'data-ga': 'accommodations'}\n",
            "{'href': '/destination/city/fr/le-mont-saint-michel.fr.html'}\n",
            "{'href': 'https://www.booking.com/reviews\\n.fr.html\\n', 'data-ga': 'seoindexlinks', 'class': ['js-reviews-footer-link']}\n",
            "{'href': 'https://www.booking.com/extended-stays/index.fr.html', 'data-ga': 'extended-stays'}\n",
            "{'href': 'https://booking.com/articles.fr.html', 'type': 'nav', 'location': 'main-site-footer', 'category': 'articles-link'}\n",
            "{'href': 'https://www.booking.com/deals/index.fr.html', 'title': 'Offres de voyage saisonnières'}\n",
            "{'href': 'https://www.booking.com/traveller-awards/index.fr.html'}\n",
            "{'rel': ['nofollow'], 'href': 'http://cars.booking.com/Home.do?affiliateCode=booking-com&adplat=footer&preflang=fr', 'target': '_blank', 'data-google-track': 'Click/Rental cars footer link click (loy_footer_rentalcars_copy: 0)/city', 'data-ga-track': 'click|pageview:/outgoinglink/traveljigsaw/fr'}\n",
            "{'rel': ['nofollow'], 'href': 'https://booking.com/pxgo?url=https%3A%2F%2Fbooking.kayak.com%2Fin&aid=304142&token=UmFuZG9tSVYkc2RlIyh9Yb5s-oRzgw76bcWUd8wbcu_HQ_oNS0n5ow03Fu6L00r6WYKkIsFx9VXSXa_mDztzQ0tQjGvI7J0dgB2h7bqLO-jkyusNQLy--3Txh-9bujw1JVULt5Hpp4FHQHtibDf7waKkhYVzuCgEff_v6PflrWRGeoPuaJyxfq5CIcxIUeVQXMr1K0C17XbEFyE2NmZXf8WnKyUGuj9415mM5bypaw5YhPhn3_LBZov1A58UMKqr1a30tGCj4rqKwZ3-sEaLOiOgf3jtSbGTuTertLvY9_VJeGiPSVrTYEXrFLFmc93diZRzMzoSKOJ8kkFdKLAk8w&lang=fr', 'target': '_blank', 'data-google-track': 'Click/Kayak footer link/city', 'data-ga-track': 'click|pageview:/outgoinglink/kayaklink'}\n",
            "{'rel': ['nofollow'], 'href': 'http://www.opentable.com?ref=16087', 'target': '_blank', 'data-google-track': 'Click/Opentable footer link/city', 'data-ga-track': 'click|pageview:/outgoinglink/opentablelink'}\n",
            "{'href': '\\nhttps://www.booking.com/affiliate-program/v2/index.fr.html\\n', 'title': 'Booking.com for Travel Advisers', 'data-ga-track': 'click|pageview:/internallink/partner/footer/adviserslink/city/fr'}\n",
            "{'href': 'https://www.booking.com/covid-19-booking-faqs.fr.html'}\n",
            "{'href': 'https://www.booking.com/content/about.fr.html'}\n",
            "{'href': 'https://secure.booking.com/help.fr.html#/?source=footer_navigation', 'data-ga-track': 'click|Click|Action: city|hc_entrypoint_footer_navigation'}\n",
            "{'href': 'https://partner.booking.com/en-gb?utm_campaign=footer_list&utm_medium=frontend_footer&utm_source=booking.com'}\n",
            "{'href': 'https://careers.booking.com/?utm_source=corporate&utm_medium=footer', 'data-ga-track': 'click|pageview:/outgoinglink/footer/careerlink/fr'}\n",
            "{'href': 'https://sustainability.booking.com/', 'data-ga-track': 'click|pageview:/outgoinglink/footer/sustainabilitylink/fr'}\n",
            "{'class': ['tracked'], 'data-google-track': 'Click/Action: about_us/press', 'href': 'https://news.booking.com/fr/'}\n",
            "{'href': 'https://www.booking.com/trust-and-safety.fr.html', 'class': ['tracked']}\n",
            "{'class': ['tracked'], 'data-google-track': 'Click/Action: about_us/investor_relations', 'href': 'https://www.bookingholdings.com/'}\n",
            "{'href': 'https://www.booking.com/content/terms.fr.html'}\n",
            "{'href': 'https://secure.booking.com/content/complaints.fr.html'}\n",
            "{'href': 'https://www.booking.com/content/how_we_work.fr.html'}\n",
            "{'href': 'https://www.booking.com/content/privacy.fr.html'}\n",
            "{'href': '#', 'class': ['ot-preference-center-footer']}\n",
            "{'href': 'https://www.bookingholdings.com/about/compliance-and-ethics/'}\n",
            "{'href': 'https://www.booking.com/content/contact-us.fr.html'}\n",
            "{'class': ['extranet_link'], 'href': 'https://admin.booking.com/?lang=fr&utm_source=extranet_login_footer&utm_medium=frontend&utm_campaign=login_footer_v0', 'data-ga-track': 'click|Footer|Click - Extranet login|city'}\n",
            "{'href': 'https://secure.booking.com/reviewtimeline.fr.html', 'class': ['revc_write_a_review_login_button']}\n",
            "{'href': '#', 'class': ['prevmonth', 'disabled']}\n",
            "{'href': '#', 'class': ['nextmonth']}\n",
            "{'href': 'https://account.booking.com/auth/oauth2?lang=fr&client_id=vO1Kblk7xX9tUn2cpZLS&redirect_uri=https%3A%2F%2Fsecure.booking.com%2Flogin.html%3Fop%3Doauth_return&dt=1684604144&bkng_action=city&response_type=code&state=UtAB4ep4m2VB7zuNdrvJMDmw1pKcqaNLlUlpYZr771Tin_ohQCJpwWPBn464Amjsg_y622VXNhlq5E5FAfcl6MFniGKflqjPS-irMhtzTncw6wG5BH6Adg0d9pFqN_6xqlYZOerslHufn3_BhRHbzMpLeCNrBmmzZuzt_xvSf-qmsx6qxrDfB1K5Qc-B8tqyhJ7p1ECkjE59CnILWQwTuFjLP0EipshXYlm1t_EylpgqoavzLNGXL1SsZy9QsuWDGvxRyPj4cJ1bee2__0beEvhEYw&aid=304142', 'class': ['iam_login_btn--email', 'bui-button', 'bui-button--large', 'bui-button--wide', 'bui-spacer'], 'role': 'button', 'data-bui-component': 'Button'}\n",
            "{'href': 'https://account.booking.com/auth/oauth2?lang=fr&client_id=vO1Kblk7xX9tUn2cpZLS&redirect_uri=https%3A%2F%2Fsecure.booking.com%2Flogin.html%3Fop%3Doauth_return&dt=1684604144&bkng_action=city&response_type=code&state=UtAB4ep4m2VB7zuNdrvJMDmw1pKcqaNLlUlpYZr771Tin_ohQCJpwWPBn464Amjsg_y622VXNhlq5E5FAfcl6MFniGKflqjPS-irMhtzTncw6wG5BH6Adg0d9pFqN_6xqlYZOerslHufn3_BhRHbzMpLeCNrBmmzZuzt_xvSf-qmsx6qxrDfB1K5Qc-B8tqyhJ7p1ECkjE59CnILWQwTuFjLP0EipshXYlm1t_EylpgqoavzLNGXL1SsZy9QsuWDGvxRyPj4cJ1bee2__0beEvhEYw&aid=304142&prompt=facebook', 'data-popup-href': 'https://account.booking.com/auth/oauth2?bkng_action=city&response_type=code&redirect_uri=https%3A%2F%2Fsecure.booking.com%2Flogin.html%3Fop%3Doauth_return&popup=1&dt=1684604144&client_id=vO1Kblk7xX9tUn2cpZLS&lang=fr&state=UtoB4ep4m2VB7zv-1vhAB17ZngZXw1o9wA86IS-lM7Y-oM-jHzwCfoAmgoiQuCld8TqVf83AxO_2Rb-oRPmcdPCqO-rvFJNpPMP0dydRI2dKaDPQYak_NNh4AonNCcVuOE5Noo87CoPHuPu_8kHLinmY4_hZQNSYs78OIZoPdL74YSKPhEhXTK09i2OjdsjcdvMgYjTyuYkUy3eGPp5iTTv8wwTSo01-BpQ1JUGk-EvpRD22NJeV8eMJ6jkmB2zqQVUJ6xVvBZPAhyUia0sfQwe6rTvm84yJlOwsrdg&aid=304142&prompt=facebook', 'class': ['iam_login_form__social-button', 'iam_login_form__social-button-facebook', 'bui-button', 'bui-button--secondary'], 'title': \"S'identifier via Facebook\", 'aria-label': \"S'identifier via Facebook\", 'data-component': 'iam/social-button', 'data-mask': 'true'}\n",
            "{'href': 'https://account.booking.com/auth/oauth2?lang=fr&client_id=vO1Kblk7xX9tUn2cpZLS&redirect_uri=https%3A%2F%2Fsecure.booking.com%2Flogin.html%3Fop%3Doauth_return&dt=1684604144&bkng_action=city&response_type=code&state=UtAB4ep4m2VB7zuNdrvJMDmw1pKcqaNLlUlpYZr771Tin_ohQCJpwWPBn464Amjsg_y622VXNhlq5E5FAfcl6MFniGKflqjPS-irMhtzTncw6wG5BH6Adg0d9pFqN_6xqlYZOerslHufn3_BhRHbzMpLeCNrBmmzZuzt_xvSf-qmsx6qxrDfB1K5Qc-B8tqyhJ7p1ECkjE59CnILWQwTuFjLP0EipshXYlm1t_EylpgqoavzLNGXL1SsZy9QsuWDGvxRyPj4cJ1bee2__0beEvhEYw&aid=304142&prompt=google', 'data-popup-href': 'https://account.booking.com/auth/oauth2?bkng_action=city&response_type=code&redirect_uri=https%3A%2F%2Fsecure.booking.com%2Flogin.html%3Fop%3Doauth_return&popup=1&dt=1684604144&client_id=vO1Kblk7xX9tUn2cpZLS&lang=fr&state=UtoB4ep4m2VB7zv-1vhAB17ZngZXw1o9wA86IS-lM7Y-oM-jHzwCfoAmgoiQuCld8TqVf83AxO_2Rb-oRPmcdPCqO-rvFJNpPMP0dydRI2dKaDPQYak_NNh4AonNCcVuOE5Noo87CoPHuPu_8kHLinmY4_hZQNSYs78OIZoPdL74YSKPhEhXTK09i2OjdsjcdvMgYjTyuYkUy3eGPp5iTTv8wwTSo01-BpQ1JUGk-EvpRD22NJeV8eMJ6jkmB2zqQVUJ6xVvBZPAhyUia0sfQwe6rTvm84yJlOwsrdg&aid=304142&prompt=google', 'class': ['iam_login_form__social-button', 'iam_login_form__social-button-google', 'bui-button', 'bui-button--secondary'], 'title': \"S'identifier via Google\", 'aria-label': \"S'identifier via Google\", 'data-component': 'iam/social-button', 'data-mask': 'true'}\n",
            "{'href': 'https://account.booking.com/auth/oauth2?lang=fr&client_id=vO1Kblk7xX9tUn2cpZLS&redirect_uri=https%3A%2F%2Fsecure.booking.com%2Flogin.html%3Fop%3Doauth_return&dt=1684604144&bkng_action=city&response_type=code&state=UtAB4ep4m2VB7zuNdrvJMDmw1pKcqaNLlUlpYZr771Tin_ohQCJpwWPBn464Amjsg_y622VXNhlq5E5FAfcl6MFniGKflqjPS-irMhtzTncw6wG5BH6Adg0d9pFqN_6xqlYZOerslHufn3_BhRHbzMpLeCNrBmmzZuzt_xvSf-qmsx6qxrDfB1K5Qc-B8tqyhJ7p1ECkjE59CnILWQwTuFjLP0EipshXYlm1t_EylpgqoavzLNGXL1SsZy9QsuWDGvxRyPj4cJ1bee2__0beEvhEYw&aid=304142&prompt=apple', 'data-popup-href': 'https://account.booking.com/auth/oauth2?bkng_action=city&response_type=code&redirect_uri=https%3A%2F%2Fsecure.booking.com%2Flogin.html%3Fop%3Doauth_return&popup=1&dt=1684604144&client_id=vO1Kblk7xX9tUn2cpZLS&lang=fr&state=UtoB4ep4m2VB7zv-1vhAB17ZngZXw1o9wA86IS-lM7Y-oM-jHzwCfoAmgoiQuCld8TqVf83AxO_2Rb-oRPmcdPCqO-rvFJNpPMP0dydRI2dKaDPQYak_NNh4AonNCcVuOE5Noo87CoPHuPu_8kHLinmY4_hZQNSYs78OIZoPdL74YSKPhEhXTK09i2OjdsjcdvMgYjTyuYkUy3eGPp5iTTv8wwTSo01-BpQ1JUGk-EvpRD22NJeV8eMJ6jkmB2zqQVUJ6xVvBZPAhyUia0sfQwe6rTvm84yJlOwsrdg&aid=304142&prompt=apple', 'class': ['iam_login_form__social-button', 'iam_login_form__social-button-apple', 'bui-button', 'bui-button--secondary'], 'title': \"S'identifier via Apple\", 'aria-label': \"S'identifier via Apple\", 'data-component': 'iam/social-button', 'data-mask': 'true'}\n",
            "{'href': 'https://account.booking.com/auth/oauth2?lang=fr&client_id=vO1Kblk7xX9tUn2cpZLS&redirect_uri=https%3A%2F%2Fsecure.booking.com%2Flogin.html%3Fop%3Doauth_return&dt=1684604144&bkng_action=city&response_type=code&state=UtAB4ep4m2VB7zuNdrvJMDmw1pKcqaNLlUlpYZr771Tin_ohQCJpwWPBn464Amjsg_y622VXNhlq5E5FAfcl6MFniGKflqjPS-irMhtzTncw6wG5BH6Adg0d9pFqN_6xqlYZOerslHufn3_BhRHbzMpLeCNrBmmzZuzt_xvSf-qmsx6qxrDfB1K5Qc-B8tqyhJ7p1ECkjE59CnILWQwTuFjLP0EipshXYlm1t_EylpgqoavzLNGXL1SsZy9QsuWDGvxRyPj4cJ1bee2__0beEvhEYw&aid=304142&prompt=register', 'class': ['iam_login_link']}\n"
          ]
        }
      ]
    },
    {
      "cell_type": "code",
      "source": [
        "#il faut avoir 256  cell \n",
        "print(len(soup2.find_all('a')) )"
      ],
      "metadata": {
        "colab": {
          "base_uri": "https://localhost:8080/"
        },
        "id": "rAZDUKPBFfWZ",
        "outputId": "183f75ab-562b-42aa-c51b-84c6f682a166"
      },
      "execution_count": 462,
      "outputs": [
        {
          "output_type": "stream",
          "name": "stdout",
          "text": [
            "201\n"
          ]
        }
      ]
    },
    {
      "cell_type": "code",
      "source": [
        "hello=soup2.find_all('a',attrs={'class':\"bui-card__header_full_link_wrap\"})[0]\n",
        "print(hello)"
      ],
      "metadata": {
        "colab": {
          "base_uri": "https://localhost:8080/"
        },
        "id": "lj-a6ZfgFq6C",
        "outputId": "db44d71f-feba-498a-b3de-2fc519386b23"
      },
      "execution_count": 463,
      "outputs": [
        {
          "output_type": "stream",
          "name": "stdout",
          "text": [
            "<a class=\"bui-card__header_full_link_wrap\" data-lp-ga-click=\"reviews-targeted-hotel:click-title\" href=\"/hotel/fr/hotel-gabriel.fr.html\">\n",
            "<h3 class=\"bui-card__title\">Hotel Gabriel</h3>\n",
            "<p class=\"bui-card__subtitle\">\n",
            "Hôtel dans ce quartier : Le Mont-Saint-Michel\n",
            "</p>\n",
            "</a>\n"
          ]
        }
      ]
    },
    {
      "cell_type": "code",
      "source": [
        "#hotel name\n",
        "testotelname=hello.text.split('\\n')[2]\n",
        "testotelname"
      ],
      "metadata": {
        "colab": {
          "base_uri": "https://localhost:8080/",
          "height": 36
        },
        "id": "xRMrFHJd_Sb1",
        "outputId": "a142ccd3-cb7d-4cfb-c242-c3a1b364f502"
      },
      "execution_count": 464,
      "outputs": [
        {
          "output_type": "execute_result",
          "data": {
            "text/plain": [
              "''"
            ],
            "application/vnd.google.colaboratory.intrinsic+json": {
              "type": "string"
            }
          },
          "metadata": {},
          "execution_count": 464
        }
      ]
    },
    {
      "cell_type": "code",
      "source": [
        "#test on 1 hotel  before test on all\n",
        "a=str(hello).split('href=')[1].split( 'title=')[0].split('\"')[1]\n",
        "print(a)"
      ],
      "metadata": {
        "colab": {
          "base_uri": "https://localhost:8080/"
        },
        "id": "Jh_RiF5gFvZq",
        "outputId": "a6119ba2-fa52-4692-e70d-2fdb1ab8ac81"
      },
      "execution_count": 465,
      "outputs": [
        {
          "output_type": "stream",
          "name": "stdout",
          "text": [
            "/hotel/fr/hotel-gabriel.fr.html\n"
          ]
        }
      ]
    },
    {
      "cell_type": "code",
      "source": [
        "#how many links\n",
        "n=len(soup2.find_all('a',attrs={'class':\"bui-card__header_full_link_wrap\"}))\n",
        "print(\"we will get\",n, \"links\")"
      ],
      "metadata": {
        "colab": {
          "base_uri": "https://localhost:8080/"
        },
        "id": "_hVeSM30GACC",
        "outputId": "dd537557-489d-44b3-e038-b7160b46173e"
      },
      "execution_count": 466,
      "outputs": [
        {
          "output_type": "stream",
          "name": "stdout",
          "text": [
            "we will get 9 links\n"
          ]
        }
      ]
    },
    {
      "cell_type": "code",
      "source": [
        "#lets get them\n",
        "links=[]\n",
        "names=[]\n",
        "\n",
        "for i in range(n):\n",
        "  c=soup2.find_all('a',attrs={'class':\"bui-card__header_full_link_wrap\"})[i]\n",
        "  \n",
        "  #split on c to get link nd put it in list\n",
        "  names.append(c.text.split('\\n')[2])\n",
        "\n",
        "  links.append('https://www.booking.com'+ str(c).split('href=')[1].split( 'title=')[0].split('\"')[1])  #here we add 'https://www.booking.com/' to the hrefs\n",
        "\n",
        "\n",
        "\n",
        "print(links)\n",
        "print(names)"
      ],
      "metadata": {
        "colab": {
          "base_uri": "https://localhost:8080/"
        },
        "id": "Yqkvm0LdGVvY",
        "outputId": "83bec743-ba82-42dc-edf8-b71803c834e7"
      },
      "execution_count": 467,
      "outputs": [
        {
          "output_type": "stream",
          "name": "stdout",
          "text": [
            "['https://www.booking.com/hotel/fr/hotel-gabriel.fr.html', 'https://www.booking.com/hotel/fr/de-la-digue.fr.html', 'https://www.booking.com/hotel/fr/le-relais-du-roy.fr.html', 'https://www.booking.com/hotel/fr/vert.fr.html', 'https://www.booking.com/hotel/fr/les-terrasses-poulard.fr.html', 'https://www.booking.com/hotel/fr/auberge-saint-pierre.fr.html', 'https://www.booking.com/hotel/fr/le-mouton-blanc-le-mont-saint-michel.fr.html', 'https://www.booking.com/hotel/fr/le-relais-saint-michel.fr.html', 'https://www.booking.com/hotel/fr/hotel-saint-aubert.fr.html']\n",
            "['', '', '', '', '', '', '', '', '']\n"
          ]
        }
      ]
    },
    {
      "cell_type": "code",
      "source": [
        "# #let s add www.book...\n",
        "# urls=[]\n",
        "# for i in listvide:\n",
        "#   urls.append('https://www.booking.com/'+i)\n",
        "# print(urls[0:4])"
      ],
      "metadata": {
        "id": "iZbBaCC1G6ig"
      },
      "execution_count": 468,
      "outputs": []
    },
    {
      "cell_type": "code",
      "source": [
        "#we convert it into dataframe\n",
        "df=pd.DataFrame()\n",
        "# df['names']=names[0:3]  #on va prendre que les 3 premiers pour scraper vite apres un page par page...\n",
        "df['names']=names\n",
        "df['links']=links\n",
        "df['lat']=np.nan\n",
        "df['lon']=np.nan\n",
        "df['hotel_note']=np.nan\n",
        "df['description']=np.nan\n",
        "display(df.head() )\n"
      ],
      "metadata": {
        "colab": {
          "base_uri": "https://localhost:8080/",
          "height": 206
        },
        "id": "8_ZHCqMsHHZ9",
        "outputId": "c966bf86-7e7f-4246-9ea0-605a59625904"
      },
      "execution_count": 469,
      "outputs": [
        {
          "output_type": "display_data",
          "data": {
            "text/plain": [
              "  names                                              links  lat  lon  \\\n",
              "0        https://www.booking.com/hotel/fr/hotel-gabriel...  NaN  NaN   \n",
              "1        https://www.booking.com/hotel/fr/de-la-digue.f...  NaN  NaN   \n",
              "2        https://www.booking.com/hotel/fr/le-relais-du-...  NaN  NaN   \n",
              "3            https://www.booking.com/hotel/fr/vert.fr.html  NaN  NaN   \n",
              "4        https://www.booking.com/hotel/fr/les-terrasses...  NaN  NaN   \n",
              "\n",
              "   hotel_note  description  \n",
              "0         NaN          NaN  \n",
              "1         NaN          NaN  \n",
              "2         NaN          NaN  \n",
              "3         NaN          NaN  \n",
              "4         NaN          NaN  "
            ],
            "text/html": [
              "\n",
              "  <div id=\"df-299a7962-8894-4229-b564-f0c5cb23553f\">\n",
              "    <div class=\"colab-df-container\">\n",
              "      <div>\n",
              "<style scoped>\n",
              "    .dataframe tbody tr th:only-of-type {\n",
              "        vertical-align: middle;\n",
              "    }\n",
              "\n",
              "    .dataframe tbody tr th {\n",
              "        vertical-align: top;\n",
              "    }\n",
              "\n",
              "    .dataframe thead th {\n",
              "        text-align: right;\n",
              "    }\n",
              "</style>\n",
              "<table border=\"1\" class=\"dataframe\">\n",
              "  <thead>\n",
              "    <tr style=\"text-align: right;\">\n",
              "      <th></th>\n",
              "      <th>names</th>\n",
              "      <th>links</th>\n",
              "      <th>lat</th>\n",
              "      <th>lon</th>\n",
              "      <th>hotel_note</th>\n",
              "      <th>description</th>\n",
              "    </tr>\n",
              "  </thead>\n",
              "  <tbody>\n",
              "    <tr>\n",
              "      <th>0</th>\n",
              "      <td></td>\n",
              "      <td>https://www.booking.com/hotel/fr/hotel-gabriel...</td>\n",
              "      <td>NaN</td>\n",
              "      <td>NaN</td>\n",
              "      <td>NaN</td>\n",
              "      <td>NaN</td>\n",
              "    </tr>\n",
              "    <tr>\n",
              "      <th>1</th>\n",
              "      <td></td>\n",
              "      <td>https://www.booking.com/hotel/fr/de-la-digue.f...</td>\n",
              "      <td>NaN</td>\n",
              "      <td>NaN</td>\n",
              "      <td>NaN</td>\n",
              "      <td>NaN</td>\n",
              "    </tr>\n",
              "    <tr>\n",
              "      <th>2</th>\n",
              "      <td></td>\n",
              "      <td>https://www.booking.com/hotel/fr/le-relais-du-...</td>\n",
              "      <td>NaN</td>\n",
              "      <td>NaN</td>\n",
              "      <td>NaN</td>\n",
              "      <td>NaN</td>\n",
              "    </tr>\n",
              "    <tr>\n",
              "      <th>3</th>\n",
              "      <td></td>\n",
              "      <td>https://www.booking.com/hotel/fr/vert.fr.html</td>\n",
              "      <td>NaN</td>\n",
              "      <td>NaN</td>\n",
              "      <td>NaN</td>\n",
              "      <td>NaN</td>\n",
              "    </tr>\n",
              "    <tr>\n",
              "      <th>4</th>\n",
              "      <td></td>\n",
              "      <td>https://www.booking.com/hotel/fr/les-terrasses...</td>\n",
              "      <td>NaN</td>\n",
              "      <td>NaN</td>\n",
              "      <td>NaN</td>\n",
              "      <td>NaN</td>\n",
              "    </tr>\n",
              "  </tbody>\n",
              "</table>\n",
              "</div>\n",
              "      <button class=\"colab-df-convert\" onclick=\"convertToInteractive('df-299a7962-8894-4229-b564-f0c5cb23553f')\"\n",
              "              title=\"Convert this dataframe to an interactive table.\"\n",
              "              style=\"display:none;\">\n",
              "        \n",
              "  <svg xmlns=\"http://www.w3.org/2000/svg\" height=\"24px\"viewBox=\"0 0 24 24\"\n",
              "       width=\"24px\">\n",
              "    <path d=\"M0 0h24v24H0V0z\" fill=\"none\"/>\n",
              "    <path d=\"M18.56 5.44l.94 2.06.94-2.06 2.06-.94-2.06-.94-.94-2.06-.94 2.06-2.06.94zm-11 1L8.5 8.5l.94-2.06 2.06-.94-2.06-.94L8.5 2.5l-.94 2.06-2.06.94zm10 10l.94 2.06.94-2.06 2.06-.94-2.06-.94-.94-2.06-.94 2.06-2.06.94z\"/><path d=\"M17.41 7.96l-1.37-1.37c-.4-.4-.92-.59-1.43-.59-.52 0-1.04.2-1.43.59L10.3 9.45l-7.72 7.72c-.78.78-.78 2.05 0 2.83L4 21.41c.39.39.9.59 1.41.59.51 0 1.02-.2 1.41-.59l7.78-7.78 2.81-2.81c.8-.78.8-2.07 0-2.86zM5.41 20L4 18.59l7.72-7.72 1.47 1.35L5.41 20z\"/>\n",
              "  </svg>\n",
              "      </button>\n",
              "      \n",
              "  <style>\n",
              "    .colab-df-container {\n",
              "      display:flex;\n",
              "      flex-wrap:wrap;\n",
              "      gap: 12px;\n",
              "    }\n",
              "\n",
              "    .colab-df-convert {\n",
              "      background-color: #E8F0FE;\n",
              "      border: none;\n",
              "      border-radius: 50%;\n",
              "      cursor: pointer;\n",
              "      display: none;\n",
              "      fill: #1967D2;\n",
              "      height: 32px;\n",
              "      padding: 0 0 0 0;\n",
              "      width: 32px;\n",
              "    }\n",
              "\n",
              "    .colab-df-convert:hover {\n",
              "      background-color: #E2EBFA;\n",
              "      box-shadow: 0px 1px 2px rgba(60, 64, 67, 0.3), 0px 1px 3px 1px rgba(60, 64, 67, 0.15);\n",
              "      fill: #174EA6;\n",
              "    }\n",
              "\n",
              "    [theme=dark] .colab-df-convert {\n",
              "      background-color: #3B4455;\n",
              "      fill: #D2E3FC;\n",
              "    }\n",
              "\n",
              "    [theme=dark] .colab-df-convert:hover {\n",
              "      background-color: #434B5C;\n",
              "      box-shadow: 0px 1px 3px 1px rgba(0, 0, 0, 0.15);\n",
              "      filter: drop-shadow(0px 1px 2px rgba(0, 0, 0, 0.3));\n",
              "      fill: #FFFFFF;\n",
              "    }\n",
              "  </style>\n",
              "\n",
              "      <script>\n",
              "        const buttonEl =\n",
              "          document.querySelector('#df-299a7962-8894-4229-b564-f0c5cb23553f button.colab-df-convert');\n",
              "        buttonEl.style.display =\n",
              "          google.colab.kernel.accessAllowed ? 'block' : 'none';\n",
              "\n",
              "        async function convertToInteractive(key) {\n",
              "          const element = document.querySelector('#df-299a7962-8894-4229-b564-f0c5cb23553f');\n",
              "          const dataTable =\n",
              "            await google.colab.kernel.invokeFunction('convertToInteractive',\n",
              "                                                     [key], {});\n",
              "          if (!dataTable) return;\n",
              "\n",
              "          const docLinkHtml = 'Like what you see? Visit the ' +\n",
              "            '<a target=\"_blank\" href=https://colab.research.google.com/notebooks/data_table.ipynb>data table notebook</a>'\n",
              "            + ' to learn more about interactive tables.';\n",
              "          element.innerHTML = '';\n",
              "          dataTable['output_type'] = 'display_data';\n",
              "          await google.colab.output.renderOutput(dataTable, element);\n",
              "          const docLink = document.createElement('div');\n",
              "          docLink.innerHTML = docLinkHtml;\n",
              "          element.appendChild(docLink);\n",
              "        }\n",
              "      </script>\n",
              "    </div>\n",
              "  </div>\n",
              "  "
            ]
          },
          "metadata": {}
        }
      ]
    },
    {
      "cell_type": "markdown",
      "source": [
        "# ***now page after page***"
      ],
      "metadata": {
        "id": "tYMV3x1MKMDM"
      }
    },
    {
      "cell_type": "code",
      "source": [
        "for i in df['links']:\n",
        "  print(i)"
      ],
      "metadata": {
        "colab": {
          "base_uri": "https://localhost:8080/"
        },
        "id": "g9Uh4EXOmUdT",
        "outputId": "9c1ea45d-1ab8-495d-a89b-366925e353e7"
      },
      "execution_count": 470,
      "outputs": [
        {
          "output_type": "stream",
          "name": "stdout",
          "text": [
            "https://www.booking.com/hotel/fr/hotel-gabriel.fr.html\n",
            "https://www.booking.com/hotel/fr/de-la-digue.fr.html\n",
            "https://www.booking.com/hotel/fr/le-relais-du-roy.fr.html\n",
            "https://www.booking.com/hotel/fr/vert.fr.html\n",
            "https://www.booking.com/hotel/fr/les-terrasses-poulard.fr.html\n",
            "https://www.booking.com/hotel/fr/auberge-saint-pierre.fr.html\n",
            "https://www.booking.com/hotel/fr/le-mouton-blanc-le-mont-saint-michel.fr.html\n",
            "https://www.booking.com/hotel/fr/le-relais-saint-michel.fr.html\n",
            "https://www.booking.com/hotel/fr/hotel-saint-aubert.fr.html\n"
          ]
        }
      ]
    },
    {
      "cell_type": "code",
      "source": [
        "description=[]\n",
        "hotel_note=[]\n",
        "lat=[]\n",
        "lon=[]\n",
        "p,_=df.shape\n",
        "p\n",
        "for i in range(p):\n",
        "\n",
        "  r=requests.get(df['links'][i])\n",
        "  print(df['links'][i])\n",
        "  soup2=BeautifulSoup(r.text,'html.parser')\n",
        "#=================================================================  \n",
        "\n",
        "  #to get the decription inside the page\n",
        "  \n",
        "  hi=soup2.find('div',{'id':'property_description_content'}).text\n",
        "  description.append(hi)\n",
        " \n",
        "  # print(description)\n",
        "\n",
        "#================================================================\n",
        "#user note\n",
        "  notebyuser=soup2.find('div',{'class':\"b5cd09854e d10a6220b4\"}).text\n",
        "  \n",
        "  hotel_note.append(notebyuser[0:3])\n",
        " \n",
        "\n",
        "  print(hotel_note[i])\n",
        " \n",
        "#================================================================ \n",
        "#gps work \n",
        "#i get the code after looking doing this : gps=soup.find('p',{'class':\"address address_clean\"}) print(gps)\n",
        "  t1=str(soup2.find('a',{'id':\"hotel_header\"})).split('bbox=\"')[1].split(',')[0]\n",
        "  t2=str(soup2.find('a',{'id':\"hotel_header\"})).split('bbox=\"')[1].split(',')[1]\n",
        "\n",
        "  lat.append(t1)\n",
        "\n",
        "  lon.append(t2)\n",
        " \n",
        "  print(lat[i])    \n",
        "  print(lon[i]) \n",
        "  #petit condition is on a pas scraper de la 1er page de recherche on recupere les info via la page de chaque hotel \n",
        "  if df['names'][i]=='':\n",
        "    df['names'][i]=soup2.find('h2',{'class':\"d2fee87262 pp-header__title\"}).text\n",
        "  else:\n",
        "    df['names'][i]\n"
      ],
      "metadata": {
        "colab": {
          "base_uri": "https://localhost:8080/"
        },
        "id": "Nw-t_NgIuWVz",
        "outputId": "b4421c87-bede-4fd7-9db0-d030aeb1c1d3"
      },
      "execution_count": 471,
      "outputs": [
        {
          "output_type": "stream",
          "name": "stdout",
          "text": [
            "https://www.booking.com/hotel/fr/hotel-gabriel.fr.html\n",
            "7,9\n",
            "48.5974159971103\n",
            "-1.53793471039279\n"
          ]
        },
        {
          "output_type": "stream",
          "name": "stderr",
          "text": [
            "<ipython-input-471-e14a69618c91>:44: SettingWithCopyWarning:\n",
            "\n",
            "\n",
            "A value is trying to be set on a copy of a slice from a DataFrame\n",
            "\n",
            "See the caveats in the documentation: https://pandas.pydata.org/pandas-docs/stable/user_guide/indexing.html#returning-a-view-versus-a-copy\n",
            "\n"
          ]
        },
        {
          "output_type": "stream",
          "name": "stdout",
          "text": [
            "https://www.booking.com/hotel/fr/de-la-digue.fr.html\n",
            "7,1\n",
            "48.5989161328681\n",
            "-1.53814339058278\n",
            "https://www.booking.com/hotel/fr/le-relais-du-roy.fr.html\n",
            "7,9\n",
            "48.5982972879393\n",
            "-1.53813098690421\n",
            "https://www.booking.com/hotel/fr/vert.fr.html\n",
            "8,0\n",
            "48.5967350697173\n",
            "-1.53684134303157\n",
            "https://www.booking.com/hotel/fr/les-terrasses-poulard.fr.html\n",
            "7,3\n",
            "48.6173840090681\n",
            "-1.53761423137484\n",
            "https://www.booking.com/hotel/fr/auberge-saint-pierre.fr.html\n",
            "7,9\n",
            "48.6177225621183\n",
            "-1.53711820547634\n",
            "https://www.booking.com/hotel/fr/le-mouton-blanc-le-mont-saint-michel.fr.html\n",
            "7,0\n",
            "48.618057567874\n",
            "-1.537131797379\n",
            "https://www.booking.com/hotel/fr/le-relais-saint-michel.fr.html\n",
            "7,9\n",
            "48.5996218550758\n",
            "-1.53762208153347\n",
            "https://www.booking.com/hotel/fr/hotel-saint-aubert.fr.html\n",
            "7,0\n",
            "48.5949724181334\n",
            "-1.5373285546326\n"
          ]
        }
      ]
    },
    {
      "cell_type": "code",
      "source": [
        "df['lat']=lat\n",
        "df['description']=description\n",
        "df['lon']=lon\n",
        "df['hotel_note']=hotel_note"
      ],
      "metadata": {
        "id": "FBbInTeowxNC"
      },
      "execution_count": 472,
      "outputs": []
    },
    {
      "cell_type": "code",
      "source": [
        "df[0:20]"
      ],
      "metadata": {
        "colab": {
          "base_uri": "https://localhost:8080/",
          "height": 331
        },
        "id": "SohxFM5mw152",
        "outputId": "48d97cfc-7c34-4e3f-f3c0-67d95f71dcbf"
      },
      "execution_count": 473,
      "outputs": [
        {
          "output_type": "execute_result",
          "data": {
            "text/plain": [
              "                    names                                              links  \\\n",
              "0           Hotel Gabriel  https://www.booking.com/hotel/fr/hotel-gabriel...   \n",
              "1       Hotel De La Digue  https://www.booking.com/hotel/fr/de-la-digue.f...   \n",
              "2        Le Relais Du Roy  https://www.booking.com/hotel/fr/le-relais-du-...   \n",
              "3              Hôtel Vert      https://www.booking.com/hotel/fr/vert.fr.html   \n",
              "4   Les Terrasses Poulard  https://www.booking.com/hotel/fr/les-terrasses...   \n",
              "5    Auberge Saint Pierre  https://www.booking.com/hotel/fr/auberge-saint...   \n",
              "6         Le Mouton Blanc  https://www.booking.com/hotel/fr/le-mouton-bla...   \n",
              "7  Le Relais Saint Michel  https://www.booking.com/hotel/fr/le-relais-sai...   \n",
              "8         Le Saint Aubert  https://www.booking.com/hotel/fr/hotel-saint-a...   \n",
              "\n",
              "                lat                lon hotel_note  \\\n",
              "0  48.5974159971103  -1.53793471039279        7,9   \n",
              "1  48.5989161328681  -1.53814339058278        7,1   \n",
              "2  48.5982972879393  -1.53813098690421        7,9   \n",
              "3  48.5967350697173  -1.53684134303157        8,0   \n",
              "4  48.6173840090681  -1.53761423137484        7,3   \n",
              "5  48.6177225621183  -1.53711820547634        7,9   \n",
              "6   48.618057567874    -1.537131797379        7,0   \n",
              "7  48.5996218550758  -1.53762208153347        7,9   \n",
              "8  48.5949724181334   -1.5373285546326        7,0   \n",
              "\n",
              "                                         description  \n",
              "0  \\nVous pouvez bénéficier d'une réduction Geniu...  \n",
              "1  \\n L'hôtel De La Digue est un établissement tr...  \n",
              "2  \\nVous pouvez bénéficier d'une réduction Geniu...  \n",
              "3  \\nVous pouvez bénéficier d'une réduction Geniu...  \n",
              "4  \\nVous pouvez bénéficier d'une réduction Geniu...  \n",
              "5  \\n L'Auberge Saint-Pierre occupe une maison à ...  \n",
              "6  \\nVous pouvez bénéficier d'une réduction Geniu...  \n",
              "7  \\nVous pouvez bénéficier d'une réduction Geniu...  \n",
              "8  \\n Niché dans un écrin de verdure, à seulement...  "
            ],
            "text/html": [
              "\n",
              "  <div id=\"df-da77dcc0-4661-471b-80d6-de1d11b8afe4\">\n",
              "    <div class=\"colab-df-container\">\n",
              "      <div>\n",
              "<style scoped>\n",
              "    .dataframe tbody tr th:only-of-type {\n",
              "        vertical-align: middle;\n",
              "    }\n",
              "\n",
              "    .dataframe tbody tr th {\n",
              "        vertical-align: top;\n",
              "    }\n",
              "\n",
              "    .dataframe thead th {\n",
              "        text-align: right;\n",
              "    }\n",
              "</style>\n",
              "<table border=\"1\" class=\"dataframe\">\n",
              "  <thead>\n",
              "    <tr style=\"text-align: right;\">\n",
              "      <th></th>\n",
              "      <th>names</th>\n",
              "      <th>links</th>\n",
              "      <th>lat</th>\n",
              "      <th>lon</th>\n",
              "      <th>hotel_note</th>\n",
              "      <th>description</th>\n",
              "    </tr>\n",
              "  </thead>\n",
              "  <tbody>\n",
              "    <tr>\n",
              "      <th>0</th>\n",
              "      <td>Hotel Gabriel</td>\n",
              "      <td>https://www.booking.com/hotel/fr/hotel-gabriel...</td>\n",
              "      <td>48.5974159971103</td>\n",
              "      <td>-1.53793471039279</td>\n",
              "      <td>7,9</td>\n",
              "      <td>\\nVous pouvez bénéficier d'une réduction Geniu...</td>\n",
              "    </tr>\n",
              "    <tr>\n",
              "      <th>1</th>\n",
              "      <td>Hotel De La Digue</td>\n",
              "      <td>https://www.booking.com/hotel/fr/de-la-digue.f...</td>\n",
              "      <td>48.5989161328681</td>\n",
              "      <td>-1.53814339058278</td>\n",
              "      <td>7,1</td>\n",
              "      <td>\\n L'hôtel De La Digue est un établissement tr...</td>\n",
              "    </tr>\n",
              "    <tr>\n",
              "      <th>2</th>\n",
              "      <td>Le Relais Du Roy</td>\n",
              "      <td>https://www.booking.com/hotel/fr/le-relais-du-...</td>\n",
              "      <td>48.5982972879393</td>\n",
              "      <td>-1.53813098690421</td>\n",
              "      <td>7,9</td>\n",
              "      <td>\\nVous pouvez bénéficier d'une réduction Geniu...</td>\n",
              "    </tr>\n",
              "    <tr>\n",
              "      <th>3</th>\n",
              "      <td>Hôtel Vert</td>\n",
              "      <td>https://www.booking.com/hotel/fr/vert.fr.html</td>\n",
              "      <td>48.5967350697173</td>\n",
              "      <td>-1.53684134303157</td>\n",
              "      <td>8,0</td>\n",
              "      <td>\\nVous pouvez bénéficier d'une réduction Geniu...</td>\n",
              "    </tr>\n",
              "    <tr>\n",
              "      <th>4</th>\n",
              "      <td>Les Terrasses Poulard</td>\n",
              "      <td>https://www.booking.com/hotel/fr/les-terrasses...</td>\n",
              "      <td>48.6173840090681</td>\n",
              "      <td>-1.53761423137484</td>\n",
              "      <td>7,3</td>\n",
              "      <td>\\nVous pouvez bénéficier d'une réduction Geniu...</td>\n",
              "    </tr>\n",
              "    <tr>\n",
              "      <th>5</th>\n",
              "      <td>Auberge Saint Pierre</td>\n",
              "      <td>https://www.booking.com/hotel/fr/auberge-saint...</td>\n",
              "      <td>48.6177225621183</td>\n",
              "      <td>-1.53711820547634</td>\n",
              "      <td>7,9</td>\n",
              "      <td>\\n L'Auberge Saint-Pierre occupe une maison à ...</td>\n",
              "    </tr>\n",
              "    <tr>\n",
              "      <th>6</th>\n",
              "      <td>Le Mouton Blanc</td>\n",
              "      <td>https://www.booking.com/hotel/fr/le-mouton-bla...</td>\n",
              "      <td>48.618057567874</td>\n",
              "      <td>-1.537131797379</td>\n",
              "      <td>7,0</td>\n",
              "      <td>\\nVous pouvez bénéficier d'une réduction Geniu...</td>\n",
              "    </tr>\n",
              "    <tr>\n",
              "      <th>7</th>\n",
              "      <td>Le Relais Saint Michel</td>\n",
              "      <td>https://www.booking.com/hotel/fr/le-relais-sai...</td>\n",
              "      <td>48.5996218550758</td>\n",
              "      <td>-1.53762208153347</td>\n",
              "      <td>7,9</td>\n",
              "      <td>\\nVous pouvez bénéficier d'une réduction Geniu...</td>\n",
              "    </tr>\n",
              "    <tr>\n",
              "      <th>8</th>\n",
              "      <td>Le Saint Aubert</td>\n",
              "      <td>https://www.booking.com/hotel/fr/hotel-saint-a...</td>\n",
              "      <td>48.5949724181334</td>\n",
              "      <td>-1.5373285546326</td>\n",
              "      <td>7,0</td>\n",
              "      <td>\\n Niché dans un écrin de verdure, à seulement...</td>\n",
              "    </tr>\n",
              "  </tbody>\n",
              "</table>\n",
              "</div>\n",
              "      <button class=\"colab-df-convert\" onclick=\"convertToInteractive('df-da77dcc0-4661-471b-80d6-de1d11b8afe4')\"\n",
              "              title=\"Convert this dataframe to an interactive table.\"\n",
              "              style=\"display:none;\">\n",
              "        \n",
              "  <svg xmlns=\"http://www.w3.org/2000/svg\" height=\"24px\"viewBox=\"0 0 24 24\"\n",
              "       width=\"24px\">\n",
              "    <path d=\"M0 0h24v24H0V0z\" fill=\"none\"/>\n",
              "    <path d=\"M18.56 5.44l.94 2.06.94-2.06 2.06-.94-2.06-.94-.94-2.06-.94 2.06-2.06.94zm-11 1L8.5 8.5l.94-2.06 2.06-.94-2.06-.94L8.5 2.5l-.94 2.06-2.06.94zm10 10l.94 2.06.94-2.06 2.06-.94-2.06-.94-.94-2.06-.94 2.06-2.06.94z\"/><path d=\"M17.41 7.96l-1.37-1.37c-.4-.4-.92-.59-1.43-.59-.52 0-1.04.2-1.43.59L10.3 9.45l-7.72 7.72c-.78.78-.78 2.05 0 2.83L4 21.41c.39.39.9.59 1.41.59.51 0 1.02-.2 1.41-.59l7.78-7.78 2.81-2.81c.8-.78.8-2.07 0-2.86zM5.41 20L4 18.59l7.72-7.72 1.47 1.35L5.41 20z\"/>\n",
              "  </svg>\n",
              "      </button>\n",
              "      \n",
              "  <style>\n",
              "    .colab-df-container {\n",
              "      display:flex;\n",
              "      flex-wrap:wrap;\n",
              "      gap: 12px;\n",
              "    }\n",
              "\n",
              "    .colab-df-convert {\n",
              "      background-color: #E8F0FE;\n",
              "      border: none;\n",
              "      border-radius: 50%;\n",
              "      cursor: pointer;\n",
              "      display: none;\n",
              "      fill: #1967D2;\n",
              "      height: 32px;\n",
              "      padding: 0 0 0 0;\n",
              "      width: 32px;\n",
              "    }\n",
              "\n",
              "    .colab-df-convert:hover {\n",
              "      background-color: #E2EBFA;\n",
              "      box-shadow: 0px 1px 2px rgba(60, 64, 67, 0.3), 0px 1px 3px 1px rgba(60, 64, 67, 0.15);\n",
              "      fill: #174EA6;\n",
              "    }\n",
              "\n",
              "    [theme=dark] .colab-df-convert {\n",
              "      background-color: #3B4455;\n",
              "      fill: #D2E3FC;\n",
              "    }\n",
              "\n",
              "    [theme=dark] .colab-df-convert:hover {\n",
              "      background-color: #434B5C;\n",
              "      box-shadow: 0px 1px 3px 1px rgba(0, 0, 0, 0.15);\n",
              "      filter: drop-shadow(0px 1px 2px rgba(0, 0, 0, 0.3));\n",
              "      fill: #FFFFFF;\n",
              "    }\n",
              "  </style>\n",
              "\n",
              "      <script>\n",
              "        const buttonEl =\n",
              "          document.querySelector('#df-da77dcc0-4661-471b-80d6-de1d11b8afe4 button.colab-df-convert');\n",
              "        buttonEl.style.display =\n",
              "          google.colab.kernel.accessAllowed ? 'block' : 'none';\n",
              "\n",
              "        async function convertToInteractive(key) {\n",
              "          const element = document.querySelector('#df-da77dcc0-4661-471b-80d6-de1d11b8afe4');\n",
              "          const dataTable =\n",
              "            await google.colab.kernel.invokeFunction('convertToInteractive',\n",
              "                                                     [key], {});\n",
              "          if (!dataTable) return;\n",
              "\n",
              "          const docLinkHtml = 'Like what you see? Visit the ' +\n",
              "            '<a target=\"_blank\" href=https://colab.research.google.com/notebooks/data_table.ipynb>data table notebook</a>'\n",
              "            + ' to learn more about interactive tables.';\n",
              "          element.innerHTML = '';\n",
              "          dataTable['output_type'] = 'display_data';\n",
              "          await google.colab.output.renderOutput(dataTable, element);\n",
              "          const docLink = document.createElement('div');\n",
              "          docLink.innerHTML = docLinkHtml;\n",
              "          element.appendChild(docLink);\n",
              "        }\n",
              "      </script>\n",
              "    </div>\n",
              "  </div>\n",
              "  "
            ]
          },
          "metadata": {},
          "execution_count": 473
        }
      ]
    },
    {
      "cell_type": "code",
      "source": [
        "len(df['description'].unique())  #"
      ],
      "metadata": {
        "colab": {
          "base_uri": "https://localhost:8080/"
        },
        "id": "2swftJ9S0nFx",
        "outputId": "11b9bbc8-ba62-4954-9348-9ff07358522a"
      },
      "execution_count": 474,
      "outputs": [
        {
          "output_type": "execute_result",
          "data": {
            "text/plain": [
              "9"
            ]
          },
          "metadata": {},
          "execution_count": 474
        }
      ]
    },
    {
      "cell_type": "code",
      "source": [
        "df.isnull().any()"
      ],
      "metadata": {
        "colab": {
          "base_uri": "https://localhost:8080/"
        },
        "id": "GFHpqBU41Xvg",
        "outputId": "e03bf1f4-3e68-44f0-c743-2589b0fdc2c4"
      },
      "execution_count": 475,
      "outputs": [
        {
          "output_type": "execute_result",
          "data": {
            "text/plain": [
              "names          False\n",
              "links          False\n",
              "lat            False\n",
              "lon            False\n",
              "hotel_note     False\n",
              "description    False\n",
              "dtype: bool"
            ]
          },
          "metadata": {},
          "execution_count": 475
        }
      ]
    },
    {
      "cell_type": "code",
      "source": [
        "df['lat'][1][0:5]"
      ],
      "metadata": {
        "colab": {
          "base_uri": "https://localhost:8080/",
          "height": 36
        },
        "id": "6f4Yt38M-Hlw",
        "outputId": "7406ff6c-33e2-4444-b70d-29ce45646377"
      },
      "execution_count": 476,
      "outputs": [
        {
          "output_type": "execute_result",
          "data": {
            "text/plain": [
              "'48.59'"
            ],
            "application/vnd.google.colaboratory.intrinsic+json": {
              "type": "string"
            }
          },
          "metadata": {},
          "execution_count": 476
        }
      ]
    },
    {
      "cell_type": "code",
      "source": [
        "df['description']=df['description'].apply(lambda x : x.replace('\\n','') ) #les \\n au debut deleted\n",
        "df['lat']=df['lat'].apply(lambda x : df['lat'][1][0:5])  # just 2 number after .\n",
        "df['lon']=df['lon'].apply(lambda x : df['lon'][1][0:5] )"
      ],
      "metadata": {
        "id": "6p83WiLQyHCI"
      },
      "execution_count": 477,
      "outputs": []
    },
    {
      "cell_type": "code",
      "source": [
        "df['lat']=pd.to_numeric(df['lat'])\n",
        "df['lon']=pd.to_numeric(df['lon'])\n",
        "type(df['lat'][0])"
      ],
      "metadata": {
        "colab": {
          "base_uri": "https://localhost:8080/"
        },
        "id": "jWiKArup9GaF",
        "outputId": "0848e294-d3d6-4c77-a5e6-42353d46a34b"
      },
      "execution_count": 478,
      "outputs": [
        {
          "output_type": "execute_result",
          "data": {
            "text/plain": [
              "numpy.float64"
            ]
          },
          "metadata": {},
          "execution_count": 478
        }
      ]
    },
    {
      "cell_type": "code",
      "source": [
        "df['hotel_note']=df['hotel_note'].apply(lambda x : x.replace(\",\",'.') ) "
      ],
      "metadata": {
        "id": "7uQMWeF6Almz"
      },
      "execution_count": 479,
      "outputs": []
    },
    {
      "cell_type": "code",
      "source": [
        "df['hotel_note']=pd.to_numeric(df['hotel_note'])"
      ],
      "metadata": {
        "id": "fnTfThES_zy6"
      },
      "execution_count": 480,
      "outputs": []
    },
    {
      "cell_type": "code",
      "source": [
        "df.head()"
      ],
      "metadata": {
        "colab": {
          "base_uri": "https://localhost:8080/",
          "height": 206
        },
        "id": "8W41W9s6zAN6",
        "outputId": "4f007b89-6643-4d6f-8246-088098278f9e"
      },
      "execution_count": 481,
      "outputs": [
        {
          "output_type": "execute_result",
          "data": {
            "text/plain": [
              "                   names                                              links  \\\n",
              "0          Hotel Gabriel  https://www.booking.com/hotel/fr/hotel-gabriel...   \n",
              "1      Hotel De La Digue  https://www.booking.com/hotel/fr/de-la-digue.f...   \n",
              "2       Le Relais Du Roy  https://www.booking.com/hotel/fr/le-relais-du-...   \n",
              "3             Hôtel Vert      https://www.booking.com/hotel/fr/vert.fr.html   \n",
              "4  Les Terrasses Poulard  https://www.booking.com/hotel/fr/les-terrasses...   \n",
              "\n",
              "     lat   lon  hotel_note                                        description  \n",
              "0  48.59 -1.53         7.9  Vous pouvez bénéficier d'une réduction Genius ...  \n",
              "1  48.59 -1.53         7.1   L'hôtel De La Digue est un établissement trad...  \n",
              "2  48.59 -1.53         7.9  Vous pouvez bénéficier d'une réduction Genius ...  \n",
              "3  48.59 -1.53         8.0  Vous pouvez bénéficier d'une réduction Genius ...  \n",
              "4  48.59 -1.53         7.3  Vous pouvez bénéficier d'une réduction Genius ...  "
            ],
            "text/html": [
              "\n",
              "  <div id=\"df-9a4550b7-18a1-4552-8070-5b9d84a3df03\">\n",
              "    <div class=\"colab-df-container\">\n",
              "      <div>\n",
              "<style scoped>\n",
              "    .dataframe tbody tr th:only-of-type {\n",
              "        vertical-align: middle;\n",
              "    }\n",
              "\n",
              "    .dataframe tbody tr th {\n",
              "        vertical-align: top;\n",
              "    }\n",
              "\n",
              "    .dataframe thead th {\n",
              "        text-align: right;\n",
              "    }\n",
              "</style>\n",
              "<table border=\"1\" class=\"dataframe\">\n",
              "  <thead>\n",
              "    <tr style=\"text-align: right;\">\n",
              "      <th></th>\n",
              "      <th>names</th>\n",
              "      <th>links</th>\n",
              "      <th>lat</th>\n",
              "      <th>lon</th>\n",
              "      <th>hotel_note</th>\n",
              "      <th>description</th>\n",
              "    </tr>\n",
              "  </thead>\n",
              "  <tbody>\n",
              "    <tr>\n",
              "      <th>0</th>\n",
              "      <td>Hotel Gabriel</td>\n",
              "      <td>https://www.booking.com/hotel/fr/hotel-gabriel...</td>\n",
              "      <td>48.59</td>\n",
              "      <td>-1.53</td>\n",
              "      <td>7.9</td>\n",
              "      <td>Vous pouvez bénéficier d'une réduction Genius ...</td>\n",
              "    </tr>\n",
              "    <tr>\n",
              "      <th>1</th>\n",
              "      <td>Hotel De La Digue</td>\n",
              "      <td>https://www.booking.com/hotel/fr/de-la-digue.f...</td>\n",
              "      <td>48.59</td>\n",
              "      <td>-1.53</td>\n",
              "      <td>7.1</td>\n",
              "      <td>L'hôtel De La Digue est un établissement trad...</td>\n",
              "    </tr>\n",
              "    <tr>\n",
              "      <th>2</th>\n",
              "      <td>Le Relais Du Roy</td>\n",
              "      <td>https://www.booking.com/hotel/fr/le-relais-du-...</td>\n",
              "      <td>48.59</td>\n",
              "      <td>-1.53</td>\n",
              "      <td>7.9</td>\n",
              "      <td>Vous pouvez bénéficier d'une réduction Genius ...</td>\n",
              "    </tr>\n",
              "    <tr>\n",
              "      <th>3</th>\n",
              "      <td>Hôtel Vert</td>\n",
              "      <td>https://www.booking.com/hotel/fr/vert.fr.html</td>\n",
              "      <td>48.59</td>\n",
              "      <td>-1.53</td>\n",
              "      <td>8.0</td>\n",
              "      <td>Vous pouvez bénéficier d'une réduction Genius ...</td>\n",
              "    </tr>\n",
              "    <tr>\n",
              "      <th>4</th>\n",
              "      <td>Les Terrasses Poulard</td>\n",
              "      <td>https://www.booking.com/hotel/fr/les-terrasses...</td>\n",
              "      <td>48.59</td>\n",
              "      <td>-1.53</td>\n",
              "      <td>7.3</td>\n",
              "      <td>Vous pouvez bénéficier d'une réduction Genius ...</td>\n",
              "    </tr>\n",
              "  </tbody>\n",
              "</table>\n",
              "</div>\n",
              "      <button class=\"colab-df-convert\" onclick=\"convertToInteractive('df-9a4550b7-18a1-4552-8070-5b9d84a3df03')\"\n",
              "              title=\"Convert this dataframe to an interactive table.\"\n",
              "              style=\"display:none;\">\n",
              "        \n",
              "  <svg xmlns=\"http://www.w3.org/2000/svg\" height=\"24px\"viewBox=\"0 0 24 24\"\n",
              "       width=\"24px\">\n",
              "    <path d=\"M0 0h24v24H0V0z\" fill=\"none\"/>\n",
              "    <path d=\"M18.56 5.44l.94 2.06.94-2.06 2.06-.94-2.06-.94-.94-2.06-.94 2.06-2.06.94zm-11 1L8.5 8.5l.94-2.06 2.06-.94-2.06-.94L8.5 2.5l-.94 2.06-2.06.94zm10 10l.94 2.06.94-2.06 2.06-.94-2.06-.94-.94-2.06-.94 2.06-2.06.94z\"/><path d=\"M17.41 7.96l-1.37-1.37c-.4-.4-.92-.59-1.43-.59-.52 0-1.04.2-1.43.59L10.3 9.45l-7.72 7.72c-.78.78-.78 2.05 0 2.83L4 21.41c.39.39.9.59 1.41.59.51 0 1.02-.2 1.41-.59l7.78-7.78 2.81-2.81c.8-.78.8-2.07 0-2.86zM5.41 20L4 18.59l7.72-7.72 1.47 1.35L5.41 20z\"/>\n",
              "  </svg>\n",
              "      </button>\n",
              "      \n",
              "  <style>\n",
              "    .colab-df-container {\n",
              "      display:flex;\n",
              "      flex-wrap:wrap;\n",
              "      gap: 12px;\n",
              "    }\n",
              "\n",
              "    .colab-df-convert {\n",
              "      background-color: #E8F0FE;\n",
              "      border: none;\n",
              "      border-radius: 50%;\n",
              "      cursor: pointer;\n",
              "      display: none;\n",
              "      fill: #1967D2;\n",
              "      height: 32px;\n",
              "      padding: 0 0 0 0;\n",
              "      width: 32px;\n",
              "    }\n",
              "\n",
              "    .colab-df-convert:hover {\n",
              "      background-color: #E2EBFA;\n",
              "      box-shadow: 0px 1px 2px rgba(60, 64, 67, 0.3), 0px 1px 3px 1px rgba(60, 64, 67, 0.15);\n",
              "      fill: #174EA6;\n",
              "    }\n",
              "\n",
              "    [theme=dark] .colab-df-convert {\n",
              "      background-color: #3B4455;\n",
              "      fill: #D2E3FC;\n",
              "    }\n",
              "\n",
              "    [theme=dark] .colab-df-convert:hover {\n",
              "      background-color: #434B5C;\n",
              "      box-shadow: 0px 1px 3px 1px rgba(0, 0, 0, 0.15);\n",
              "      filter: drop-shadow(0px 1px 2px rgba(0, 0, 0, 0.3));\n",
              "      fill: #FFFFFF;\n",
              "    }\n",
              "  </style>\n",
              "\n",
              "      <script>\n",
              "        const buttonEl =\n",
              "          document.querySelector('#df-9a4550b7-18a1-4552-8070-5b9d84a3df03 button.colab-df-convert');\n",
              "        buttonEl.style.display =\n",
              "          google.colab.kernel.accessAllowed ? 'block' : 'none';\n",
              "\n",
              "        async function convertToInteractive(key) {\n",
              "          const element = document.querySelector('#df-9a4550b7-18a1-4552-8070-5b9d84a3df03');\n",
              "          const dataTable =\n",
              "            await google.colab.kernel.invokeFunction('convertToInteractive',\n",
              "                                                     [key], {});\n",
              "          if (!dataTable) return;\n",
              "\n",
              "          const docLinkHtml = 'Like what you see? Visit the ' +\n",
              "            '<a target=\"_blank\" href=https://colab.research.google.com/notebooks/data_table.ipynb>data table notebook</a>'\n",
              "            + ' to learn more about interactive tables.';\n",
              "          element.innerHTML = '';\n",
              "          dataTable['output_type'] = 'display_data';\n",
              "          await google.colab.output.renderOutput(dataTable, element);\n",
              "          const docLink = document.createElement('div');\n",
              "          docLink.innerHTML = docLinkHtml;\n",
              "          element.appendChild(docLink);\n",
              "        }\n",
              "      </script>\n",
              "    </div>\n",
              "  </div>\n",
              "  "
            ]
          },
          "metadata": {},
          "execution_count": 481
        }
      ]
    },
    {
      "cell_type": "code",
      "source": [
        "df.to_csv('projetkayak.csv', index=False, encoding='utf-8')"
      ],
      "metadata": {
        "id": "26UdscfVxo-Q"
      },
      "execution_count": 482,
      "outputs": []
    },
    {
      "cell_type": "code",
      "source": [
        "fig = px.scatter_mapbox(df, lat=\"lat\",\n",
        "                        lon=\"lon\", \n",
        "                        color=\"hotel_note\", \n",
        "                        zoom=10, \n",
        "                        mapbox_style=\"carto-positron\")\n",
        "fig.show()"
      ],
      "metadata": {
        "colab": {
          "base_uri": "https://localhost:8080/",
          "height": 542
        },
        "id": "H6Q1x4ri64jv",
        "outputId": "b2073ad9-ea63-478b-bec6-cdfffb58a550"
      },
      "execution_count": 483,
      "outputs": [
        {
          "output_type": "display_data",
          "data": {
            "text/html": [
              "<html>\n",
              "<head><meta charset=\"utf-8\" /></head>\n",
              "<body>\n",
              "    <div>            <script src=\"https://cdnjs.cloudflare.com/ajax/libs/mathjax/2.7.5/MathJax.js?config=TeX-AMS-MML_SVG\"></script><script type=\"text/javascript\">if (window.MathJax && window.MathJax.Hub && window.MathJax.Hub.Config) {window.MathJax.Hub.Config({SVG: {font: \"STIX-Web\"}});}</script>                <script type=\"text/javascript\">window.PlotlyConfig = {MathJaxConfig: 'local'};</script>\n",
              "        <script src=\"https://cdn.plot.ly/plotly-2.18.2.min.js\"></script>                <div id=\"5a06ce17-53e6-4cb1-b767-d6f016a883fd\" class=\"plotly-graph-div\" style=\"height:525px; width:100%;\"></div>            <script type=\"text/javascript\">                                    window.PLOTLYENV=window.PLOTLYENV || {};                                    if (document.getElementById(\"5a06ce17-53e6-4cb1-b767-d6f016a883fd\")) {                    Plotly.newPlot(                        \"5a06ce17-53e6-4cb1-b767-d6f016a883fd\",                        [{\"hovertemplate\":\"lat=%{lat}<br>lon=%{lon}<br>hotel_note=%{marker.color}<extra></extra>\",\"lat\":[48.59,48.59,48.59,48.59,48.59,48.59,48.59,48.59,48.59],\"legendgroup\":\"\",\"lon\":[-1.53,-1.53,-1.53,-1.53,-1.53,-1.53,-1.53,-1.53,-1.53],\"marker\":{\"color\":[7.9,7.1,7.9,8.0,7.3,7.9,7.0,7.9,7.0],\"coloraxis\":\"coloraxis\"},\"mode\":\"markers\",\"name\":\"\",\"showlegend\":false,\"subplot\":\"mapbox\",\"type\":\"scattermapbox\"}],                        {\"template\":{\"data\":{\"histogram2dcontour\":[{\"type\":\"histogram2dcontour\",\"colorbar\":{\"outlinewidth\":0,\"ticks\":\"\"},\"colorscale\":[[0.0,\"#0d0887\"],[0.1111111111111111,\"#46039f\"],[0.2222222222222222,\"#7201a8\"],[0.3333333333333333,\"#9c179e\"],[0.4444444444444444,\"#bd3786\"],[0.5555555555555556,\"#d8576b\"],[0.6666666666666666,\"#ed7953\"],[0.7777777777777778,\"#fb9f3a\"],[0.8888888888888888,\"#fdca26\"],[1.0,\"#f0f921\"]]}],\"choropleth\":[{\"type\":\"choropleth\",\"colorbar\":{\"outlinewidth\":0,\"ticks\":\"\"}}],\"histogram2d\":[{\"type\":\"histogram2d\",\"colorbar\":{\"outlinewidth\":0,\"ticks\":\"\"},\"colorscale\":[[0.0,\"#0d0887\"],[0.1111111111111111,\"#46039f\"],[0.2222222222222222,\"#7201a8\"],[0.3333333333333333,\"#9c179e\"],[0.4444444444444444,\"#bd3786\"],[0.5555555555555556,\"#d8576b\"],[0.6666666666666666,\"#ed7953\"],[0.7777777777777778,\"#fb9f3a\"],[0.8888888888888888,\"#fdca26\"],[1.0,\"#f0f921\"]]}],\"heatmap\":[{\"type\":\"heatmap\",\"colorbar\":{\"outlinewidth\":0,\"ticks\":\"\"},\"colorscale\":[[0.0,\"#0d0887\"],[0.1111111111111111,\"#46039f\"],[0.2222222222222222,\"#7201a8\"],[0.3333333333333333,\"#9c179e\"],[0.4444444444444444,\"#bd3786\"],[0.5555555555555556,\"#d8576b\"],[0.6666666666666666,\"#ed7953\"],[0.7777777777777778,\"#fb9f3a\"],[0.8888888888888888,\"#fdca26\"],[1.0,\"#f0f921\"]]}],\"heatmapgl\":[{\"type\":\"heatmapgl\",\"colorbar\":{\"outlinewidth\":0,\"ticks\":\"\"},\"colorscale\":[[0.0,\"#0d0887\"],[0.1111111111111111,\"#46039f\"],[0.2222222222222222,\"#7201a8\"],[0.3333333333333333,\"#9c179e\"],[0.4444444444444444,\"#bd3786\"],[0.5555555555555556,\"#d8576b\"],[0.6666666666666666,\"#ed7953\"],[0.7777777777777778,\"#fb9f3a\"],[0.8888888888888888,\"#fdca26\"],[1.0,\"#f0f921\"]]}],\"contourcarpet\":[{\"type\":\"contourcarpet\",\"colorbar\":{\"outlinewidth\":0,\"ticks\":\"\"}}],\"contour\":[{\"type\":\"contour\",\"colorbar\":{\"outlinewidth\":0,\"ticks\":\"\"},\"colorscale\":[[0.0,\"#0d0887\"],[0.1111111111111111,\"#46039f\"],[0.2222222222222222,\"#7201a8\"],[0.3333333333333333,\"#9c179e\"],[0.4444444444444444,\"#bd3786\"],[0.5555555555555556,\"#d8576b\"],[0.6666666666666666,\"#ed7953\"],[0.7777777777777778,\"#fb9f3a\"],[0.8888888888888888,\"#fdca26\"],[1.0,\"#f0f921\"]]}],\"surface\":[{\"type\":\"surface\",\"colorbar\":{\"outlinewidth\":0,\"ticks\":\"\"},\"colorscale\":[[0.0,\"#0d0887\"],[0.1111111111111111,\"#46039f\"],[0.2222222222222222,\"#7201a8\"],[0.3333333333333333,\"#9c179e\"],[0.4444444444444444,\"#bd3786\"],[0.5555555555555556,\"#d8576b\"],[0.6666666666666666,\"#ed7953\"],[0.7777777777777778,\"#fb9f3a\"],[0.8888888888888888,\"#fdca26\"],[1.0,\"#f0f921\"]]}],\"mesh3d\":[{\"type\":\"mesh3d\",\"colorbar\":{\"outlinewidth\":0,\"ticks\":\"\"}}],\"scatter\":[{\"fillpattern\":{\"fillmode\":\"overlay\",\"size\":10,\"solidity\":0.2},\"type\":\"scatter\"}],\"parcoords\":[{\"type\":\"parcoords\",\"line\":{\"colorbar\":{\"outlinewidth\":0,\"ticks\":\"\"}}}],\"scatterpolargl\":[{\"type\":\"scatterpolargl\",\"marker\":{\"colorbar\":{\"outlinewidth\":0,\"ticks\":\"\"}}}],\"bar\":[{\"error_x\":{\"color\":\"#2a3f5f\"},\"error_y\":{\"color\":\"#2a3f5f\"},\"marker\":{\"line\":{\"color\":\"#E5ECF6\",\"width\":0.5},\"pattern\":{\"fillmode\":\"overlay\",\"size\":10,\"solidity\":0.2}},\"type\":\"bar\"}],\"scattergeo\":[{\"type\":\"scattergeo\",\"marker\":{\"colorbar\":{\"outlinewidth\":0,\"ticks\":\"\"}}}],\"scatterpolar\":[{\"type\":\"scatterpolar\",\"marker\":{\"colorbar\":{\"outlinewidth\":0,\"ticks\":\"\"}}}],\"histogram\":[{\"marker\":{\"pattern\":{\"fillmode\":\"overlay\",\"size\":10,\"solidity\":0.2}},\"type\":\"histogram\"}],\"scattergl\":[{\"type\":\"scattergl\",\"marker\":{\"colorbar\":{\"outlinewidth\":0,\"ticks\":\"\"}}}],\"scatter3d\":[{\"type\":\"scatter3d\",\"line\":{\"colorbar\":{\"outlinewidth\":0,\"ticks\":\"\"}},\"marker\":{\"colorbar\":{\"outlinewidth\":0,\"ticks\":\"\"}}}],\"scattermapbox\":[{\"type\":\"scattermapbox\",\"marker\":{\"colorbar\":{\"outlinewidth\":0,\"ticks\":\"\"}}}],\"scatterternary\":[{\"type\":\"scatterternary\",\"marker\":{\"colorbar\":{\"outlinewidth\":0,\"ticks\":\"\"}}}],\"scattercarpet\":[{\"type\":\"scattercarpet\",\"marker\":{\"colorbar\":{\"outlinewidth\":0,\"ticks\":\"\"}}}],\"carpet\":[{\"aaxis\":{\"endlinecolor\":\"#2a3f5f\",\"gridcolor\":\"white\",\"linecolor\":\"white\",\"minorgridcolor\":\"white\",\"startlinecolor\":\"#2a3f5f\"},\"baxis\":{\"endlinecolor\":\"#2a3f5f\",\"gridcolor\":\"white\",\"linecolor\":\"white\",\"minorgridcolor\":\"white\",\"startlinecolor\":\"#2a3f5f\"},\"type\":\"carpet\"}],\"table\":[{\"cells\":{\"fill\":{\"color\":\"#EBF0F8\"},\"line\":{\"color\":\"white\"}},\"header\":{\"fill\":{\"color\":\"#C8D4E3\"},\"line\":{\"color\":\"white\"}},\"type\":\"table\"}],\"barpolar\":[{\"marker\":{\"line\":{\"color\":\"#E5ECF6\",\"width\":0.5},\"pattern\":{\"fillmode\":\"overlay\",\"size\":10,\"solidity\":0.2}},\"type\":\"barpolar\"}],\"pie\":[{\"automargin\":true,\"type\":\"pie\"}]},\"layout\":{\"autotypenumbers\":\"strict\",\"colorway\":[\"#636efa\",\"#EF553B\",\"#00cc96\",\"#ab63fa\",\"#FFA15A\",\"#19d3f3\",\"#FF6692\",\"#B6E880\",\"#FF97FF\",\"#FECB52\"],\"font\":{\"color\":\"#2a3f5f\"},\"hovermode\":\"closest\",\"hoverlabel\":{\"align\":\"left\"},\"paper_bgcolor\":\"white\",\"plot_bgcolor\":\"#E5ECF6\",\"polar\":{\"bgcolor\":\"#E5ECF6\",\"angularaxis\":{\"gridcolor\":\"white\",\"linecolor\":\"white\",\"ticks\":\"\"},\"radialaxis\":{\"gridcolor\":\"white\",\"linecolor\":\"white\",\"ticks\":\"\"}},\"ternary\":{\"bgcolor\":\"#E5ECF6\",\"aaxis\":{\"gridcolor\":\"white\",\"linecolor\":\"white\",\"ticks\":\"\"},\"baxis\":{\"gridcolor\":\"white\",\"linecolor\":\"white\",\"ticks\":\"\"},\"caxis\":{\"gridcolor\":\"white\",\"linecolor\":\"white\",\"ticks\":\"\"}},\"coloraxis\":{\"colorbar\":{\"outlinewidth\":0,\"ticks\":\"\"}},\"colorscale\":{\"sequential\":[[0.0,\"#0d0887\"],[0.1111111111111111,\"#46039f\"],[0.2222222222222222,\"#7201a8\"],[0.3333333333333333,\"#9c179e\"],[0.4444444444444444,\"#bd3786\"],[0.5555555555555556,\"#d8576b\"],[0.6666666666666666,\"#ed7953\"],[0.7777777777777778,\"#fb9f3a\"],[0.8888888888888888,\"#fdca26\"],[1.0,\"#f0f921\"]],\"sequentialminus\":[[0.0,\"#0d0887\"],[0.1111111111111111,\"#46039f\"],[0.2222222222222222,\"#7201a8\"],[0.3333333333333333,\"#9c179e\"],[0.4444444444444444,\"#bd3786\"],[0.5555555555555556,\"#d8576b\"],[0.6666666666666666,\"#ed7953\"],[0.7777777777777778,\"#fb9f3a\"],[0.8888888888888888,\"#fdca26\"],[1.0,\"#f0f921\"]],\"diverging\":[[0,\"#8e0152\"],[0.1,\"#c51b7d\"],[0.2,\"#de77ae\"],[0.3,\"#f1b6da\"],[0.4,\"#fde0ef\"],[0.5,\"#f7f7f7\"],[0.6,\"#e6f5d0\"],[0.7,\"#b8e186\"],[0.8,\"#7fbc41\"],[0.9,\"#4d9221\"],[1,\"#276419\"]]},\"xaxis\":{\"gridcolor\":\"white\",\"linecolor\":\"white\",\"ticks\":\"\",\"title\":{\"standoff\":15},\"zerolinecolor\":\"white\",\"automargin\":true,\"zerolinewidth\":2},\"yaxis\":{\"gridcolor\":\"white\",\"linecolor\":\"white\",\"ticks\":\"\",\"title\":{\"standoff\":15},\"zerolinecolor\":\"white\",\"automargin\":true,\"zerolinewidth\":2},\"scene\":{\"xaxis\":{\"backgroundcolor\":\"#E5ECF6\",\"gridcolor\":\"white\",\"linecolor\":\"white\",\"showbackground\":true,\"ticks\":\"\",\"zerolinecolor\":\"white\",\"gridwidth\":2},\"yaxis\":{\"backgroundcolor\":\"#E5ECF6\",\"gridcolor\":\"white\",\"linecolor\":\"white\",\"showbackground\":true,\"ticks\":\"\",\"zerolinecolor\":\"white\",\"gridwidth\":2},\"zaxis\":{\"backgroundcolor\":\"#E5ECF6\",\"gridcolor\":\"white\",\"linecolor\":\"white\",\"showbackground\":true,\"ticks\":\"\",\"zerolinecolor\":\"white\",\"gridwidth\":2}},\"shapedefaults\":{\"line\":{\"color\":\"#2a3f5f\"}},\"annotationdefaults\":{\"arrowcolor\":\"#2a3f5f\",\"arrowhead\":0,\"arrowwidth\":1},\"geo\":{\"bgcolor\":\"white\",\"landcolor\":\"#E5ECF6\",\"subunitcolor\":\"white\",\"showland\":true,\"showlakes\":true,\"lakecolor\":\"white\"},\"title\":{\"x\":0.05},\"mapbox\":{\"style\":\"light\"}}},\"mapbox\":{\"domain\":{\"x\":[0.0,1.0],\"y\":[0.0,1.0]},\"center\":{\"lat\":48.59,\"lon\":-1.53},\"zoom\":10,\"style\":\"carto-positron\"},\"coloraxis\":{\"colorbar\":{\"title\":{\"text\":\"hotel_note\"}},\"colorscale\":[[0.0,\"#0d0887\"],[0.1111111111111111,\"#46039f\"],[0.2222222222222222,\"#7201a8\"],[0.3333333333333333,\"#9c179e\"],[0.4444444444444444,\"#bd3786\"],[0.5555555555555556,\"#d8576b\"],[0.6666666666666666,\"#ed7953\"],[0.7777777777777778,\"#fb9f3a\"],[0.8888888888888888,\"#fdca26\"],[1.0,\"#f0f921\"]]},\"legend\":{\"tracegroupgap\":0},\"margin\":{\"t\":60}},                        {\"responsive\": true}                    ).then(function(){\n",
              "                            \n",
              "var gd = document.getElementById('5a06ce17-53e6-4cb1-b767-d6f016a883fd');\n",
              "var x = new MutationObserver(function (mutations, observer) {{\n",
              "        var display = window.getComputedStyle(gd).display;\n",
              "        if (!display || display === 'none') {{\n",
              "            console.log([gd, 'removed!']);\n",
              "            Plotly.purge(gd);\n",
              "            observer.disconnect();\n",
              "        }}\n",
              "}});\n",
              "\n",
              "// Listen for the removal of the full notebook cells\n",
              "var notebookContainer = gd.closest('#notebook-container');\n",
              "if (notebookContainer) {{\n",
              "    x.observe(notebookContainer, {childList: true});\n",
              "}}\n",
              "\n",
              "// Listen for the clearing of the current output cell\n",
              "var outputEl = gd.closest('.output');\n",
              "if (outputEl) {{\n",
              "    x.observe(outputEl, {childList: true});\n",
              "}}\n",
              "\n",
              "                        })                };                            </script>        </div>\n",
              "</body>\n",
              "</html>"
            ]
          },
          "metadata": {}
        }
      ]
    },
    {
      "cell_type": "code",
      "source": [
        "dic={\n",
        "\"Paris\":'https://www.booking.com/searchresults.fr.html?ss=Paris&ssne=Paris&ssne_untouched=Paris&label=gen173nr-1BCAEoggI46AdIM1gEaOIBiAEBmAENuAEGyAEM2AEB6AEBiAIBqAIDuAKIxpijBsACAdICJDAwNmExMDRkLTZkMmEtNDA5Yy1iNzNlLWM0N2RhMjQxZTViOdgCBeACAQ&sid=25116a3e813b55f0478b91d5b7063890&aid=304142&lang=fr&sb=1&src_elem=sb&src=index&dest_id=-1456928&dest_type=city&group_adults=2&no_rooms=1&group_children=0&sb_travel_purpose=leisure',    \n",
        "\"Mont Saint Michel\":'https://www.booking.com/searchresults.fr.html?ss=Le+Mont-Saint-Michel&ssne=Le+Mont-Saint-Michel&ssne_untouched=Le+Mont-Saint-Michel&efdco=1&label=gen173nr-1BCAEoggI46AdIM1gEaOIBiAEBmAENuAEGyAEM2AEB6AEBiAIBqAIDuAKo8qOjBsACAdICJGRmY2FkMjhkLTY1MWUtNGE2Ny1hMTg5LTQzNDhlNjc1YmEyZNgCBeACAQ&sid=25116a3e813b55f0478b91d5b7063890&aid=304142&lang=fr&sb=1&src_elem=sb&src=searchresults&dest_id=900039327&dest_type=city&group_adults=2&no_rooms=1&group_children=0',\n",
        "\"St Malo\":'https://www.booking.com/searchresults.fr.html?ss=St+Malo&ssne=Saint-Malo&ssne_untouched=Saint-Malo&label=gen173nr-1BCAEoggI46AdIM1gEaOIBiAEBmAENuAEGyAEM2AEB6AEBiAIBqAIDuAKT86OjBsACAdICJDBlZjAxY2Y4LTc4OWQtNDFjZC1hNWQ4LTVhMWM1MTliM2NjM9gCBeACAQ&sid=25116a3e813b55f0478b91d5b7063890&aid=304142&lang=fr&sb=1&src_elem=sb&src=index&dest_id=-1466824&dest_type=city&ac_position=0&ac_click_type=b&ac_langcode=fr&ac_suggestion_list_length=5&search_selected=true&search_pageview_id=22f37609fbe50123&ac_meta=GhAyMmYzNzYwOWZiZTUwMTIzIAAoATICZnI6B1N0IE1hbG9AAEoAUAA%3D&group_adults=2&no_rooms=1&group_children=0&sb_travel_purpose=leisure',\n",
        "\"Bayeux\":'https://www.booking.com/searchresults.fr.html?ss=Bayeux&ssne=Bayeux&ssne_untouched=Bayeux&label=gen173nr-1BCAEoggI46AdIM1gEaOIBiAEBmAENuAEGyAEM2AEB6AEBiAIBqAIDuALw86OjBsACAdICJDFjMGE2N2Q3LTRhOTYtNGFjNC1iNjBlLWY3Mzg5NzEzMDVkZdgCBeACAQ&sid=25116a3e813b55f0478b91d5b7063890&aid=304142&lang=fr&sb=1&src_elem=sb&src=searchresults&dest_id=-1410836&dest_type=city&group_adults=2&no_rooms=1&group_children=0',\n",
        "\"Le Havre\":'https://www.booking.com/searchresults.fr.html?ss=Le+Havre&ssne=Le+Havre&ssne_untouched=Le+Havre&label=gen173nr-1BCAEoggI46AdIM1gEaOIBiAEBmAENuAEGyAEM2AEB6AEBiAIBqAIDuALw86OjBsACAdICJDFjMGE2N2Q3LTRhOTYtNGFjNC1iNjBlLWY3Mzg5NzEzMDVkZdgCBeACAQ&sid=25116a3e813b55f0478b91d5b7063890&aid=304142&lang=fr&sb=1&src_elem=sb&src=searchresults&dest_id=-1441598&dest_type=city&group_adults=2&no_rooms=1&group_children=0',\n",
        "}\n",
        "\n",
        "# \"Amiens\",\n",
        "# \"Lille\",\n",
        "# \"Strasbourg\",\n",
        "# \"Chateau du Haut Koenigsbourg\",\n",
        "# \"Colmar\",\n",
        "# \"Eguisheim\",\n",
        "# \"Besancon\",\n",
        "# \"Dijon\",\n",
        "# \"Annecy\",\n",
        "# \"Grenoble\",\n",
        "# \"Lyon\",\n",
        "# \"Gorges du Verdon\",\n",
        "# \"Bormes les Mimosas\",\n",
        "# \"Cassis\",\n",
        "# \"Marseille\",\n",
        "# \"Aix en Provence\",\n",
        "# \"Avignon\",\n",
        "# \"Uzes\",\n",
        "# \"Nimes\",\n",
        "# \"Aigues Mortes\",\n",
        "# \"Saintes Maries de la mer\",\n",
        "# \"Collioure\",\n",
        "# \"Carcassonne\",\n",
        "# \"Ariege\",\n",
        "# \"Toulouse\",\n",
        "# \"Montauban\",\n",
        "# \"Biarritz\",\n",
        "# \"Bayonne\",\n",
        "# \"La Rochelle\"}"
      ],
      "metadata": {
        "id": "KreH5bGSHa3J"
      },
      "execution_count": 484,
      "outputs": []
    },
    {
      "cell_type": "code",
      "source": [
        "urls=['https://www.booking.com/searchresults.fr.html?ss=Paris&ssne=Paris&ssne_untouched=Paris&label=gen173nr-1BCAEoggI46AdIM1gEaOIBiAEBmAENuAEGyAEM2AEB6AEBiAIBqAIDuAKIxpijBsACAdICJDAwNmExMDRkLTZkMmEtNDA5Yy1iNzNlLWM0N2RhMjQxZTViOdgCBeACAQ&sid=25116a3e813b55f0478b91d5b7063890&aid=304142&lang=fr&sb=1&src_elem=sb&src=index&dest_id=-1456928&dest_type=city&group_adults=2&no_rooms=1&group_children=0&sb_travel_purpose=leisure','https://www.booking.com/searchresults.fr.html?ss=Le+Havre&ssne=Le+Havre&ssne_untouched=Le+Havre&label=gen173nr-1BCAEoggI46AdIM1gEaOIBiAEBmAENuAEGyAEM2AEB6AEBiAIBqAIDuALw86OjBsACAdICJDFjMGE2N2Q3LTRhOTYtNGFjNC1iNjBlLWY3Mzg5NzEzMDVkZdgCBeACAQ&sid=25116a3e813b55f0478b91d5b7063890&aid=304142&lang=fr&sb=1&src_elem=sb&src=searchresults&dest_id=-1441598&dest_type=city&group_adults=2&no_rooms=1&group_children=0',\n",
        "      'https://www.booking.com/searchresults.fr.html?ss=Bayeux&ssne=Bayeux&ssne_untouched=Bayeux&label=gen173nr-1BCAEoggI46AdIM1gEaOIBiAEBmAENuAEGyAEM2AEB6AEBiAIBqAIDuALw86OjBsACAdICJDFjMGE2N2Q3LTRhOTYtNGFjNC1iNjBlLWY3Mzg5NzEzMDVkZdgCBeACAQ&sid=25116a3e813b55f0478b91d5b7063890&aid=304142&lang=fr&sb=1&src_elem=sb&src=searchresults&dest_id=-1410836&dest_type=city&group_adults=2&no_rooms=1&group_children=0',\n",
        "      'https://www.booking.com/searchresults.fr.html?ss=St+Malo&ssne=Saint-Malo&ssne_untouched=Saint-Malo&label=gen173nr-1BCAEoggI46AdIM1gEaOIBiAEBmAENuAEGyAEM2AEB6AEBiAIBqAIDuAKT86OjBsACAdICJDBlZjAxY2Y4LTc4OWQtNDFjZC1hNWQ4LTVhMWM1MTliM2NjM9gCBeACAQ&sid=25116a3e813b55f0478b91d5b7063890&aid=304142&lang=fr&sb=1&src_elem=sb&src=index&dest_id=-1466824&dest_type=city&ac_position=0&ac_click_type=b&ac_langcode=fr&ac_suggestion_list_length=5&search_selected=true&search_pageview_id=22f37609fbe50123&ac_meta=GhAyMmYzNzYwOWZiZTUwMTIzIAAoATICZnI6B1N0IE1hbG9AAEoAUAA%3D&group_adults=2&no_rooms=1&group_children=0&sb_travel_purpose=leisure',\n",
        "      'https://www.booking.com/searchresults.fr.html?ss=Le+Mont-Saint-Michel&ssne=Le+Mont-Saint-Michel&ssne_untouched=Le+Mont-Saint-Michel&efdco=1&label=gen173nr-1BCAEoggI46AdIM1gEaOIBiAEBmAENuAEGyAEM2AEB6AEBiAIBqAIDuAKo8qOjBsACAdICJGRmY2FkMjhkLTY1MWUtNGE2Ny1hMTg5LTQzNDhlNjc1YmEyZNgCBeACAQ&sid=25116a3e813b55f0478b91d5b7063890&aid=304142&lang=fr&sb=1&src_elem=sb&src=searchresults&dest_id=900039327&dest_type=city&group_adults=2&no_rooms=1&group_children=0',]"
      ],
      "metadata": {
        "id": "WDKxO5DNSEq5"
      },
      "execution_count": 507,
      "outputs": []
    },
    {
      "cell_type": "code",
      "source": [
        "df2=pd.DataFrame()\n",
        "for url in urls:\n",
        "    r2=requests.get(url)\n",
        "    r2.text[0:200]\n",
        "    # Instanciate BeautifulSoup class\n",
        "    soup2=BeautifulSoup( r2.text, \"html.parser\") # Here we used an HTML Parser\n",
        "    links=[]\n",
        "    names=[]\n",
        "    for i in range(n):\n",
        "        c=soup2.find_all('a',attrs={'class':\"bui-card__header_full_link_wrap\"})[i]\n",
        "        names.append(c.text.split('\\n')[2])\n",
        "        links.append('https://www.booking.com'+ str(c).split('href=')[1].split( 'title=')[0].split('\"')[1])\n",
        "    df['names']=names\n",
        "    df['links']=links\n",
        "    df['lat']=np.nan\n",
        "    df['lon']=np.nan\n",
        "    df['hotel_note']=np.nan\n",
        "    df['description']=np.nan\n",
        "    # display(df.head())\n",
        "    description=[]\n",
        "    hotel_note=[]\n",
        "    lat=[]\n",
        "    lon=[]\n",
        "    p,_=df.shape\n",
        "    for i in range(p):\n",
        "        r=requests.get(df['links'][i])\n",
        "        \n",
        "        display(df['links'][i])\n",
        "        print('--------------------------------------------------------------------------------------------------------------------------------')\n",
        "        soup2=BeautifulSoup(r.text,'html.parser')\n",
        "        hi=soup2.find('div',{'id':'property_description_content'}).text\n",
        "        description.append(hi)\n",
        "        notebyuser=soup2.find('div',{'class':\"b5cd09854e d10a6220b4\"}).text\n",
        "        hotel_note.append(notebyuser[0:3])\n",
        "        t1=str(soup2.find('a',{'id':\"hotel_header\"})).split('bbox=\"')[1].split(',')[0]\n",
        "        t2=str(soup2.find('a',{'id':\"hotel_header\"})).split('bbox=\"')[1].split(',')[1]\n",
        "        lat.append(t1)\n",
        "        lon.append(t2)\n",
        "        # print(lat[i]) #at the end we will have almost the  same lat nd lon bcs we did arround\n",
        "        if df['names'][i]=='':\n",
        "          df['names'][i]=soup2.find('h2',{'class':\"d2fee87262 pp-header__title\"}).text\n",
        "        else:\n",
        "         df['names'][i]\n",
        "    df['lat']=lat\n",
        "    df['description']=description\n",
        "    df['lon']=lon\n",
        "    df['hotel_note']=hotel_note\n",
        "    df['description']=df['description'].apply(lambda x : x.replace('\\n','') ) #les \\n au debut deleted\n",
        "    df['lat']=df['lat'].apply(lambda x : df['lat'][1][0:5])  # just 2 number after .\n",
        "    df['lon']=df['lon'].apply(lambda x : df['lon'][1][0:5] )\n",
        "    df['lat']=pd.to_numeric(df['lat'])\n",
        "    df['lon']=pd.to_numeric(df['lon'])\n",
        "    df['hotel_note']=df['hotel_note'].apply(lambda x : x.replace(\",\",'.') ) \n",
        "    df['hotel_note']=pd.to_numeric(df['hotel_note'])\n",
        "    print(\"Data is Ready now lets get the next one\")\n",
        "    print('===============================================================================================================================')\n",
        "    df2=pd.concat([df2,df])\n",
        "    display(df)\n",
        "\n",
        "print(\"Data Final\")    \n",
        "display(df2)\n",
        "    "
      ],
      "metadata": {
        "colab": {
          "base_uri": "https://localhost:8080/",
          "height": 1000
        },
        "id": "YwSmCE4eSA-L",
        "outputId": "6ff2fc9c-2a1c-4a89-fcf3-33fb6821f179"
      },
      "execution_count": 521,
      "outputs": [
        {
          "output_type": "display_data",
          "data": {
            "text/plain": [
              "'https://www.booking.com/hotel/fr/hotelterminuslehavre.fr.html'"
            ],
            "application/vnd.google.colaboratory.intrinsic+json": {
              "type": "string"
            }
          },
          "metadata": {}
        },
        {
          "output_type": "stream",
          "name": "stdout",
          "text": [
            "--------------------------------------------------------------------------------------------------------------------------------\n"
          ]
        },
        {
          "output_type": "display_data",
          "data": {
            "text/plain": [
              "'https://www.booking.com/hotel/fr/mercure-bassin-du-commerce.fr.html'"
            ],
            "application/vnd.google.colaboratory.intrinsic+json": {
              "type": "string"
            }
          },
          "metadata": {}
        },
        {
          "output_type": "stream",
          "name": "stdout",
          "text": [
            "--------------------------------------------------------------------------------------------------------------------------------\n"
          ]
        },
        {
          "output_type": "display_data",
          "data": {
            "text/plain": [
              "'https://www.booking.com/hotel/fr/citotel-le-marly.fr.html'"
            ],
            "application/vnd.google.colaboratory.intrinsic+json": {
              "type": "string"
            }
          },
          "metadata": {}
        },
        {
          "output_type": "stream",
          "name": "stdout",
          "text": [
            "--------------------------------------------------------------------------------------------------------------------------------\n"
          ]
        },
        {
          "output_type": "display_data",
          "data": {
            "text/plain": [
              "'https://www.booking.com/hotel/fr/le-richelieu-le-havre.fr.html'"
            ],
            "application/vnd.google.colaboratory.intrinsic+json": {
              "type": "string"
            }
          },
          "metadata": {}
        },
        {
          "output_type": "stream",
          "name": "stdout",
          "text": [
            "--------------------------------------------------------------------------------------------------------------------------------\n"
          ]
        },
        {
          "output_type": "display_data",
          "data": {
            "text/plain": [
              "'https://www.booking.com/hotel/fr/art.fr.html'"
            ],
            "application/vnd.google.colaboratory.intrinsic+json": {
              "type": "string"
            }
          },
          "metadata": {}
        },
        {
          "output_type": "stream",
          "name": "stdout",
          "text": [
            "--------------------------------------------------------------------------------------------------------------------------------\n"
          ]
        },
        {
          "output_type": "display_data",
          "data": {
            "text/plain": [
              "'https://www.booking.com/hotel/fr/novotellehavre.fr.html'"
            ],
            "application/vnd.google.colaboratory.intrinsic+json": {
              "type": "string"
            }
          },
          "metadata": {}
        },
        {
          "output_type": "stream",
          "name": "stdout",
          "text": [
            "--------------------------------------------------------------------------------------------------------------------------------\n"
          ]
        },
        {
          "output_type": "display_data",
          "data": {
            "text/plain": [
              "'https://www.booking.com/hotel/fr/les-gens-de-mer-le-havre.fr.html'"
            ],
            "application/vnd.google.colaboratory.intrinsic+json": {
              "type": "string"
            }
          },
          "metadata": {}
        },
        {
          "output_type": "stream",
          "name": "stdout",
          "text": [
            "--------------------------------------------------------------------------------------------------------------------------------\n"
          ]
        },
        {
          "output_type": "display_data",
          "data": {
            "text/plain": [
              "'https://www.booking.com/hotel/fr/kyriadlehavrecentre.fr.html'"
            ],
            "application/vnd.google.colaboratory.intrinsic+json": {
              "type": "string"
            }
          },
          "metadata": {}
        },
        {
          "output_type": "stream",
          "name": "stdout",
          "text": [
            "--------------------------------------------------------------------------------------------------------------------------------\n"
          ]
        },
        {
          "output_type": "display_data",
          "data": {
            "text/plain": [
              "'https://www.booking.com/hotel/fr/b-b-le-havre-centre-gare.fr.html'"
            ],
            "application/vnd.google.colaboratory.intrinsic+json": {
              "type": "string"
            }
          },
          "metadata": {}
        },
        {
          "output_type": "stream",
          "name": "stdout",
          "text": [
            "--------------------------------------------------------------------------------------------------------------------------------\n",
            "Data is Ready now lets get the next one\n",
            "===============================================================================================================================\n"
          ]
        },
        {
          "output_type": "display_data",
          "data": {
            "text/plain": [
              "                                        names  \\\n",
              "0      Best Western Plus Le Havre Centre Gare   \n",
              "1  Mercure Le Havre Centre Bassin Du Commerce   \n",
              "2                 ibis Styles Le Havre Centre   \n",
              "3                                Le Richelieu   \n",
              "4                       Best Western ARThotel   \n",
              "5                Novotel Le Havre Centre Gare   \n",
              "6   Hôtel Les Gens De Mer Le Havre by Popinns   \n",
              "7                Birgit Hôtel Le Havre Centre   \n",
              "8              B&B HOTEL Le Havre Centre Gare   \n",
              "\n",
              "                                               links    lat    lon  \\\n",
              "0  https://www.booking.com/hotel/fr/hotelterminus...  49.47  0.089   \n",
              "1  https://www.booking.com/hotel/fr/mercure-bassi...  49.47  0.089   \n",
              "2  https://www.booking.com/hotel/fr/citotel-le-ma...  49.47  0.089   \n",
              "3  https://www.booking.com/hotel/fr/le-richelieu-...  49.47  0.089   \n",
              "4       https://www.booking.com/hotel/fr/art.fr.html  49.47  0.089   \n",
              "5  https://www.booking.com/hotel/fr/novotellehavr...  49.47  0.089   \n",
              "6  https://www.booking.com/hotel/fr/les-gens-de-m...  49.47  0.089   \n",
              "7  https://www.booking.com/hotel/fr/kyriadlehavre...  49.47  0.089   \n",
              "8  https://www.booking.com/hotel/fr/b-b-le-havre-...  49.47  0.089   \n",
              "\n",
              "   hotel_note                                        description  \n",
              "0         8.4   Situé dans le centre du Havre, à seulement 10...  \n",
              "1         7.5  Vous pouvez bénéficier d'une réduction Genius ...  \n",
              "2         6.8   L'ibis Styles Marly Le Havre Centre est situé...  \n",
              "3         6.7   Le Citotel Le Richelieu est situé entre la ma...  \n",
              "4         7.8  Vous pouvez bénéficier d'une réduction Genius ...  \n",
              "5         7.8   Le Novotel Le Havre est situé sur le front de...  \n",
              "6         6.1  Vous pouvez bénéficier d'une réduction Genius ...  \n",
              "7         8.2  Vous pouvez bénéficier d'une réduction Genius ...  \n",
              "8         6.8   Proposant un hébergement 3 étoiles, le B&B HO...  "
            ],
            "text/html": [
              "\n",
              "  <div id=\"df-287489ee-5356-481a-9f96-9d75f714ff45\">\n",
              "    <div class=\"colab-df-container\">\n",
              "      <div>\n",
              "<style scoped>\n",
              "    .dataframe tbody tr th:only-of-type {\n",
              "        vertical-align: middle;\n",
              "    }\n",
              "\n",
              "    .dataframe tbody tr th {\n",
              "        vertical-align: top;\n",
              "    }\n",
              "\n",
              "    .dataframe thead th {\n",
              "        text-align: right;\n",
              "    }\n",
              "</style>\n",
              "<table border=\"1\" class=\"dataframe\">\n",
              "  <thead>\n",
              "    <tr style=\"text-align: right;\">\n",
              "      <th></th>\n",
              "      <th>names</th>\n",
              "      <th>links</th>\n",
              "      <th>lat</th>\n",
              "      <th>lon</th>\n",
              "      <th>hotel_note</th>\n",
              "      <th>description</th>\n",
              "    </tr>\n",
              "  </thead>\n",
              "  <tbody>\n",
              "    <tr>\n",
              "      <th>0</th>\n",
              "      <td>Best Western Plus Le Havre Centre Gare</td>\n",
              "      <td>https://www.booking.com/hotel/fr/hotelterminus...</td>\n",
              "      <td>49.47</td>\n",
              "      <td>0.089</td>\n",
              "      <td>8.4</td>\n",
              "      <td>Situé dans le centre du Havre, à seulement 10...</td>\n",
              "    </tr>\n",
              "    <tr>\n",
              "      <th>1</th>\n",
              "      <td>Mercure Le Havre Centre Bassin Du Commerce</td>\n",
              "      <td>https://www.booking.com/hotel/fr/mercure-bassi...</td>\n",
              "      <td>49.47</td>\n",
              "      <td>0.089</td>\n",
              "      <td>7.5</td>\n",
              "      <td>Vous pouvez bénéficier d'une réduction Genius ...</td>\n",
              "    </tr>\n",
              "    <tr>\n",
              "      <th>2</th>\n",
              "      <td>ibis Styles Le Havre Centre</td>\n",
              "      <td>https://www.booking.com/hotel/fr/citotel-le-ma...</td>\n",
              "      <td>49.47</td>\n",
              "      <td>0.089</td>\n",
              "      <td>6.8</td>\n",
              "      <td>L'ibis Styles Marly Le Havre Centre est situé...</td>\n",
              "    </tr>\n",
              "    <tr>\n",
              "      <th>3</th>\n",
              "      <td>Le Richelieu</td>\n",
              "      <td>https://www.booking.com/hotel/fr/le-richelieu-...</td>\n",
              "      <td>49.47</td>\n",
              "      <td>0.089</td>\n",
              "      <td>6.7</td>\n",
              "      <td>Le Citotel Le Richelieu est situé entre la ma...</td>\n",
              "    </tr>\n",
              "    <tr>\n",
              "      <th>4</th>\n",
              "      <td>Best Western ARThotel</td>\n",
              "      <td>https://www.booking.com/hotel/fr/art.fr.html</td>\n",
              "      <td>49.47</td>\n",
              "      <td>0.089</td>\n",
              "      <td>7.8</td>\n",
              "      <td>Vous pouvez bénéficier d'une réduction Genius ...</td>\n",
              "    </tr>\n",
              "    <tr>\n",
              "      <th>5</th>\n",
              "      <td>Novotel Le Havre Centre Gare</td>\n",
              "      <td>https://www.booking.com/hotel/fr/novotellehavr...</td>\n",
              "      <td>49.47</td>\n",
              "      <td>0.089</td>\n",
              "      <td>7.8</td>\n",
              "      <td>Le Novotel Le Havre est situé sur le front de...</td>\n",
              "    </tr>\n",
              "    <tr>\n",
              "      <th>6</th>\n",
              "      <td>Hôtel Les Gens De Mer Le Havre by Popinns</td>\n",
              "      <td>https://www.booking.com/hotel/fr/les-gens-de-m...</td>\n",
              "      <td>49.47</td>\n",
              "      <td>0.089</td>\n",
              "      <td>6.1</td>\n",
              "      <td>Vous pouvez bénéficier d'une réduction Genius ...</td>\n",
              "    </tr>\n",
              "    <tr>\n",
              "      <th>7</th>\n",
              "      <td>Birgit Hôtel Le Havre Centre</td>\n",
              "      <td>https://www.booking.com/hotel/fr/kyriadlehavre...</td>\n",
              "      <td>49.47</td>\n",
              "      <td>0.089</td>\n",
              "      <td>8.2</td>\n",
              "      <td>Vous pouvez bénéficier d'une réduction Genius ...</td>\n",
              "    </tr>\n",
              "    <tr>\n",
              "      <th>8</th>\n",
              "      <td>B&amp;B HOTEL Le Havre Centre Gare</td>\n",
              "      <td>https://www.booking.com/hotel/fr/b-b-le-havre-...</td>\n",
              "      <td>49.47</td>\n",
              "      <td>0.089</td>\n",
              "      <td>6.8</td>\n",
              "      <td>Proposant un hébergement 3 étoiles, le B&amp;B HO...</td>\n",
              "    </tr>\n",
              "  </tbody>\n",
              "</table>\n",
              "</div>\n",
              "      <button class=\"colab-df-convert\" onclick=\"convertToInteractive('df-287489ee-5356-481a-9f96-9d75f714ff45')\"\n",
              "              title=\"Convert this dataframe to an interactive table.\"\n",
              "              style=\"display:none;\">\n",
              "        \n",
              "  <svg xmlns=\"http://www.w3.org/2000/svg\" height=\"24px\"viewBox=\"0 0 24 24\"\n",
              "       width=\"24px\">\n",
              "    <path d=\"M0 0h24v24H0V0z\" fill=\"none\"/>\n",
              "    <path d=\"M18.56 5.44l.94 2.06.94-2.06 2.06-.94-2.06-.94-.94-2.06-.94 2.06-2.06.94zm-11 1L8.5 8.5l.94-2.06 2.06-.94-2.06-.94L8.5 2.5l-.94 2.06-2.06.94zm10 10l.94 2.06.94-2.06 2.06-.94-2.06-.94-.94-2.06-.94 2.06-2.06.94z\"/><path d=\"M17.41 7.96l-1.37-1.37c-.4-.4-.92-.59-1.43-.59-.52 0-1.04.2-1.43.59L10.3 9.45l-7.72 7.72c-.78.78-.78 2.05 0 2.83L4 21.41c.39.39.9.59 1.41.59.51 0 1.02-.2 1.41-.59l7.78-7.78 2.81-2.81c.8-.78.8-2.07 0-2.86zM5.41 20L4 18.59l7.72-7.72 1.47 1.35L5.41 20z\"/>\n",
              "  </svg>\n",
              "      </button>\n",
              "      \n",
              "  <style>\n",
              "    .colab-df-container {\n",
              "      display:flex;\n",
              "      flex-wrap:wrap;\n",
              "      gap: 12px;\n",
              "    }\n",
              "\n",
              "    .colab-df-convert {\n",
              "      background-color: #E8F0FE;\n",
              "      border: none;\n",
              "      border-radius: 50%;\n",
              "      cursor: pointer;\n",
              "      display: none;\n",
              "      fill: #1967D2;\n",
              "      height: 32px;\n",
              "      padding: 0 0 0 0;\n",
              "      width: 32px;\n",
              "    }\n",
              "\n",
              "    .colab-df-convert:hover {\n",
              "      background-color: #E2EBFA;\n",
              "      box-shadow: 0px 1px 2px rgba(60, 64, 67, 0.3), 0px 1px 3px 1px rgba(60, 64, 67, 0.15);\n",
              "      fill: #174EA6;\n",
              "    }\n",
              "\n",
              "    [theme=dark] .colab-df-convert {\n",
              "      background-color: #3B4455;\n",
              "      fill: #D2E3FC;\n",
              "    }\n",
              "\n",
              "    [theme=dark] .colab-df-convert:hover {\n",
              "      background-color: #434B5C;\n",
              "      box-shadow: 0px 1px 3px 1px rgba(0, 0, 0, 0.15);\n",
              "      filter: drop-shadow(0px 1px 2px rgba(0, 0, 0, 0.3));\n",
              "      fill: #FFFFFF;\n",
              "    }\n",
              "  </style>\n",
              "\n",
              "      <script>\n",
              "        const buttonEl =\n",
              "          document.querySelector('#df-287489ee-5356-481a-9f96-9d75f714ff45 button.colab-df-convert');\n",
              "        buttonEl.style.display =\n",
              "          google.colab.kernel.accessAllowed ? 'block' : 'none';\n",
              "\n",
              "        async function convertToInteractive(key) {\n",
              "          const element = document.querySelector('#df-287489ee-5356-481a-9f96-9d75f714ff45');\n",
              "          const dataTable =\n",
              "            await google.colab.kernel.invokeFunction('convertToInteractive',\n",
              "                                                     [key], {});\n",
              "          if (!dataTable) return;\n",
              "\n",
              "          const docLinkHtml = 'Like what you see? Visit the ' +\n",
              "            '<a target=\"_blank\" href=https://colab.research.google.com/notebooks/data_table.ipynb>data table notebook</a>'\n",
              "            + ' to learn more about interactive tables.';\n",
              "          element.innerHTML = '';\n",
              "          dataTable['output_type'] = 'display_data';\n",
              "          await google.colab.output.renderOutput(dataTable, element);\n",
              "          const docLink = document.createElement('div');\n",
              "          docLink.innerHTML = docLinkHtml;\n",
              "          element.appendChild(docLink);\n",
              "        }\n",
              "      </script>\n",
              "    </div>\n",
              "  </div>\n",
              "  "
            ]
          },
          "metadata": {}
        },
        {
          "output_type": "display_data",
          "data": {
            "text/plain": [
              "'https://www.booking.com/hotel/fr/le-relais-des-3-pommes.fr.html'"
            ],
            "application/vnd.google.colaboratory.intrinsic+json": {
              "type": "string"
            }
          },
          "metadata": {}
        },
        {
          "output_type": "stream",
          "name": "stdout",
          "text": [
            "--------------------------------------------------------------------------------------------------------------------------------\n"
          ]
        },
        {
          "output_type": "display_data",
          "data": {
            "text/plain": [
              "'https://www.booking.com/hotel/fr/au-georges-vii.fr.html'"
            ],
            "application/vnd.google.colaboratory.intrinsic+json": {
              "type": "string"
            }
          },
          "metadata": {}
        },
        {
          "output_type": "stream",
          "name": "stdout",
          "text": [
            "--------------------------------------------------------------------------------------------------------------------------------\n"
          ]
        },
        {
          "output_type": "display_data",
          "data": {
            "text/plain": [
              "'https://www.booking.com/hotel/fr/chateau-saint-gilles.fr.html'"
            ],
            "application/vnd.google.colaboratory.intrinsic+json": {
              "type": "string"
            }
          },
          "metadata": {}
        },
        {
          "output_type": "stream",
          "name": "stdout",
          "text": [
            "--------------------------------------------------------------------------------------------------------------------------------\n"
          ]
        },
        {
          "output_type": "display_data",
          "data": {
            "text/plain": [
              "'https://www.booking.com/hotel/fr/la-maison-de-mathilde.fr.html'"
            ],
            "application/vnd.google.colaboratory.intrinsic+json": {
              "type": "string"
            }
          },
          "metadata": {}
        },
        {
          "output_type": "stream",
          "name": "stdout",
          "text": [
            "--------------------------------------------------------------------------------------------------------------------------------\n"
          ]
        },
        {
          "output_type": "display_data",
          "data": {
            "text/plain": [
              "'https://www.booking.com/hotel/fr/villa-lara-ha-tel.fr.html'"
            ],
            "application/vnd.google.colaboratory.intrinsic+json": {
              "type": "string"
            }
          },
          "metadata": {}
        },
        {
          "output_type": "stream",
          "name": "stdout",
          "text": [
            "--------------------------------------------------------------------------------------------------------------------------------\n"
          ]
        },
        {
          "output_type": "display_data",
          "data": {
            "text/plain": [
              "'https://www.booking.com/hotel/fr/chateau-de-bellefontaine.fr.html'"
            ],
            "application/vnd.google.colaboratory.intrinsic+json": {
              "type": "string"
            }
          },
          "metadata": {}
        },
        {
          "output_type": "stream",
          "name": "stdout",
          "text": [
            "--------------------------------------------------------------------------------------------------------------------------------\n"
          ]
        },
        {
          "output_type": "display_data",
          "data": {
            "text/plain": [
              "'https://www.booking.com/hotel/fr/le-lion-d-or-bayeux.fr.html'"
            ],
            "application/vnd.google.colaboratory.intrinsic+json": {
              "type": "string"
            }
          },
          "metadata": {}
        },
        {
          "output_type": "stream",
          "name": "stdout",
          "text": [
            "--------------------------------------------------------------------------------------------------------------------------------\n"
          ]
        },
        {
          "output_type": "display_data",
          "data": {
            "text/plain": [
              "'https://www.booking.com/hotel/fr/le-mogador-bayeux.fr.html'"
            ],
            "application/vnd.google.colaboratory.intrinsic+json": {
              "type": "string"
            }
          },
          "metadata": {}
        },
        {
          "output_type": "stream",
          "name": "stdout",
          "text": [
            "--------------------------------------------------------------------------------------------------------------------------------\n"
          ]
        },
        {
          "output_type": "display_data",
          "data": {
            "text/plain": [
              "'https://www.booking.com/hotel/fr/la-maison-de-mathilde.fr.html'"
            ],
            "application/vnd.google.colaboratory.intrinsic+json": {
              "type": "string"
            }
          },
          "metadata": {}
        },
        {
          "output_type": "stream",
          "name": "stdout",
          "text": [
            "--------------------------------------------------------------------------------------------------------------------------------\n",
            "Data is Ready now lets get the next one\n",
            "===============================================================================================================================\n"
          ]
        },
        {
          "output_type": "stream",
          "name": "stderr",
          "text": [
            "<ipython-input-521-c220418897ea>:41: SettingWithCopyWarning:\n",
            "\n",
            "\n",
            "A value is trying to be set on a copy of a slice from a DataFrame\n",
            "\n",
            "See the caveats in the documentation: https://pandas.pydata.org/pandas-docs/stable/user_guide/indexing.html#returning-a-view-versus-a-copy\n",
            "\n"
          ]
        },
        {
          "output_type": "display_data",
          "data": {
            "text/plain": [
              "                                               names  \\\n",
              "0                                Relais des 3 Pommes   \n",
              "1                                     Au Georges VII   \n",
              "2                               Château Saint Gilles   \n",
              "3                              La Maison de Mathilde   \n",
              "4                                   Villa Lara Hotel   \n",
              "5                           Château de Bellefontaine   \n",
              "6  Hotel Le Lion D'Or et Restaurant La Table Du Lion   \n",
              "7                                         Le Mogador   \n",
              "8                              La Maison de Mathilde   \n",
              "\n",
              "                                               links    lat   lon  hotel_note  \\\n",
              "0  https://www.booking.com/hotel/fr/le-relais-des...  49.25 -0.72         6.9   \n",
              "1  https://www.booking.com/hotel/fr/au-georges-vi...  49.25 -0.72         5.6   \n",
              "2  https://www.booking.com/hotel/fr/chateau-saint...  49.25 -0.72         9.6   \n",
              "3  https://www.booking.com/hotel/fr/la-maison-de-...  49.25 -0.72         9.0   \n",
              "4  https://www.booking.com/hotel/fr/villa-lara-ha...  49.25 -0.72         9.6   \n",
              "5  https://www.booking.com/hotel/fr/chateau-de-be...  49.25 -0.72         8.1   \n",
              "6  https://www.booking.com/hotel/fr/le-lion-d-or-...  49.25 -0.72         8.7   \n",
              "7  https://www.booking.com/hotel/fr/le-mogador-ba...  49.25 -0.72         7.8   \n",
              "8  https://www.booking.com/hotel/fr/la-maison-de-...  49.25 -0.72         9.0   \n",
              "\n",
              "                                         description  \n",
              "0   Situé à Bayeux, en Normandie, cet hôtel dispo...  \n",
              "1   L'établissement 1 étoile Au Georges VII est s...  \n",
              "2   Situé à Bayeux, à 4,6 km du musée Baron Gérar...  \n",
              "3   La Maison de Mathilde vous accueille à Bayeux...  \n",
              "4   La Villa Lara Hotel est un petit boutique hôt...  \n",
              "5   À 800 mètres du centre de Bayeux et de sa cat...  \n",
              "6   Occupant un ancien bureau de poste du XVIIIe ...  \n",
              "7   L'établissement Le Mogador est situé à Bayeux...  \n",
              "8   La Maison de Mathilde vous accueille à Bayeux...  "
            ],
            "text/html": [
              "\n",
              "  <div id=\"df-dcef3aa6-519e-465e-9bdc-18f12a92656b\">\n",
              "    <div class=\"colab-df-container\">\n",
              "      <div>\n",
              "<style scoped>\n",
              "    .dataframe tbody tr th:only-of-type {\n",
              "        vertical-align: middle;\n",
              "    }\n",
              "\n",
              "    .dataframe tbody tr th {\n",
              "        vertical-align: top;\n",
              "    }\n",
              "\n",
              "    .dataframe thead th {\n",
              "        text-align: right;\n",
              "    }\n",
              "</style>\n",
              "<table border=\"1\" class=\"dataframe\">\n",
              "  <thead>\n",
              "    <tr style=\"text-align: right;\">\n",
              "      <th></th>\n",
              "      <th>names</th>\n",
              "      <th>links</th>\n",
              "      <th>lat</th>\n",
              "      <th>lon</th>\n",
              "      <th>hotel_note</th>\n",
              "      <th>description</th>\n",
              "    </tr>\n",
              "  </thead>\n",
              "  <tbody>\n",
              "    <tr>\n",
              "      <th>0</th>\n",
              "      <td>Relais des 3 Pommes</td>\n",
              "      <td>https://www.booking.com/hotel/fr/le-relais-des...</td>\n",
              "      <td>49.25</td>\n",
              "      <td>-0.72</td>\n",
              "      <td>6.9</td>\n",
              "      <td>Situé à Bayeux, en Normandie, cet hôtel dispo...</td>\n",
              "    </tr>\n",
              "    <tr>\n",
              "      <th>1</th>\n",
              "      <td>Au Georges VII</td>\n",
              "      <td>https://www.booking.com/hotel/fr/au-georges-vi...</td>\n",
              "      <td>49.25</td>\n",
              "      <td>-0.72</td>\n",
              "      <td>5.6</td>\n",
              "      <td>L'établissement 1 étoile Au Georges VII est s...</td>\n",
              "    </tr>\n",
              "    <tr>\n",
              "      <th>2</th>\n",
              "      <td>Château Saint Gilles</td>\n",
              "      <td>https://www.booking.com/hotel/fr/chateau-saint...</td>\n",
              "      <td>49.25</td>\n",
              "      <td>-0.72</td>\n",
              "      <td>9.6</td>\n",
              "      <td>Situé à Bayeux, à 4,6 km du musée Baron Gérar...</td>\n",
              "    </tr>\n",
              "    <tr>\n",
              "      <th>3</th>\n",
              "      <td>La Maison de Mathilde</td>\n",
              "      <td>https://www.booking.com/hotel/fr/la-maison-de-...</td>\n",
              "      <td>49.25</td>\n",
              "      <td>-0.72</td>\n",
              "      <td>9.0</td>\n",
              "      <td>La Maison de Mathilde vous accueille à Bayeux...</td>\n",
              "    </tr>\n",
              "    <tr>\n",
              "      <th>4</th>\n",
              "      <td>Villa Lara Hotel</td>\n",
              "      <td>https://www.booking.com/hotel/fr/villa-lara-ha...</td>\n",
              "      <td>49.25</td>\n",
              "      <td>-0.72</td>\n",
              "      <td>9.6</td>\n",
              "      <td>La Villa Lara Hotel est un petit boutique hôt...</td>\n",
              "    </tr>\n",
              "    <tr>\n",
              "      <th>5</th>\n",
              "      <td>Château de Bellefontaine</td>\n",
              "      <td>https://www.booking.com/hotel/fr/chateau-de-be...</td>\n",
              "      <td>49.25</td>\n",
              "      <td>-0.72</td>\n",
              "      <td>8.1</td>\n",
              "      <td>À 800 mètres du centre de Bayeux et de sa cat...</td>\n",
              "    </tr>\n",
              "    <tr>\n",
              "      <th>6</th>\n",
              "      <td>Hotel Le Lion D'Or et Restaurant La Table Du Lion</td>\n",
              "      <td>https://www.booking.com/hotel/fr/le-lion-d-or-...</td>\n",
              "      <td>49.25</td>\n",
              "      <td>-0.72</td>\n",
              "      <td>8.7</td>\n",
              "      <td>Occupant un ancien bureau de poste du XVIIIe ...</td>\n",
              "    </tr>\n",
              "    <tr>\n",
              "      <th>7</th>\n",
              "      <td>Le Mogador</td>\n",
              "      <td>https://www.booking.com/hotel/fr/le-mogador-ba...</td>\n",
              "      <td>49.25</td>\n",
              "      <td>-0.72</td>\n",
              "      <td>7.8</td>\n",
              "      <td>L'établissement Le Mogador est situé à Bayeux...</td>\n",
              "    </tr>\n",
              "    <tr>\n",
              "      <th>8</th>\n",
              "      <td>La Maison de Mathilde</td>\n",
              "      <td>https://www.booking.com/hotel/fr/la-maison-de-...</td>\n",
              "      <td>49.25</td>\n",
              "      <td>-0.72</td>\n",
              "      <td>9.0</td>\n",
              "      <td>La Maison de Mathilde vous accueille à Bayeux...</td>\n",
              "    </tr>\n",
              "  </tbody>\n",
              "</table>\n",
              "</div>\n",
              "      <button class=\"colab-df-convert\" onclick=\"convertToInteractive('df-dcef3aa6-519e-465e-9bdc-18f12a92656b')\"\n",
              "              title=\"Convert this dataframe to an interactive table.\"\n",
              "              style=\"display:none;\">\n",
              "        \n",
              "  <svg xmlns=\"http://www.w3.org/2000/svg\" height=\"24px\"viewBox=\"0 0 24 24\"\n",
              "       width=\"24px\">\n",
              "    <path d=\"M0 0h24v24H0V0z\" fill=\"none\"/>\n",
              "    <path d=\"M18.56 5.44l.94 2.06.94-2.06 2.06-.94-2.06-.94-.94-2.06-.94 2.06-2.06.94zm-11 1L8.5 8.5l.94-2.06 2.06-.94-2.06-.94L8.5 2.5l-.94 2.06-2.06.94zm10 10l.94 2.06.94-2.06 2.06-.94-2.06-.94-.94-2.06-.94 2.06-2.06.94z\"/><path d=\"M17.41 7.96l-1.37-1.37c-.4-.4-.92-.59-1.43-.59-.52 0-1.04.2-1.43.59L10.3 9.45l-7.72 7.72c-.78.78-.78 2.05 0 2.83L4 21.41c.39.39.9.59 1.41.59.51 0 1.02-.2 1.41-.59l7.78-7.78 2.81-2.81c.8-.78.8-2.07 0-2.86zM5.41 20L4 18.59l7.72-7.72 1.47 1.35L5.41 20z\"/>\n",
              "  </svg>\n",
              "      </button>\n",
              "      \n",
              "  <style>\n",
              "    .colab-df-container {\n",
              "      display:flex;\n",
              "      flex-wrap:wrap;\n",
              "      gap: 12px;\n",
              "    }\n",
              "\n",
              "    .colab-df-convert {\n",
              "      background-color: #E8F0FE;\n",
              "      border: none;\n",
              "      border-radius: 50%;\n",
              "      cursor: pointer;\n",
              "      display: none;\n",
              "      fill: #1967D2;\n",
              "      height: 32px;\n",
              "      padding: 0 0 0 0;\n",
              "      width: 32px;\n",
              "    }\n",
              "\n",
              "    .colab-df-convert:hover {\n",
              "      background-color: #E2EBFA;\n",
              "      box-shadow: 0px 1px 2px rgba(60, 64, 67, 0.3), 0px 1px 3px 1px rgba(60, 64, 67, 0.15);\n",
              "      fill: #174EA6;\n",
              "    }\n",
              "\n",
              "    [theme=dark] .colab-df-convert {\n",
              "      background-color: #3B4455;\n",
              "      fill: #D2E3FC;\n",
              "    }\n",
              "\n",
              "    [theme=dark] .colab-df-convert:hover {\n",
              "      background-color: #434B5C;\n",
              "      box-shadow: 0px 1px 3px 1px rgba(0, 0, 0, 0.15);\n",
              "      filter: drop-shadow(0px 1px 2px rgba(0, 0, 0, 0.3));\n",
              "      fill: #FFFFFF;\n",
              "    }\n",
              "  </style>\n",
              "\n",
              "      <script>\n",
              "        const buttonEl =\n",
              "          document.querySelector('#df-dcef3aa6-519e-465e-9bdc-18f12a92656b button.colab-df-convert');\n",
              "        buttonEl.style.display =\n",
              "          google.colab.kernel.accessAllowed ? 'block' : 'none';\n",
              "\n",
              "        async function convertToInteractive(key) {\n",
              "          const element = document.querySelector('#df-dcef3aa6-519e-465e-9bdc-18f12a92656b');\n",
              "          const dataTable =\n",
              "            await google.colab.kernel.invokeFunction('convertToInteractive',\n",
              "                                                     [key], {});\n",
              "          if (!dataTable) return;\n",
              "\n",
              "          const docLinkHtml = 'Like what you see? Visit the ' +\n",
              "            '<a target=\"_blank\" href=https://colab.research.google.com/notebooks/data_table.ipynb>data table notebook</a>'\n",
              "            + ' to learn more about interactive tables.';\n",
              "          element.innerHTML = '';\n",
              "          dataTable['output_type'] = 'display_data';\n",
              "          await google.colab.output.renderOutput(dataTable, element);\n",
              "          const docLink = document.createElement('div');\n",
              "          docLink.innerHTML = docLinkHtml;\n",
              "          element.appendChild(docLink);\n",
              "        }\n",
              "      </script>\n",
              "    </div>\n",
              "  </div>\n",
              "  "
            ]
          },
          "metadata": {}
        },
        {
          "output_type": "display_data",
          "data": {
            "text/plain": [
              "'https://www.booking.com/hotel/fr/adresse.fr.html'"
            ],
            "application/vnd.google.colaboratory.intrinsic+json": {
              "type": "string"
            }
          },
          "metadata": {}
        },
        {
          "output_type": "stream",
          "name": "stdout",
          "text": [
            "--------------------------------------------------------------------------------------------------------------------------------\n"
          ]
        },
        {
          "output_type": "display_data",
          "data": {
            "text/plain": [
              "'https://www.booking.com/hotel/fr/best-western-balmoral.fr.html'"
            ],
            "application/vnd.google.colaboratory.intrinsic+json": {
              "type": "string"
            }
          },
          "metadata": {}
        },
        {
          "output_type": "stream",
          "name": "stdout",
          "text": [
            "--------------------------------------------------------------------------------------------------------------------------------\n"
          ]
        },
        {
          "output_type": "display_data",
          "data": {
            "text/plain": [
              "'https://www.booking.com/hotel/fr/cartier.fr.html'"
            ],
            "application/vnd.google.colaboratory.intrinsic+json": {
              "type": "string"
            }
          },
          "metadata": {}
        },
        {
          "output_type": "stream",
          "name": "stdout",
          "text": [
            "--------------------------------------------------------------------------------------------------------------------------------\n"
          ]
        },
        {
          "output_type": "display_data",
          "data": {
            "text/plain": [
              "'https://www.booking.com/hotel/fr/ibis-styles-saint-malo-port.fr.html'"
            ],
            "application/vnd.google.colaboratory.intrinsic+json": {
              "type": "string"
            }
          },
          "metadata": {}
        },
        {
          "output_type": "stream",
          "name": "stdout",
          "text": [
            "--------------------------------------------------------------------------------------------------------------------------------\n"
          ]
        },
        {
          "output_type": "display_data",
          "data": {
            "text/plain": [
              "'https://www.booking.com/hotel/fr/all-seasons-saint-malo-centre-historique.fr.html'"
            ],
            "application/vnd.google.colaboratory.intrinsic+json": {
              "type": "string"
            }
          },
          "metadata": {}
        },
        {
          "output_type": "stream",
          "name": "stdout",
          "text": [
            "--------------------------------------------------------------------------------------------------------------------------------\n"
          ]
        },
        {
          "output_type": "display_data",
          "data": {
            "text/plain": [
              "'https://www.booking.com/hotel/fr/aux-voyageurs.fr.html'"
            ],
            "application/vnd.google.colaboratory.intrinsic+json": {
              "type": "string"
            }
          },
          "metadata": {}
        },
        {
          "output_type": "stream",
          "name": "stdout",
          "text": [
            "--------------------------------------------------------------------------------------------------------------------------------\n"
          ]
        },
        {
          "output_type": "display_data",
          "data": {
            "text/plain": [
              "'https://www.booking.com/hotel/fr/st-malo-front-de-mer.fr.html'"
            ],
            "application/vnd.google.colaboratory.intrinsic+json": {
              "type": "string"
            }
          },
          "metadata": {}
        },
        {
          "output_type": "stream",
          "name": "stdout",
          "text": [
            "--------------------------------------------------------------------------------------------------------------------------------\n"
          ]
        },
        {
          "output_type": "display_data",
          "data": {
            "text/plain": [
              "'https://www.booking.com/hotel/fr/chateau-du-colombie.fr.html'"
            ],
            "application/vnd.google.colaboratory.intrinsic+json": {
              "type": "string"
            }
          },
          "metadata": {}
        },
        {
          "output_type": "stream",
          "name": "stdout",
          "text": [
            "--------------------------------------------------------------------------------------------------------------------------------\n"
          ]
        },
        {
          "output_type": "display_data",
          "data": {
            "text/plain": [
              "'https://www.booking.com/hotel/fr/b-b-saint-malo.fr.html'"
            ],
            "application/vnd.google.colaboratory.intrinsic+json": {
              "type": "string"
            }
          },
          "metadata": {}
        },
        {
          "output_type": "stream",
          "name": "stdout",
          "text": [
            "--------------------------------------------------------------------------------------------------------------------------------\n",
            "Data is Ready now lets get the next one\n",
            "===============================================================================================================================\n"
          ]
        },
        {
          "output_type": "display_data",
          "data": {
            "text/plain": [
              "                                      names  \\\n",
              "0                           Hôtel L'Adresse   \n",
              "1               Mercure Saint Malo Balmoral   \n",
              "2                             Hôtel Cartier   \n",
              "3               ibis Styles Saint Malo Port   \n",
              "4  ibis Styles Saint Malo Centre Historique   \n",
              "5                    Cit'Hotel La Marinière   \n",
              "6              Mercure St Malo Front de Mer   \n",
              "7                Château Hôtel Du Colombier   \n",
              "8               B&B HOTEL Saint-Malo Centre   \n",
              "\n",
              "                                               links    lat   lon  hotel_note  \\\n",
              "0   https://www.booking.com/hotel/fr/adresse.fr.html  48.62 -2.03         8.7   \n",
              "1  https://www.booking.com/hotel/fr/best-western-...  48.62 -2.03         8.2   \n",
              "2   https://www.booking.com/hotel/fr/cartier.fr.html  48.62 -2.03         8.3   \n",
              "3  https://www.booking.com/hotel/fr/ibis-styles-s...  48.62 -2.03         7.7   \n",
              "4  https://www.booking.com/hotel/fr/all-seasons-s...  48.62 -2.03         7.7   \n",
              "5  https://www.booking.com/hotel/fr/aux-voyageurs...  48.62 -2.03         7.1   \n",
              "6  https://www.booking.com/hotel/fr/st-malo-front...  48.62 -2.03         7.7   \n",
              "7  https://www.booking.com/hotel/fr/chateau-du-co...  48.62 -2.03         9.0   \n",
              "8  https://www.booking.com/hotel/fr/b-b-saint-mal...  48.62 -2.03         7.0   \n",
              "\n",
              "                                         description  \n",
              "0  Vous pouvez bénéficier d'une réduction Genius ...  \n",
              "1   Situé à Saint-Malo, en face de la gare et à 1...  \n",
              "2  Vous pouvez bénéficier d'une réduction Genius ...  \n",
              "3   Doté d'un snack-bar et d'une connexion Wi-Fi ...  \n",
              "4   L'ibis Styles Saint-Malo Centre Historique es...  \n",
              "5   Situé à Saint-Malo, à moins de 1 km de la pla...  \n",
              "6   Le Mercure St Malo Front de Mer propose un hé...  \n",
              "7  Vous pouvez bénéficier d'une réduction Genius ...  \n",
              "8   Le B&B HOTEL Saint-Malo Centre est situé à Sa...  "
            ],
            "text/html": [
              "\n",
              "  <div id=\"df-8b613ea4-c14a-4a00-9e56-bc64f705cbc2\">\n",
              "    <div class=\"colab-df-container\">\n",
              "      <div>\n",
              "<style scoped>\n",
              "    .dataframe tbody tr th:only-of-type {\n",
              "        vertical-align: middle;\n",
              "    }\n",
              "\n",
              "    .dataframe tbody tr th {\n",
              "        vertical-align: top;\n",
              "    }\n",
              "\n",
              "    .dataframe thead th {\n",
              "        text-align: right;\n",
              "    }\n",
              "</style>\n",
              "<table border=\"1\" class=\"dataframe\">\n",
              "  <thead>\n",
              "    <tr style=\"text-align: right;\">\n",
              "      <th></th>\n",
              "      <th>names</th>\n",
              "      <th>links</th>\n",
              "      <th>lat</th>\n",
              "      <th>lon</th>\n",
              "      <th>hotel_note</th>\n",
              "      <th>description</th>\n",
              "    </tr>\n",
              "  </thead>\n",
              "  <tbody>\n",
              "    <tr>\n",
              "      <th>0</th>\n",
              "      <td>Hôtel L'Adresse</td>\n",
              "      <td>https://www.booking.com/hotel/fr/adresse.fr.html</td>\n",
              "      <td>48.62</td>\n",
              "      <td>-2.03</td>\n",
              "      <td>8.7</td>\n",
              "      <td>Vous pouvez bénéficier d'une réduction Genius ...</td>\n",
              "    </tr>\n",
              "    <tr>\n",
              "      <th>1</th>\n",
              "      <td>Mercure Saint Malo Balmoral</td>\n",
              "      <td>https://www.booking.com/hotel/fr/best-western-...</td>\n",
              "      <td>48.62</td>\n",
              "      <td>-2.03</td>\n",
              "      <td>8.2</td>\n",
              "      <td>Situé à Saint-Malo, en face de la gare et à 1...</td>\n",
              "    </tr>\n",
              "    <tr>\n",
              "      <th>2</th>\n",
              "      <td>Hôtel Cartier</td>\n",
              "      <td>https://www.booking.com/hotel/fr/cartier.fr.html</td>\n",
              "      <td>48.62</td>\n",
              "      <td>-2.03</td>\n",
              "      <td>8.3</td>\n",
              "      <td>Vous pouvez bénéficier d'une réduction Genius ...</td>\n",
              "    </tr>\n",
              "    <tr>\n",
              "      <th>3</th>\n",
              "      <td>ibis Styles Saint Malo Port</td>\n",
              "      <td>https://www.booking.com/hotel/fr/ibis-styles-s...</td>\n",
              "      <td>48.62</td>\n",
              "      <td>-2.03</td>\n",
              "      <td>7.7</td>\n",
              "      <td>Doté d'un snack-bar et d'une connexion Wi-Fi ...</td>\n",
              "    </tr>\n",
              "    <tr>\n",
              "      <th>4</th>\n",
              "      <td>ibis Styles Saint Malo Centre Historique</td>\n",
              "      <td>https://www.booking.com/hotel/fr/all-seasons-s...</td>\n",
              "      <td>48.62</td>\n",
              "      <td>-2.03</td>\n",
              "      <td>7.7</td>\n",
              "      <td>L'ibis Styles Saint-Malo Centre Historique es...</td>\n",
              "    </tr>\n",
              "    <tr>\n",
              "      <th>5</th>\n",
              "      <td>Cit'Hotel La Marinière</td>\n",
              "      <td>https://www.booking.com/hotel/fr/aux-voyageurs...</td>\n",
              "      <td>48.62</td>\n",
              "      <td>-2.03</td>\n",
              "      <td>7.1</td>\n",
              "      <td>Situé à Saint-Malo, à moins de 1 km de la pla...</td>\n",
              "    </tr>\n",
              "    <tr>\n",
              "      <th>6</th>\n",
              "      <td>Mercure St Malo Front de Mer</td>\n",
              "      <td>https://www.booking.com/hotel/fr/st-malo-front...</td>\n",
              "      <td>48.62</td>\n",
              "      <td>-2.03</td>\n",
              "      <td>7.7</td>\n",
              "      <td>Le Mercure St Malo Front de Mer propose un hé...</td>\n",
              "    </tr>\n",
              "    <tr>\n",
              "      <th>7</th>\n",
              "      <td>Château Hôtel Du Colombier</td>\n",
              "      <td>https://www.booking.com/hotel/fr/chateau-du-co...</td>\n",
              "      <td>48.62</td>\n",
              "      <td>-2.03</td>\n",
              "      <td>9.0</td>\n",
              "      <td>Vous pouvez bénéficier d'une réduction Genius ...</td>\n",
              "    </tr>\n",
              "    <tr>\n",
              "      <th>8</th>\n",
              "      <td>B&amp;B HOTEL Saint-Malo Centre</td>\n",
              "      <td>https://www.booking.com/hotel/fr/b-b-saint-mal...</td>\n",
              "      <td>48.62</td>\n",
              "      <td>-2.03</td>\n",
              "      <td>7.0</td>\n",
              "      <td>Le B&amp;B HOTEL Saint-Malo Centre est situé à Sa...</td>\n",
              "    </tr>\n",
              "  </tbody>\n",
              "</table>\n",
              "</div>\n",
              "      <button class=\"colab-df-convert\" onclick=\"convertToInteractive('df-8b613ea4-c14a-4a00-9e56-bc64f705cbc2')\"\n",
              "              title=\"Convert this dataframe to an interactive table.\"\n",
              "              style=\"display:none;\">\n",
              "        \n",
              "  <svg xmlns=\"http://www.w3.org/2000/svg\" height=\"24px\"viewBox=\"0 0 24 24\"\n",
              "       width=\"24px\">\n",
              "    <path d=\"M0 0h24v24H0V0z\" fill=\"none\"/>\n",
              "    <path d=\"M18.56 5.44l.94 2.06.94-2.06 2.06-.94-2.06-.94-.94-2.06-.94 2.06-2.06.94zm-11 1L8.5 8.5l.94-2.06 2.06-.94-2.06-.94L8.5 2.5l-.94 2.06-2.06.94zm10 10l.94 2.06.94-2.06 2.06-.94-2.06-.94-.94-2.06-.94 2.06-2.06.94z\"/><path d=\"M17.41 7.96l-1.37-1.37c-.4-.4-.92-.59-1.43-.59-.52 0-1.04.2-1.43.59L10.3 9.45l-7.72 7.72c-.78.78-.78 2.05 0 2.83L4 21.41c.39.39.9.59 1.41.59.51 0 1.02-.2 1.41-.59l7.78-7.78 2.81-2.81c.8-.78.8-2.07 0-2.86zM5.41 20L4 18.59l7.72-7.72 1.47 1.35L5.41 20z\"/>\n",
              "  </svg>\n",
              "      </button>\n",
              "      \n",
              "  <style>\n",
              "    .colab-df-container {\n",
              "      display:flex;\n",
              "      flex-wrap:wrap;\n",
              "      gap: 12px;\n",
              "    }\n",
              "\n",
              "    .colab-df-convert {\n",
              "      background-color: #E8F0FE;\n",
              "      border: none;\n",
              "      border-radius: 50%;\n",
              "      cursor: pointer;\n",
              "      display: none;\n",
              "      fill: #1967D2;\n",
              "      height: 32px;\n",
              "      padding: 0 0 0 0;\n",
              "      width: 32px;\n",
              "    }\n",
              "\n",
              "    .colab-df-convert:hover {\n",
              "      background-color: #E2EBFA;\n",
              "      box-shadow: 0px 1px 2px rgba(60, 64, 67, 0.3), 0px 1px 3px 1px rgba(60, 64, 67, 0.15);\n",
              "      fill: #174EA6;\n",
              "    }\n",
              "\n",
              "    [theme=dark] .colab-df-convert {\n",
              "      background-color: #3B4455;\n",
              "      fill: #D2E3FC;\n",
              "    }\n",
              "\n",
              "    [theme=dark] .colab-df-convert:hover {\n",
              "      background-color: #434B5C;\n",
              "      box-shadow: 0px 1px 3px 1px rgba(0, 0, 0, 0.15);\n",
              "      filter: drop-shadow(0px 1px 2px rgba(0, 0, 0, 0.3));\n",
              "      fill: #FFFFFF;\n",
              "    }\n",
              "  </style>\n",
              "\n",
              "      <script>\n",
              "        const buttonEl =\n",
              "          document.querySelector('#df-8b613ea4-c14a-4a00-9e56-bc64f705cbc2 button.colab-df-convert');\n",
              "        buttonEl.style.display =\n",
              "          google.colab.kernel.accessAllowed ? 'block' : 'none';\n",
              "\n",
              "        async function convertToInteractive(key) {\n",
              "          const element = document.querySelector('#df-8b613ea4-c14a-4a00-9e56-bc64f705cbc2');\n",
              "          const dataTable =\n",
              "            await google.colab.kernel.invokeFunction('convertToInteractive',\n",
              "                                                     [key], {});\n",
              "          if (!dataTable) return;\n",
              "\n",
              "          const docLinkHtml = 'Like what you see? Visit the ' +\n",
              "            '<a target=\"_blank\" href=https://colab.research.google.com/notebooks/data_table.ipynb>data table notebook</a>'\n",
              "            + ' to learn more about interactive tables.';\n",
              "          element.innerHTML = '';\n",
              "          dataTable['output_type'] = 'display_data';\n",
              "          await google.colab.output.renderOutput(dataTable, element);\n",
              "          const docLink = document.createElement('div');\n",
              "          docLink.innerHTML = docLinkHtml;\n",
              "          element.appendChild(docLink);\n",
              "        }\n",
              "      </script>\n",
              "    </div>\n",
              "  </div>\n",
              "  "
            ]
          },
          "metadata": {}
        },
        {
          "output_type": "display_data",
          "data": {
            "text/plain": [
              "'https://www.booking.com/hotel/fr/hotel-gabriel.fr.html'"
            ],
            "application/vnd.google.colaboratory.intrinsic+json": {
              "type": "string"
            }
          },
          "metadata": {}
        },
        {
          "output_type": "stream",
          "name": "stdout",
          "text": [
            "--------------------------------------------------------------------------------------------------------------------------------\n"
          ]
        },
        {
          "output_type": "stream",
          "name": "stderr",
          "text": [
            "<ipython-input-521-c220418897ea>:41: SettingWithCopyWarning:\n",
            "\n",
            "\n",
            "A value is trying to be set on a copy of a slice from a DataFrame\n",
            "\n",
            "See the caveats in the documentation: https://pandas.pydata.org/pandas-docs/stable/user_guide/indexing.html#returning-a-view-versus-a-copy\n",
            "\n"
          ]
        },
        {
          "output_type": "display_data",
          "data": {
            "text/plain": [
              "'https://www.booking.com/hotel/fr/de-la-digue.fr.html'"
            ],
            "application/vnd.google.colaboratory.intrinsic+json": {
              "type": "string"
            }
          },
          "metadata": {}
        },
        {
          "output_type": "stream",
          "name": "stdout",
          "text": [
            "--------------------------------------------------------------------------------------------------------------------------------\n"
          ]
        },
        {
          "output_type": "display_data",
          "data": {
            "text/plain": [
              "'https://www.booking.com/hotel/fr/le-relais-du-roy.fr.html'"
            ],
            "application/vnd.google.colaboratory.intrinsic+json": {
              "type": "string"
            }
          },
          "metadata": {}
        },
        {
          "output_type": "stream",
          "name": "stdout",
          "text": [
            "--------------------------------------------------------------------------------------------------------------------------------\n"
          ]
        },
        {
          "output_type": "display_data",
          "data": {
            "text/plain": [
              "'https://www.booking.com/hotel/fr/vert.fr.html'"
            ],
            "application/vnd.google.colaboratory.intrinsic+json": {
              "type": "string"
            }
          },
          "metadata": {}
        },
        {
          "output_type": "stream",
          "name": "stdout",
          "text": [
            "--------------------------------------------------------------------------------------------------------------------------------\n"
          ]
        },
        {
          "output_type": "display_data",
          "data": {
            "text/plain": [
              "'https://www.booking.com/hotel/fr/les-terrasses-poulard.fr.html'"
            ],
            "application/vnd.google.colaboratory.intrinsic+json": {
              "type": "string"
            }
          },
          "metadata": {}
        },
        {
          "output_type": "stream",
          "name": "stdout",
          "text": [
            "--------------------------------------------------------------------------------------------------------------------------------\n"
          ]
        },
        {
          "output_type": "display_data",
          "data": {
            "text/plain": [
              "'https://www.booking.com/hotel/fr/auberge-saint-pierre.fr.html'"
            ],
            "application/vnd.google.colaboratory.intrinsic+json": {
              "type": "string"
            }
          },
          "metadata": {}
        },
        {
          "output_type": "stream",
          "name": "stdout",
          "text": [
            "--------------------------------------------------------------------------------------------------------------------------------\n"
          ]
        },
        {
          "output_type": "display_data",
          "data": {
            "text/plain": [
              "'https://www.booking.com/hotel/fr/le-mouton-blanc-le-mont-saint-michel.fr.html'"
            ],
            "application/vnd.google.colaboratory.intrinsic+json": {
              "type": "string"
            }
          },
          "metadata": {}
        },
        {
          "output_type": "stream",
          "name": "stdout",
          "text": [
            "--------------------------------------------------------------------------------------------------------------------------------\n"
          ]
        },
        {
          "output_type": "display_data",
          "data": {
            "text/plain": [
              "'https://www.booking.com/hotel/fr/le-relais-saint-michel.fr.html'"
            ],
            "application/vnd.google.colaboratory.intrinsic+json": {
              "type": "string"
            }
          },
          "metadata": {}
        },
        {
          "output_type": "stream",
          "name": "stdout",
          "text": [
            "--------------------------------------------------------------------------------------------------------------------------------\n"
          ]
        },
        {
          "output_type": "display_data",
          "data": {
            "text/plain": [
              "'https://www.booking.com/hotel/fr/hotel-saint-aubert.fr.html'"
            ],
            "application/vnd.google.colaboratory.intrinsic+json": {
              "type": "string"
            }
          },
          "metadata": {}
        },
        {
          "output_type": "stream",
          "name": "stdout",
          "text": [
            "--------------------------------------------------------------------------------------------------------------------------------\n",
            "Data is Ready now lets get the next one\n",
            "===============================================================================================================================\n"
          ]
        },
        {
          "output_type": "display_data",
          "data": {
            "text/plain": [
              "                    names                                              links  \\\n",
              "0           Hotel Gabriel  https://www.booking.com/hotel/fr/hotel-gabriel...   \n",
              "1       Hotel De La Digue  https://www.booking.com/hotel/fr/de-la-digue.f...   \n",
              "2        Le Relais Du Roy  https://www.booking.com/hotel/fr/le-relais-du-...   \n",
              "3              Hôtel Vert      https://www.booking.com/hotel/fr/vert.fr.html   \n",
              "4   Les Terrasses Poulard  https://www.booking.com/hotel/fr/les-terrasses...   \n",
              "5    Auberge Saint Pierre  https://www.booking.com/hotel/fr/auberge-saint...   \n",
              "6         Le Mouton Blanc  https://www.booking.com/hotel/fr/le-mouton-bla...   \n",
              "7  Le Relais Saint Michel  https://www.booking.com/hotel/fr/le-relais-sai...   \n",
              "8         Le Saint Aubert  https://www.booking.com/hotel/fr/hotel-saint-a...   \n",
              "\n",
              "     lat   lon  hotel_note                                        description  \n",
              "0  48.59 -1.53         7.9  Vous pouvez bénéficier d'une réduction Genius ...  \n",
              "1  48.59 -1.53         7.1   L'hôtel De La Digue est un établissement trad...  \n",
              "2  48.59 -1.53         7.9  Vous pouvez bénéficier d'une réduction Genius ...  \n",
              "3  48.59 -1.53         8.0  Vous pouvez bénéficier d'une réduction Genius ...  \n",
              "4  48.59 -1.53         7.3  Vous pouvez bénéficier d'une réduction Genius ...  \n",
              "5  48.59 -1.53         7.9   L'Auberge Saint-Pierre occupe une maison à co...  \n",
              "6  48.59 -1.53         7.0  Vous pouvez bénéficier d'une réduction Genius ...  \n",
              "7  48.59 -1.53         7.9  Vous pouvez bénéficier d'une réduction Genius ...  \n",
              "8  48.59 -1.53         7.0   Niché dans un écrin de verdure, à seulement 2...  "
            ],
            "text/html": [
              "\n",
              "  <div id=\"df-1638080a-c5fb-4fc2-9567-69423e3c66d8\">\n",
              "    <div class=\"colab-df-container\">\n",
              "      <div>\n",
              "<style scoped>\n",
              "    .dataframe tbody tr th:only-of-type {\n",
              "        vertical-align: middle;\n",
              "    }\n",
              "\n",
              "    .dataframe tbody tr th {\n",
              "        vertical-align: top;\n",
              "    }\n",
              "\n",
              "    .dataframe thead th {\n",
              "        text-align: right;\n",
              "    }\n",
              "</style>\n",
              "<table border=\"1\" class=\"dataframe\">\n",
              "  <thead>\n",
              "    <tr style=\"text-align: right;\">\n",
              "      <th></th>\n",
              "      <th>names</th>\n",
              "      <th>links</th>\n",
              "      <th>lat</th>\n",
              "      <th>lon</th>\n",
              "      <th>hotel_note</th>\n",
              "      <th>description</th>\n",
              "    </tr>\n",
              "  </thead>\n",
              "  <tbody>\n",
              "    <tr>\n",
              "      <th>0</th>\n",
              "      <td>Hotel Gabriel</td>\n",
              "      <td>https://www.booking.com/hotel/fr/hotel-gabriel...</td>\n",
              "      <td>48.59</td>\n",
              "      <td>-1.53</td>\n",
              "      <td>7.9</td>\n",
              "      <td>Vous pouvez bénéficier d'une réduction Genius ...</td>\n",
              "    </tr>\n",
              "    <tr>\n",
              "      <th>1</th>\n",
              "      <td>Hotel De La Digue</td>\n",
              "      <td>https://www.booking.com/hotel/fr/de-la-digue.f...</td>\n",
              "      <td>48.59</td>\n",
              "      <td>-1.53</td>\n",
              "      <td>7.1</td>\n",
              "      <td>L'hôtel De La Digue est un établissement trad...</td>\n",
              "    </tr>\n",
              "    <tr>\n",
              "      <th>2</th>\n",
              "      <td>Le Relais Du Roy</td>\n",
              "      <td>https://www.booking.com/hotel/fr/le-relais-du-...</td>\n",
              "      <td>48.59</td>\n",
              "      <td>-1.53</td>\n",
              "      <td>7.9</td>\n",
              "      <td>Vous pouvez bénéficier d'une réduction Genius ...</td>\n",
              "    </tr>\n",
              "    <tr>\n",
              "      <th>3</th>\n",
              "      <td>Hôtel Vert</td>\n",
              "      <td>https://www.booking.com/hotel/fr/vert.fr.html</td>\n",
              "      <td>48.59</td>\n",
              "      <td>-1.53</td>\n",
              "      <td>8.0</td>\n",
              "      <td>Vous pouvez bénéficier d'une réduction Genius ...</td>\n",
              "    </tr>\n",
              "    <tr>\n",
              "      <th>4</th>\n",
              "      <td>Les Terrasses Poulard</td>\n",
              "      <td>https://www.booking.com/hotel/fr/les-terrasses...</td>\n",
              "      <td>48.59</td>\n",
              "      <td>-1.53</td>\n",
              "      <td>7.3</td>\n",
              "      <td>Vous pouvez bénéficier d'une réduction Genius ...</td>\n",
              "    </tr>\n",
              "    <tr>\n",
              "      <th>5</th>\n",
              "      <td>Auberge Saint Pierre</td>\n",
              "      <td>https://www.booking.com/hotel/fr/auberge-saint...</td>\n",
              "      <td>48.59</td>\n",
              "      <td>-1.53</td>\n",
              "      <td>7.9</td>\n",
              "      <td>L'Auberge Saint-Pierre occupe une maison à co...</td>\n",
              "    </tr>\n",
              "    <tr>\n",
              "      <th>6</th>\n",
              "      <td>Le Mouton Blanc</td>\n",
              "      <td>https://www.booking.com/hotel/fr/le-mouton-bla...</td>\n",
              "      <td>48.59</td>\n",
              "      <td>-1.53</td>\n",
              "      <td>7.0</td>\n",
              "      <td>Vous pouvez bénéficier d'une réduction Genius ...</td>\n",
              "    </tr>\n",
              "    <tr>\n",
              "      <th>7</th>\n",
              "      <td>Le Relais Saint Michel</td>\n",
              "      <td>https://www.booking.com/hotel/fr/le-relais-sai...</td>\n",
              "      <td>48.59</td>\n",
              "      <td>-1.53</td>\n",
              "      <td>7.9</td>\n",
              "      <td>Vous pouvez bénéficier d'une réduction Genius ...</td>\n",
              "    </tr>\n",
              "    <tr>\n",
              "      <th>8</th>\n",
              "      <td>Le Saint Aubert</td>\n",
              "      <td>https://www.booking.com/hotel/fr/hotel-saint-a...</td>\n",
              "      <td>48.59</td>\n",
              "      <td>-1.53</td>\n",
              "      <td>7.0</td>\n",
              "      <td>Niché dans un écrin de verdure, à seulement 2...</td>\n",
              "    </tr>\n",
              "  </tbody>\n",
              "</table>\n",
              "</div>\n",
              "      <button class=\"colab-df-convert\" onclick=\"convertToInteractive('df-1638080a-c5fb-4fc2-9567-69423e3c66d8')\"\n",
              "              title=\"Convert this dataframe to an interactive table.\"\n",
              "              style=\"display:none;\">\n",
              "        \n",
              "  <svg xmlns=\"http://www.w3.org/2000/svg\" height=\"24px\"viewBox=\"0 0 24 24\"\n",
              "       width=\"24px\">\n",
              "    <path d=\"M0 0h24v24H0V0z\" fill=\"none\"/>\n",
              "    <path d=\"M18.56 5.44l.94 2.06.94-2.06 2.06-.94-2.06-.94-.94-2.06-.94 2.06-2.06.94zm-11 1L8.5 8.5l.94-2.06 2.06-.94-2.06-.94L8.5 2.5l-.94 2.06-2.06.94zm10 10l.94 2.06.94-2.06 2.06-.94-2.06-.94-.94-2.06-.94 2.06-2.06.94z\"/><path d=\"M17.41 7.96l-1.37-1.37c-.4-.4-.92-.59-1.43-.59-.52 0-1.04.2-1.43.59L10.3 9.45l-7.72 7.72c-.78.78-.78 2.05 0 2.83L4 21.41c.39.39.9.59 1.41.59.51 0 1.02-.2 1.41-.59l7.78-7.78 2.81-2.81c.8-.78.8-2.07 0-2.86zM5.41 20L4 18.59l7.72-7.72 1.47 1.35L5.41 20z\"/>\n",
              "  </svg>\n",
              "      </button>\n",
              "      \n",
              "  <style>\n",
              "    .colab-df-container {\n",
              "      display:flex;\n",
              "      flex-wrap:wrap;\n",
              "      gap: 12px;\n",
              "    }\n",
              "\n",
              "    .colab-df-convert {\n",
              "      background-color: #E8F0FE;\n",
              "      border: none;\n",
              "      border-radius: 50%;\n",
              "      cursor: pointer;\n",
              "      display: none;\n",
              "      fill: #1967D2;\n",
              "      height: 32px;\n",
              "      padding: 0 0 0 0;\n",
              "      width: 32px;\n",
              "    }\n",
              "\n",
              "    .colab-df-convert:hover {\n",
              "      background-color: #E2EBFA;\n",
              "      box-shadow: 0px 1px 2px rgba(60, 64, 67, 0.3), 0px 1px 3px 1px rgba(60, 64, 67, 0.15);\n",
              "      fill: #174EA6;\n",
              "    }\n",
              "\n",
              "    [theme=dark] .colab-df-convert {\n",
              "      background-color: #3B4455;\n",
              "      fill: #D2E3FC;\n",
              "    }\n",
              "\n",
              "    [theme=dark] .colab-df-convert:hover {\n",
              "      background-color: #434B5C;\n",
              "      box-shadow: 0px 1px 3px 1px rgba(0, 0, 0, 0.15);\n",
              "      filter: drop-shadow(0px 1px 2px rgba(0, 0, 0, 0.3));\n",
              "      fill: #FFFFFF;\n",
              "    }\n",
              "  </style>\n",
              "\n",
              "      <script>\n",
              "        const buttonEl =\n",
              "          document.querySelector('#df-1638080a-c5fb-4fc2-9567-69423e3c66d8 button.colab-df-convert');\n",
              "        buttonEl.style.display =\n",
              "          google.colab.kernel.accessAllowed ? 'block' : 'none';\n",
              "\n",
              "        async function convertToInteractive(key) {\n",
              "          const element = document.querySelector('#df-1638080a-c5fb-4fc2-9567-69423e3c66d8');\n",
              "          const dataTable =\n",
              "            await google.colab.kernel.invokeFunction('convertToInteractive',\n",
              "                                                     [key], {});\n",
              "          if (!dataTable) return;\n",
              "\n",
              "          const docLinkHtml = 'Like what you see? Visit the ' +\n",
              "            '<a target=\"_blank\" href=https://colab.research.google.com/notebooks/data_table.ipynb>data table notebook</a>'\n",
              "            + ' to learn more about interactive tables.';\n",
              "          element.innerHTML = '';\n",
              "          dataTable['output_type'] = 'display_data';\n",
              "          await google.colab.output.renderOutput(dataTable, element);\n",
              "          const docLink = document.createElement('div');\n",
              "          docLink.innerHTML = docLinkHtml;\n",
              "          element.appendChild(docLink);\n",
              "        }\n",
              "      </script>\n",
              "    </div>\n",
              "  </div>\n",
              "  "
            ]
          },
          "metadata": {}
        },
        {
          "output_type": "stream",
          "name": "stdout",
          "text": [
            "Data Final\n"
          ]
        },
        {
          "output_type": "display_data",
          "data": {
            "text/plain": [
              "                                               names  \\\n",
              "0             Best Western Plus Le Havre Centre Gare   \n",
              "1         Mercure Le Havre Centre Bassin Du Commerce   \n",
              "2                        ibis Styles Le Havre Centre   \n",
              "3                                       Le Richelieu   \n",
              "4                              Best Western ARThotel   \n",
              "5                       Novotel Le Havre Centre Gare   \n",
              "6          Hôtel Les Gens De Mer Le Havre by Popinns   \n",
              "7                       Birgit Hôtel Le Havre Centre   \n",
              "8                     B&B HOTEL Le Havre Centre Gare   \n",
              "0                                Relais des 3 Pommes   \n",
              "1                                     Au Georges VII   \n",
              "2                               Château Saint Gilles   \n",
              "3                              La Maison de Mathilde   \n",
              "4                                   Villa Lara Hotel   \n",
              "5                           Château de Bellefontaine   \n",
              "6  Hotel Le Lion D'Or et Restaurant La Table Du Lion   \n",
              "7                                         Le Mogador   \n",
              "8                              La Maison de Mathilde   \n",
              "0                                    Hôtel L'Adresse   \n",
              "1                        Mercure Saint Malo Balmoral   \n",
              "2                                      Hôtel Cartier   \n",
              "3                        ibis Styles Saint Malo Port   \n",
              "4           ibis Styles Saint Malo Centre Historique   \n",
              "5                             Cit'Hotel La Marinière   \n",
              "6                       Mercure St Malo Front de Mer   \n",
              "7                         Château Hôtel Du Colombier   \n",
              "8                        B&B HOTEL Saint-Malo Centre   \n",
              "0                                      Hotel Gabriel   \n",
              "1                                  Hotel De La Digue   \n",
              "2                                   Le Relais Du Roy   \n",
              "3                                         Hôtel Vert   \n",
              "4                              Les Terrasses Poulard   \n",
              "5                               Auberge Saint Pierre   \n",
              "6                                    Le Mouton Blanc   \n",
              "7                             Le Relais Saint Michel   \n",
              "8                                    Le Saint Aubert   \n",
              "\n",
              "                                               links    lat    lon  \\\n",
              "0  https://www.booking.com/hotel/fr/hotelterminus...  49.47  0.089   \n",
              "1  https://www.booking.com/hotel/fr/mercure-bassi...  49.47  0.089   \n",
              "2  https://www.booking.com/hotel/fr/citotel-le-ma...  49.47  0.089   \n",
              "3  https://www.booking.com/hotel/fr/le-richelieu-...  49.47  0.089   \n",
              "4       https://www.booking.com/hotel/fr/art.fr.html  49.47  0.089   \n",
              "5  https://www.booking.com/hotel/fr/novotellehavr...  49.47  0.089   \n",
              "6  https://www.booking.com/hotel/fr/les-gens-de-m...  49.47  0.089   \n",
              "7  https://www.booking.com/hotel/fr/kyriadlehavre...  49.47  0.089   \n",
              "8  https://www.booking.com/hotel/fr/b-b-le-havre-...  49.47  0.089   \n",
              "0  https://www.booking.com/hotel/fr/le-relais-des...  49.25 -0.720   \n",
              "1  https://www.booking.com/hotel/fr/au-georges-vi...  49.25 -0.720   \n",
              "2  https://www.booking.com/hotel/fr/chateau-saint...  49.25 -0.720   \n",
              "3  https://www.booking.com/hotel/fr/la-maison-de-...  49.25 -0.720   \n",
              "4  https://www.booking.com/hotel/fr/villa-lara-ha...  49.25 -0.720   \n",
              "5  https://www.booking.com/hotel/fr/chateau-de-be...  49.25 -0.720   \n",
              "6  https://www.booking.com/hotel/fr/le-lion-d-or-...  49.25 -0.720   \n",
              "7  https://www.booking.com/hotel/fr/le-mogador-ba...  49.25 -0.720   \n",
              "8  https://www.booking.com/hotel/fr/la-maison-de-...  49.25 -0.720   \n",
              "0   https://www.booking.com/hotel/fr/adresse.fr.html  48.62 -2.030   \n",
              "1  https://www.booking.com/hotel/fr/best-western-...  48.62 -2.030   \n",
              "2   https://www.booking.com/hotel/fr/cartier.fr.html  48.62 -2.030   \n",
              "3  https://www.booking.com/hotel/fr/ibis-styles-s...  48.62 -2.030   \n",
              "4  https://www.booking.com/hotel/fr/all-seasons-s...  48.62 -2.030   \n",
              "5  https://www.booking.com/hotel/fr/aux-voyageurs...  48.62 -2.030   \n",
              "6  https://www.booking.com/hotel/fr/st-malo-front...  48.62 -2.030   \n",
              "7  https://www.booking.com/hotel/fr/chateau-du-co...  48.62 -2.030   \n",
              "8  https://www.booking.com/hotel/fr/b-b-saint-mal...  48.62 -2.030   \n",
              "0  https://www.booking.com/hotel/fr/hotel-gabriel...  48.59 -1.530   \n",
              "1  https://www.booking.com/hotel/fr/de-la-digue.f...  48.59 -1.530   \n",
              "2  https://www.booking.com/hotel/fr/le-relais-du-...  48.59 -1.530   \n",
              "3      https://www.booking.com/hotel/fr/vert.fr.html  48.59 -1.530   \n",
              "4  https://www.booking.com/hotel/fr/les-terrasses...  48.59 -1.530   \n",
              "5  https://www.booking.com/hotel/fr/auberge-saint...  48.59 -1.530   \n",
              "6  https://www.booking.com/hotel/fr/le-mouton-bla...  48.59 -1.530   \n",
              "7  https://www.booking.com/hotel/fr/le-relais-sai...  48.59 -1.530   \n",
              "8  https://www.booking.com/hotel/fr/hotel-saint-a...  48.59 -1.530   \n",
              "\n",
              "   hotel_note                                        description  \n",
              "0         8.4   Situé dans le centre du Havre, à seulement 10...  \n",
              "1         7.5  Vous pouvez bénéficier d'une réduction Genius ...  \n",
              "2         6.8   L'ibis Styles Marly Le Havre Centre est situé...  \n",
              "3         6.7   Le Citotel Le Richelieu est situé entre la ma...  \n",
              "4         7.8  Vous pouvez bénéficier d'une réduction Genius ...  \n",
              "5         7.8   Le Novotel Le Havre est situé sur le front de...  \n",
              "6         6.1  Vous pouvez bénéficier d'une réduction Genius ...  \n",
              "7         8.2  Vous pouvez bénéficier d'une réduction Genius ...  \n",
              "8         6.8   Proposant un hébergement 3 étoiles, le B&B HO...  \n",
              "0         6.9   Situé à Bayeux, en Normandie, cet hôtel dispo...  \n",
              "1         5.6   L'établissement 1 étoile Au Georges VII est s...  \n",
              "2         9.6   Situé à Bayeux, à 4,6 km du musée Baron Gérar...  \n",
              "3         9.0   La Maison de Mathilde vous accueille à Bayeux...  \n",
              "4         9.6   La Villa Lara Hotel est un petit boutique hôt...  \n",
              "5         8.1   À 800 mètres du centre de Bayeux et de sa cat...  \n",
              "6         8.7   Occupant un ancien bureau de poste du XVIIIe ...  \n",
              "7         7.8   L'établissement Le Mogador est situé à Bayeux...  \n",
              "8         9.0   La Maison de Mathilde vous accueille à Bayeux...  \n",
              "0         8.7  Vous pouvez bénéficier d'une réduction Genius ...  \n",
              "1         8.2   Situé à Saint-Malo, en face de la gare et à 1...  \n",
              "2         8.3  Vous pouvez bénéficier d'une réduction Genius ...  \n",
              "3         7.7   Doté d'un snack-bar et d'une connexion Wi-Fi ...  \n",
              "4         7.7   L'ibis Styles Saint-Malo Centre Historique es...  \n",
              "5         7.1   Situé à Saint-Malo, à moins de 1 km de la pla...  \n",
              "6         7.7   Le Mercure St Malo Front de Mer propose un hé...  \n",
              "7         9.0  Vous pouvez bénéficier d'une réduction Genius ...  \n",
              "8         7.0   Le B&B HOTEL Saint-Malo Centre est situé à Sa...  \n",
              "0         7.9  Vous pouvez bénéficier d'une réduction Genius ...  \n",
              "1         7.1   L'hôtel De La Digue est un établissement trad...  \n",
              "2         7.9  Vous pouvez bénéficier d'une réduction Genius ...  \n",
              "3         8.0  Vous pouvez bénéficier d'une réduction Genius ...  \n",
              "4         7.3  Vous pouvez bénéficier d'une réduction Genius ...  \n",
              "5         7.9   L'Auberge Saint-Pierre occupe une maison à co...  \n",
              "6         7.0  Vous pouvez bénéficier d'une réduction Genius ...  \n",
              "7         7.9  Vous pouvez bénéficier d'une réduction Genius ...  \n",
              "8         7.0   Niché dans un écrin de verdure, à seulement 2...  "
            ],
            "text/html": [
              "\n",
              "  <div id=\"df-cffbaeae-da49-4628-961e-6f976260a37a\">\n",
              "    <div class=\"colab-df-container\">\n",
              "      <div>\n",
              "<style scoped>\n",
              "    .dataframe tbody tr th:only-of-type {\n",
              "        vertical-align: middle;\n",
              "    }\n",
              "\n",
              "    .dataframe tbody tr th {\n",
              "        vertical-align: top;\n",
              "    }\n",
              "\n",
              "    .dataframe thead th {\n",
              "        text-align: right;\n",
              "    }\n",
              "</style>\n",
              "<table border=\"1\" class=\"dataframe\">\n",
              "  <thead>\n",
              "    <tr style=\"text-align: right;\">\n",
              "      <th></th>\n",
              "      <th>names</th>\n",
              "      <th>links</th>\n",
              "      <th>lat</th>\n",
              "      <th>lon</th>\n",
              "      <th>hotel_note</th>\n",
              "      <th>description</th>\n",
              "    </tr>\n",
              "  </thead>\n",
              "  <tbody>\n",
              "    <tr>\n",
              "      <th>0</th>\n",
              "      <td>Best Western Plus Le Havre Centre Gare</td>\n",
              "      <td>https://www.booking.com/hotel/fr/hotelterminus...</td>\n",
              "      <td>49.47</td>\n",
              "      <td>0.089</td>\n",
              "      <td>8.4</td>\n",
              "      <td>Situé dans le centre du Havre, à seulement 10...</td>\n",
              "    </tr>\n",
              "    <tr>\n",
              "      <th>1</th>\n",
              "      <td>Mercure Le Havre Centre Bassin Du Commerce</td>\n",
              "      <td>https://www.booking.com/hotel/fr/mercure-bassi...</td>\n",
              "      <td>49.47</td>\n",
              "      <td>0.089</td>\n",
              "      <td>7.5</td>\n",
              "      <td>Vous pouvez bénéficier d'une réduction Genius ...</td>\n",
              "    </tr>\n",
              "    <tr>\n",
              "      <th>2</th>\n",
              "      <td>ibis Styles Le Havre Centre</td>\n",
              "      <td>https://www.booking.com/hotel/fr/citotel-le-ma...</td>\n",
              "      <td>49.47</td>\n",
              "      <td>0.089</td>\n",
              "      <td>6.8</td>\n",
              "      <td>L'ibis Styles Marly Le Havre Centre est situé...</td>\n",
              "    </tr>\n",
              "    <tr>\n",
              "      <th>3</th>\n",
              "      <td>Le Richelieu</td>\n",
              "      <td>https://www.booking.com/hotel/fr/le-richelieu-...</td>\n",
              "      <td>49.47</td>\n",
              "      <td>0.089</td>\n",
              "      <td>6.7</td>\n",
              "      <td>Le Citotel Le Richelieu est situé entre la ma...</td>\n",
              "    </tr>\n",
              "    <tr>\n",
              "      <th>4</th>\n",
              "      <td>Best Western ARThotel</td>\n",
              "      <td>https://www.booking.com/hotel/fr/art.fr.html</td>\n",
              "      <td>49.47</td>\n",
              "      <td>0.089</td>\n",
              "      <td>7.8</td>\n",
              "      <td>Vous pouvez bénéficier d'une réduction Genius ...</td>\n",
              "    </tr>\n",
              "    <tr>\n",
              "      <th>5</th>\n",
              "      <td>Novotel Le Havre Centre Gare</td>\n",
              "      <td>https://www.booking.com/hotel/fr/novotellehavr...</td>\n",
              "      <td>49.47</td>\n",
              "      <td>0.089</td>\n",
              "      <td>7.8</td>\n",
              "      <td>Le Novotel Le Havre est situé sur le front de...</td>\n",
              "    </tr>\n",
              "    <tr>\n",
              "      <th>6</th>\n",
              "      <td>Hôtel Les Gens De Mer Le Havre by Popinns</td>\n",
              "      <td>https://www.booking.com/hotel/fr/les-gens-de-m...</td>\n",
              "      <td>49.47</td>\n",
              "      <td>0.089</td>\n",
              "      <td>6.1</td>\n",
              "      <td>Vous pouvez bénéficier d'une réduction Genius ...</td>\n",
              "    </tr>\n",
              "    <tr>\n",
              "      <th>7</th>\n",
              "      <td>Birgit Hôtel Le Havre Centre</td>\n",
              "      <td>https://www.booking.com/hotel/fr/kyriadlehavre...</td>\n",
              "      <td>49.47</td>\n",
              "      <td>0.089</td>\n",
              "      <td>8.2</td>\n",
              "      <td>Vous pouvez bénéficier d'une réduction Genius ...</td>\n",
              "    </tr>\n",
              "    <tr>\n",
              "      <th>8</th>\n",
              "      <td>B&amp;B HOTEL Le Havre Centre Gare</td>\n",
              "      <td>https://www.booking.com/hotel/fr/b-b-le-havre-...</td>\n",
              "      <td>49.47</td>\n",
              "      <td>0.089</td>\n",
              "      <td>6.8</td>\n",
              "      <td>Proposant un hébergement 3 étoiles, le B&amp;B HO...</td>\n",
              "    </tr>\n",
              "    <tr>\n",
              "      <th>0</th>\n",
              "      <td>Relais des 3 Pommes</td>\n",
              "      <td>https://www.booking.com/hotel/fr/le-relais-des...</td>\n",
              "      <td>49.25</td>\n",
              "      <td>-0.720</td>\n",
              "      <td>6.9</td>\n",
              "      <td>Situé à Bayeux, en Normandie, cet hôtel dispo...</td>\n",
              "    </tr>\n",
              "    <tr>\n",
              "      <th>1</th>\n",
              "      <td>Au Georges VII</td>\n",
              "      <td>https://www.booking.com/hotel/fr/au-georges-vi...</td>\n",
              "      <td>49.25</td>\n",
              "      <td>-0.720</td>\n",
              "      <td>5.6</td>\n",
              "      <td>L'établissement 1 étoile Au Georges VII est s...</td>\n",
              "    </tr>\n",
              "    <tr>\n",
              "      <th>2</th>\n",
              "      <td>Château Saint Gilles</td>\n",
              "      <td>https://www.booking.com/hotel/fr/chateau-saint...</td>\n",
              "      <td>49.25</td>\n",
              "      <td>-0.720</td>\n",
              "      <td>9.6</td>\n",
              "      <td>Situé à Bayeux, à 4,6 km du musée Baron Gérar...</td>\n",
              "    </tr>\n",
              "    <tr>\n",
              "      <th>3</th>\n",
              "      <td>La Maison de Mathilde</td>\n",
              "      <td>https://www.booking.com/hotel/fr/la-maison-de-...</td>\n",
              "      <td>49.25</td>\n",
              "      <td>-0.720</td>\n",
              "      <td>9.0</td>\n",
              "      <td>La Maison de Mathilde vous accueille à Bayeux...</td>\n",
              "    </tr>\n",
              "    <tr>\n",
              "      <th>4</th>\n",
              "      <td>Villa Lara Hotel</td>\n",
              "      <td>https://www.booking.com/hotel/fr/villa-lara-ha...</td>\n",
              "      <td>49.25</td>\n",
              "      <td>-0.720</td>\n",
              "      <td>9.6</td>\n",
              "      <td>La Villa Lara Hotel est un petit boutique hôt...</td>\n",
              "    </tr>\n",
              "    <tr>\n",
              "      <th>5</th>\n",
              "      <td>Château de Bellefontaine</td>\n",
              "      <td>https://www.booking.com/hotel/fr/chateau-de-be...</td>\n",
              "      <td>49.25</td>\n",
              "      <td>-0.720</td>\n",
              "      <td>8.1</td>\n",
              "      <td>À 800 mètres du centre de Bayeux et de sa cat...</td>\n",
              "    </tr>\n",
              "    <tr>\n",
              "      <th>6</th>\n",
              "      <td>Hotel Le Lion D'Or et Restaurant La Table Du Lion</td>\n",
              "      <td>https://www.booking.com/hotel/fr/le-lion-d-or-...</td>\n",
              "      <td>49.25</td>\n",
              "      <td>-0.720</td>\n",
              "      <td>8.7</td>\n",
              "      <td>Occupant un ancien bureau de poste du XVIIIe ...</td>\n",
              "    </tr>\n",
              "    <tr>\n",
              "      <th>7</th>\n",
              "      <td>Le Mogador</td>\n",
              "      <td>https://www.booking.com/hotel/fr/le-mogador-ba...</td>\n",
              "      <td>49.25</td>\n",
              "      <td>-0.720</td>\n",
              "      <td>7.8</td>\n",
              "      <td>L'établissement Le Mogador est situé à Bayeux...</td>\n",
              "    </tr>\n",
              "    <tr>\n",
              "      <th>8</th>\n",
              "      <td>La Maison de Mathilde</td>\n",
              "      <td>https://www.booking.com/hotel/fr/la-maison-de-...</td>\n",
              "      <td>49.25</td>\n",
              "      <td>-0.720</td>\n",
              "      <td>9.0</td>\n",
              "      <td>La Maison de Mathilde vous accueille à Bayeux...</td>\n",
              "    </tr>\n",
              "    <tr>\n",
              "      <th>0</th>\n",
              "      <td>Hôtel L'Adresse</td>\n",
              "      <td>https://www.booking.com/hotel/fr/adresse.fr.html</td>\n",
              "      <td>48.62</td>\n",
              "      <td>-2.030</td>\n",
              "      <td>8.7</td>\n",
              "      <td>Vous pouvez bénéficier d'une réduction Genius ...</td>\n",
              "    </tr>\n",
              "    <tr>\n",
              "      <th>1</th>\n",
              "      <td>Mercure Saint Malo Balmoral</td>\n",
              "      <td>https://www.booking.com/hotel/fr/best-western-...</td>\n",
              "      <td>48.62</td>\n",
              "      <td>-2.030</td>\n",
              "      <td>8.2</td>\n",
              "      <td>Situé à Saint-Malo, en face de la gare et à 1...</td>\n",
              "    </tr>\n",
              "    <tr>\n",
              "      <th>2</th>\n",
              "      <td>Hôtel Cartier</td>\n",
              "      <td>https://www.booking.com/hotel/fr/cartier.fr.html</td>\n",
              "      <td>48.62</td>\n",
              "      <td>-2.030</td>\n",
              "      <td>8.3</td>\n",
              "      <td>Vous pouvez bénéficier d'une réduction Genius ...</td>\n",
              "    </tr>\n",
              "    <tr>\n",
              "      <th>3</th>\n",
              "      <td>ibis Styles Saint Malo Port</td>\n",
              "      <td>https://www.booking.com/hotel/fr/ibis-styles-s...</td>\n",
              "      <td>48.62</td>\n",
              "      <td>-2.030</td>\n",
              "      <td>7.7</td>\n",
              "      <td>Doté d'un snack-bar et d'une connexion Wi-Fi ...</td>\n",
              "    </tr>\n",
              "    <tr>\n",
              "      <th>4</th>\n",
              "      <td>ibis Styles Saint Malo Centre Historique</td>\n",
              "      <td>https://www.booking.com/hotel/fr/all-seasons-s...</td>\n",
              "      <td>48.62</td>\n",
              "      <td>-2.030</td>\n",
              "      <td>7.7</td>\n",
              "      <td>L'ibis Styles Saint-Malo Centre Historique es...</td>\n",
              "    </tr>\n",
              "    <tr>\n",
              "      <th>5</th>\n",
              "      <td>Cit'Hotel La Marinière</td>\n",
              "      <td>https://www.booking.com/hotel/fr/aux-voyageurs...</td>\n",
              "      <td>48.62</td>\n",
              "      <td>-2.030</td>\n",
              "      <td>7.1</td>\n",
              "      <td>Situé à Saint-Malo, à moins de 1 km de la pla...</td>\n",
              "    </tr>\n",
              "    <tr>\n",
              "      <th>6</th>\n",
              "      <td>Mercure St Malo Front de Mer</td>\n",
              "      <td>https://www.booking.com/hotel/fr/st-malo-front...</td>\n",
              "      <td>48.62</td>\n",
              "      <td>-2.030</td>\n",
              "      <td>7.7</td>\n",
              "      <td>Le Mercure St Malo Front de Mer propose un hé...</td>\n",
              "    </tr>\n",
              "    <tr>\n",
              "      <th>7</th>\n",
              "      <td>Château Hôtel Du Colombier</td>\n",
              "      <td>https://www.booking.com/hotel/fr/chateau-du-co...</td>\n",
              "      <td>48.62</td>\n",
              "      <td>-2.030</td>\n",
              "      <td>9.0</td>\n",
              "      <td>Vous pouvez bénéficier d'une réduction Genius ...</td>\n",
              "    </tr>\n",
              "    <tr>\n",
              "      <th>8</th>\n",
              "      <td>B&amp;B HOTEL Saint-Malo Centre</td>\n",
              "      <td>https://www.booking.com/hotel/fr/b-b-saint-mal...</td>\n",
              "      <td>48.62</td>\n",
              "      <td>-2.030</td>\n",
              "      <td>7.0</td>\n",
              "      <td>Le B&amp;B HOTEL Saint-Malo Centre est situé à Sa...</td>\n",
              "    </tr>\n",
              "    <tr>\n",
              "      <th>0</th>\n",
              "      <td>Hotel Gabriel</td>\n",
              "      <td>https://www.booking.com/hotel/fr/hotel-gabriel...</td>\n",
              "      <td>48.59</td>\n",
              "      <td>-1.530</td>\n",
              "      <td>7.9</td>\n",
              "      <td>Vous pouvez bénéficier d'une réduction Genius ...</td>\n",
              "    </tr>\n",
              "    <tr>\n",
              "      <th>1</th>\n",
              "      <td>Hotel De La Digue</td>\n",
              "      <td>https://www.booking.com/hotel/fr/de-la-digue.f...</td>\n",
              "      <td>48.59</td>\n",
              "      <td>-1.530</td>\n",
              "      <td>7.1</td>\n",
              "      <td>L'hôtel De La Digue est un établissement trad...</td>\n",
              "    </tr>\n",
              "    <tr>\n",
              "      <th>2</th>\n",
              "      <td>Le Relais Du Roy</td>\n",
              "      <td>https://www.booking.com/hotel/fr/le-relais-du-...</td>\n",
              "      <td>48.59</td>\n",
              "      <td>-1.530</td>\n",
              "      <td>7.9</td>\n",
              "      <td>Vous pouvez bénéficier d'une réduction Genius ...</td>\n",
              "    </tr>\n",
              "    <tr>\n",
              "      <th>3</th>\n",
              "      <td>Hôtel Vert</td>\n",
              "      <td>https://www.booking.com/hotel/fr/vert.fr.html</td>\n",
              "      <td>48.59</td>\n",
              "      <td>-1.530</td>\n",
              "      <td>8.0</td>\n",
              "      <td>Vous pouvez bénéficier d'une réduction Genius ...</td>\n",
              "    </tr>\n",
              "    <tr>\n",
              "      <th>4</th>\n",
              "      <td>Les Terrasses Poulard</td>\n",
              "      <td>https://www.booking.com/hotel/fr/les-terrasses...</td>\n",
              "      <td>48.59</td>\n",
              "      <td>-1.530</td>\n",
              "      <td>7.3</td>\n",
              "      <td>Vous pouvez bénéficier d'une réduction Genius ...</td>\n",
              "    </tr>\n",
              "    <tr>\n",
              "      <th>5</th>\n",
              "      <td>Auberge Saint Pierre</td>\n",
              "      <td>https://www.booking.com/hotel/fr/auberge-saint...</td>\n",
              "      <td>48.59</td>\n",
              "      <td>-1.530</td>\n",
              "      <td>7.9</td>\n",
              "      <td>L'Auberge Saint-Pierre occupe une maison à co...</td>\n",
              "    </tr>\n",
              "    <tr>\n",
              "      <th>6</th>\n",
              "      <td>Le Mouton Blanc</td>\n",
              "      <td>https://www.booking.com/hotel/fr/le-mouton-bla...</td>\n",
              "      <td>48.59</td>\n",
              "      <td>-1.530</td>\n",
              "      <td>7.0</td>\n",
              "      <td>Vous pouvez bénéficier d'une réduction Genius ...</td>\n",
              "    </tr>\n",
              "    <tr>\n",
              "      <th>7</th>\n",
              "      <td>Le Relais Saint Michel</td>\n",
              "      <td>https://www.booking.com/hotel/fr/le-relais-sai...</td>\n",
              "      <td>48.59</td>\n",
              "      <td>-1.530</td>\n",
              "      <td>7.9</td>\n",
              "      <td>Vous pouvez bénéficier d'une réduction Genius ...</td>\n",
              "    </tr>\n",
              "    <tr>\n",
              "      <th>8</th>\n",
              "      <td>Le Saint Aubert</td>\n",
              "      <td>https://www.booking.com/hotel/fr/hotel-saint-a...</td>\n",
              "      <td>48.59</td>\n",
              "      <td>-1.530</td>\n",
              "      <td>7.0</td>\n",
              "      <td>Niché dans un écrin de verdure, à seulement 2...</td>\n",
              "    </tr>\n",
              "  </tbody>\n",
              "</table>\n",
              "</div>\n",
              "      <button class=\"colab-df-convert\" onclick=\"convertToInteractive('df-cffbaeae-da49-4628-961e-6f976260a37a')\"\n",
              "              title=\"Convert this dataframe to an interactive table.\"\n",
              "              style=\"display:none;\">\n",
              "        \n",
              "  <svg xmlns=\"http://www.w3.org/2000/svg\" height=\"24px\"viewBox=\"0 0 24 24\"\n",
              "       width=\"24px\">\n",
              "    <path d=\"M0 0h24v24H0V0z\" fill=\"none\"/>\n",
              "    <path d=\"M18.56 5.44l.94 2.06.94-2.06 2.06-.94-2.06-.94-.94-2.06-.94 2.06-2.06.94zm-11 1L8.5 8.5l.94-2.06 2.06-.94-2.06-.94L8.5 2.5l-.94 2.06-2.06.94zm10 10l.94 2.06.94-2.06 2.06-.94-2.06-.94-.94-2.06-.94 2.06-2.06.94z\"/><path d=\"M17.41 7.96l-1.37-1.37c-.4-.4-.92-.59-1.43-.59-.52 0-1.04.2-1.43.59L10.3 9.45l-7.72 7.72c-.78.78-.78 2.05 0 2.83L4 21.41c.39.39.9.59 1.41.59.51 0 1.02-.2 1.41-.59l7.78-7.78 2.81-2.81c.8-.78.8-2.07 0-2.86zM5.41 20L4 18.59l7.72-7.72 1.47 1.35L5.41 20z\"/>\n",
              "  </svg>\n",
              "      </button>\n",
              "      \n",
              "  <style>\n",
              "    .colab-df-container {\n",
              "      display:flex;\n",
              "      flex-wrap:wrap;\n",
              "      gap: 12px;\n",
              "    }\n",
              "\n",
              "    .colab-df-convert {\n",
              "      background-color: #E8F0FE;\n",
              "      border: none;\n",
              "      border-radius: 50%;\n",
              "      cursor: pointer;\n",
              "      display: none;\n",
              "      fill: #1967D2;\n",
              "      height: 32px;\n",
              "      padding: 0 0 0 0;\n",
              "      width: 32px;\n",
              "    }\n",
              "\n",
              "    .colab-df-convert:hover {\n",
              "      background-color: #E2EBFA;\n",
              "      box-shadow: 0px 1px 2px rgba(60, 64, 67, 0.3), 0px 1px 3px 1px rgba(60, 64, 67, 0.15);\n",
              "      fill: #174EA6;\n",
              "    }\n",
              "\n",
              "    [theme=dark] .colab-df-convert {\n",
              "      background-color: #3B4455;\n",
              "      fill: #D2E3FC;\n",
              "    }\n",
              "\n",
              "    [theme=dark] .colab-df-convert:hover {\n",
              "      background-color: #434B5C;\n",
              "      box-shadow: 0px 1px 3px 1px rgba(0, 0, 0, 0.15);\n",
              "      filter: drop-shadow(0px 1px 2px rgba(0, 0, 0, 0.3));\n",
              "      fill: #FFFFFF;\n",
              "    }\n",
              "  </style>\n",
              "\n",
              "      <script>\n",
              "        const buttonEl =\n",
              "          document.querySelector('#df-cffbaeae-da49-4628-961e-6f976260a37a button.colab-df-convert');\n",
              "        buttonEl.style.display =\n",
              "          google.colab.kernel.accessAllowed ? 'block' : 'none';\n",
              "\n",
              "        async function convertToInteractive(key) {\n",
              "          const element = document.querySelector('#df-cffbaeae-da49-4628-961e-6f976260a37a');\n",
              "          const dataTable =\n",
              "            await google.colab.kernel.invokeFunction('convertToInteractive',\n",
              "                                                     [key], {});\n",
              "          if (!dataTable) return;\n",
              "\n",
              "          const docLinkHtml = 'Like what you see? Visit the ' +\n",
              "            '<a target=\"_blank\" href=https://colab.research.google.com/notebooks/data_table.ipynb>data table notebook</a>'\n",
              "            + ' to learn more about interactive tables.';\n",
              "          element.innerHTML = '';\n",
              "          dataTable['output_type'] = 'display_data';\n",
              "          await google.colab.output.renderOutput(dataTable, element);\n",
              "          const docLink = document.createElement('div');\n",
              "          docLink.innerHTML = docLinkHtml;\n",
              "          element.appendChild(docLink);\n",
              "        }\n",
              "      </script>\n",
              "    </div>\n",
              "  </div>\n",
              "  "
            ]
          },
          "metadata": {}
        }
      ]
    },
    {
      "cell_type": "code",
      "source": [],
      "metadata": {
        "id": "dOSCdRuNaLcx"
      },
      "execution_count": null,
      "outputs": []
    }
  ]
}